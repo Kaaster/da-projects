{
 "cells": [
  {
   "cell_type": "markdown",
   "metadata": {
    "id": "P3WBOzAAffDp"
   },
   "source": [
    "task: https://www.kaggle.com/datasets/yufengsui/mobile-games-ab-testing\n",
    "\n",
    "This project is based on a mini project from Datacamp.\n",
    "\n",
    "In this project, we will analyze the result of an A/B test where the first gate in Cookie Cats was moved from level 30 to level 40."
   ]
  },
  {
   "cell_type": "markdown",
   "metadata": {
    "id": "ISxf9H8OsaX0"
   },
   "source": [
    "# import"
   ]
  },
  {
   "cell_type": "code",
   "execution_count": 1,
   "metadata": {
    "id": "5gVWYzG_cDHy"
   },
   "outputs": [],
   "source": [
    "import warnings\n",
    "warnings.simplefilter(action='ignore', category=FutureWarning)\n",
    "\n",
    "import pandas as pd\n",
    "import numpy as np\n",
    "from scipy import stats\n",
    "from statsmodels.stats.proportion import proportions_ztest\n",
    "from sklearn.ensemble import IsolationForest\n",
    "\n",
    "import matplotlib.pyplot as plt\n",
    "import seaborn as sns\n",
    "sns.set()\n",
    "\n",
    "from tqdm.auto import tqdm"
   ]
  },
  {
   "cell_type": "code",
   "execution_count": 2,
   "metadata": {
    "id": "nTjTG9f6fng_"
   },
   "outputs": [],
   "source": [
    "def remove_outliers_isolation_forest(data, contamination=0.05):\n",
    "    clf = IsolationForest(contamination=contamination) # contamination - доля аномалий в данных\n",
    "    y_pred = clf.fit_predict(data.reshape(-1, 1))\n",
    "\n",
    "    return y_pred\n",
    "\n",
    "\n",
    "def remove_outliers_iqr(data, q1=25, q2=75):\n",
    "    Q1 = np.percentile(data, q1)\n",
    "    Q3 = np.percentile(data, q2)\n",
    "    IQR = Q3 - Q1\n",
    "    lower_bound = Q1 - 1.5 * IQR\n",
    "    upper_bound = Q3 + 1.5 * IQR\n",
    "\n",
    "    return [lower_bound, upper_bound]\n",
    "\n",
    "\n",
    "def get_print_result(p_value):\n",
    "    if p_value < 0.05: print('H0 rejected. p-value={}'.format(p_value))\n",
    "    else: print('Сan\\'t reject H0. p-value={}'.format(p_value))\n",
    "\n",
    "\n",
    "def get_ztest(group1, group2, print_result=False):\n",
    "    # Количество успехов в каждой выборке\n",
    "    count = np.array([\n",
    "        np.count_nonzero(group1),\n",
    "        np.count_nonzero(group2)\n",
    "    ])\n",
    "\n",
    "    # Общее количество испытаний в каждой выборке\n",
    "    nobs = np.array([\n",
    "        np.size(group1),\n",
    "        np.size(group2)\n",
    "    ])\n",
    "\n",
    "    # Выполняем Z-тест для пропорций\n",
    "    z_stat, p_value = proportions_ztest(count, nobs, alternative='two-sided')\n",
    "\n",
    "    if print_result: get_print_result(p_value)\n",
    "    else: return p_value\n",
    "\n",
    "\n",
    "def get_chi2test(group1, group2, print_result=False):\n",
    "    # Таблица сопряженности количества успехов и неудач в каждой выборке\n",
    "    contingency_table = np.array([\n",
    "        [np.count_nonzero(group1), np.size(group1)],\n",
    "        [np.count_nonzero(group2), np.size(group1)]\n",
    "    ])\n",
    "\n",
    "    # Выполнение теста Хи-квадрат Пирсона (независимость)\n",
    "    chi2, p_value, dof, expected_freq = stats.chi2_contingency(contingency_table)\n",
    "\n",
    "    if print_result: get_print_result(p_value)\n",
    "    else: return p_value\n",
    "\n",
    "\n",
    "def ttest_welch(group1, group2, print_result=False):\n",
    "    # Выполнение t-теста Уэлча\n",
    "    p_value = stats.ttest_ind(group1, group2, equal_var=False).pvalue\n",
    "\n",
    "    if print_result: get_print_result(p_value)\n",
    "    else: return p_value\n",
    "\n",
    "\n",
    "def ttest_student(group1, group2, print_result=False):\n",
    "    # Выполнение t-теста Стьюдента\n",
    "    p_value = stats.ttest_ind(group1, group2, equal_var=True).pvalue\n",
    "\n",
    "    if print_result: get_print_result(p_value)\n",
    "    else: return p_value\n",
    "\n",
    "\n",
    "def get_mannwhitneyu_test(group1, group2, print_result=False):\n",
    "    # Выполнение t-теста Стьюдента\n",
    "    p_value = stats.mannwhitneyu(group1, group2).pvalue\n",
    "\n",
    "    if print_result: get_print_result(p_value)\n",
    "    else: return p_value\n",
    "\n",
    "\n",
    "# Функция взята из karpov.courses (немного модернизирована, pd.sample заменен на np.random.choice)\n",
    "def get_bootstrap(\n",
    "    group1, # числовые значения первой выборки\n",
    "    group2, # числовые значения второй выборки\n",
    "    boot_it = 1000, # количество бутстрэп-подвыборок\n",
    "    statistic = np.mean, # интересующая нас статистика\n",
    "    bootstrap_conf_level = 0.95 # уровень значимости\n",
    "):\n",
    "    boot_len = np.max([np.size(group1), np.size(group2)])\n",
    "    boot_data = []\n",
    "\n",
    "    for i in tqdm(range(boot_it)):\n",
    "        samples_1 = np.random.choice(\n",
    "            group1,\n",
    "            size=boot_len,\n",
    "            replace=True, # выбранные значения доступны для повторного взятия\n",
    "            p=None\n",
    "        )\n",
    "        samples_2 = np.random.choice(\n",
    "            group2,\n",
    "            size=boot_len,\n",
    "            replace=True,\n",
    "            p=None\n",
    "        )\n",
    "        boot_data.append(statistic(samples_1-samples_2))\n",
    "\n",
    "\n",
    "    pd_boot_data = pd.DataFrame(boot_data)\n",
    "\n",
    "    left_quant = (1 - bootstrap_conf_level)/2\n",
    "    right_quant = 1 - (1 - bootstrap_conf_level) / 2\n",
    "    quants = pd_boot_data.quantile([left_quant, right_quant])\n",
    "\n",
    "    p_1 = stats.norm.cdf(\n",
    "        x = 0,\n",
    "        loc = np.mean(boot_data),\n",
    "        scale = np.std(boot_data)\n",
    "    )\n",
    "    p_2 = stats.norm.cdf(\n",
    "        x = 0,\n",
    "        loc = -np.mean(boot_data),\n",
    "        scale = np.std(boot_data)\n",
    "    )\n",
    "    p_value = min(p_1, p_2) * 2\n",
    "\n",
    "    # Визуализация\n",
    "    _, _, bars = plt.hist(pd_boot_data[0], bins = 50)\n",
    "    for bar in bars:\n",
    "        if abs(bar.get_x()) <= quants.iloc[0][0] or abs(bar.get_x()) >= quants.iloc[1][0]:\n",
    "            bar.set_facecolor('red')\n",
    "        else:\n",
    "            bar.set_facecolor('grey')\n",
    "            bar.set_edgecolor('black')\n",
    "\n",
    "    plt.style.use('ggplot')\n",
    "    plt.vlines(quants, ymin=0,ymax=50,linestyle='--')\n",
    "    plt.xlabel('boot_data')\n",
    "    plt.ylabel('frequency')\n",
    "    plt.title(\"Histogram of boot_data\")\n",
    "    plt.show()\n",
    "\n",
    "    return {\n",
    "        \"boot_data\": boot_data,\n",
    "        \"quants\": quants,\n",
    "        \"p_value\": p_value\n",
    "    }"
   ]
  },
  {
   "cell_type": "markdown",
   "metadata": {
    "id": "-EN34x_7shyV",
    "jp-MarkdownHeadingCollapsed": true
   },
   "source": [
    "# data explore"
   ]
  },
  {
   "cell_type": "code",
   "execution_count": 3,
   "metadata": {
    "colab": {
     "base_uri": "https://localhost:8080/",
     "height": 206
    },
    "id": "YHyjPkKTcMvq",
    "outputId": "68b8aadd-c141-4596-8d83-ba81d0d13be6"
   },
   "outputs": [
    {
     "data": {
      "text/html": [
       "<div>\n",
       "<style scoped>\n",
       "    .dataframe tbody tr th:only-of-type {\n",
       "        vertical-align: middle;\n",
       "    }\n",
       "\n",
       "    .dataframe tbody tr th {\n",
       "        vertical-align: top;\n",
       "    }\n",
       "\n",
       "    .dataframe thead th {\n",
       "        text-align: right;\n",
       "    }\n",
       "</style>\n",
       "<table border=\"1\" class=\"dataframe\">\n",
       "  <thead>\n",
       "    <tr style=\"text-align: right;\">\n",
       "      <th></th>\n",
       "      <th>userid</th>\n",
       "      <th>version</th>\n",
       "      <th>sum_gamerounds</th>\n",
       "      <th>retention_1</th>\n",
       "      <th>retention_7</th>\n",
       "    </tr>\n",
       "  </thead>\n",
       "  <tbody>\n",
       "    <tr>\n",
       "      <th>0</th>\n",
       "      <td>116</td>\n",
       "      <td>gate_30</td>\n",
       "      <td>3</td>\n",
       "      <td>False</td>\n",
       "      <td>False</td>\n",
       "    </tr>\n",
       "    <tr>\n",
       "      <th>1</th>\n",
       "      <td>337</td>\n",
       "      <td>gate_30</td>\n",
       "      <td>38</td>\n",
       "      <td>True</td>\n",
       "      <td>False</td>\n",
       "    </tr>\n",
       "    <tr>\n",
       "      <th>2</th>\n",
       "      <td>377</td>\n",
       "      <td>gate_40</td>\n",
       "      <td>165</td>\n",
       "      <td>True</td>\n",
       "      <td>False</td>\n",
       "    </tr>\n",
       "    <tr>\n",
       "      <th>3</th>\n",
       "      <td>483</td>\n",
       "      <td>gate_40</td>\n",
       "      <td>1</td>\n",
       "      <td>False</td>\n",
       "      <td>False</td>\n",
       "    </tr>\n",
       "    <tr>\n",
       "      <th>4</th>\n",
       "      <td>488</td>\n",
       "      <td>gate_40</td>\n",
       "      <td>179</td>\n",
       "      <td>True</td>\n",
       "      <td>True</td>\n",
       "    </tr>\n",
       "  </tbody>\n",
       "</table>\n",
       "</div>"
      ],
      "text/plain": [
       "   userid  version  sum_gamerounds  retention_1  retention_7\n",
       "0     116  gate_30               3        False        False\n",
       "1     337  gate_30              38         True        False\n",
       "2     377  gate_40             165         True        False\n",
       "3     483  gate_40               1        False        False\n",
       "4     488  gate_40             179         True         True"
      ]
     },
     "execution_count": 3,
     "metadata": {},
     "output_type": "execute_result"
    }
   ],
   "source": [
    "filepath = 'cookie_cats.csv'\n",
    "\n",
    "df = pd.read_csv(filepath)\n",
    "\n",
    "# the first gate in Cookie Cats was moved from level 30 to level 40\n",
    "df.head(5)"
   ]
  },
  {
   "cell_type": "code",
   "execution_count": 4,
   "metadata": {
    "colab": {
     "base_uri": "https://localhost:8080/"
    },
    "id": "muNMw0qScMxH",
    "outputId": "d5ed8af8-bea7-4493-cf40-4d748a576610"
   },
   "outputs": [
    {
     "name": "stdout",
     "output_type": "stream",
     "text": [
      "<class 'pandas.core.frame.DataFrame'>\n",
      "RangeIndex: 90189 entries, 0 to 90188\n",
      "Data columns (total 5 columns):\n",
      " #   Column          Non-Null Count  Dtype \n",
      "---  ------          --------------  ----- \n",
      " 0   userid          90189 non-null  int64 \n",
      " 1   version         90189 non-null  object\n",
      " 2   sum_gamerounds  90189 non-null  int64 \n",
      " 3   retention_1     90189 non-null  bool  \n",
      " 4   retention_7     90189 non-null  bool  \n",
      "dtypes: bool(2), int64(2), object(1)\n",
      "memory usage: 2.2+ MB\n"
     ]
    }
   ],
   "source": [
    "df.info()"
   ]
  },
  {
   "cell_type": "code",
   "execution_count": 5,
   "metadata": {
    "colab": {
     "base_uri": "https://localhost:8080/",
     "height": 90
    },
    "id": "ZH3c1BPYcM4D",
    "outputId": "0f438e3d-9c01-42f6-fa34-35cd749cebb5"
   },
   "outputs": [
    {
     "data": {
      "text/plain": [
       "90189"
      ]
     },
     "metadata": {},
     "output_type": "display_data"
    },
    {
     "data": {
      "text/plain": [
       "version\n",
       "gate_40    45489\n",
       "gate_30    44700\n",
       "Name: count, dtype: int64"
      ]
     },
     "metadata": {},
     "output_type": "display_data"
    }
   ],
   "source": [
    "display(\n",
    "  df.userid.nunique(),\n",
    "  df.version.value_counts()\n",
    ")"
   ]
  },
  {
   "cell_type": "code",
   "execution_count": 6,
   "metadata": {
    "colab": {
     "base_uri": "https://localhost:8080/",
     "height": 389
    },
    "id": "B07gralpgPVf",
    "outputId": "1345283d-b516-43fc-86cc-46a641fd2ee5"
   },
   "outputs": [
    {
     "data": {
      "text/plain": [
       "Text(0.5, 1.0, \"y='sum_gamerounds' where df.retention_7 == True\")"
      ]
     },
     "execution_count": 6,
     "metadata": {},
     "output_type": "execute_result"
    },
    {
     "data": {
      "image/png": "[encoded data removed]",
      "text/plain": [
       "<Figure size 1800x500 with 3 Axes>"
      ]
     },
     "metadata": {},
     "output_type": "display_data"
    }
   ],
   "source": [
    "fig, axes = plt.subplots(nrows=1, ncols=3, sharex=False, sharey=False, figsize=(18, 5))\n",
    "\n",
    "sns.boxplot(ax=axes[0], data=df, y='sum_gamerounds', x='version')\n",
    "sns.boxplot(ax=axes[1], data=df[df.retention_1 == True], y='sum_gamerounds', x='version')\n",
    "sns.boxplot(ax=axes[2], data=df[df.retention_7 == True], y='sum_gamerounds', x='version')\n",
    "\n",
    "axes[0].set_title(\"y='sum_gamerounds'\")\n",
    "axes[1].set_title(\"y='sum_gamerounds' where df.retention_1 == True\")\n",
    "axes[2].set_title(\"y='sum_gamerounds' where df.retention_7 == True\")"
   ]
  },
  {
   "cell_type": "code",
   "execution_count": 7,
   "metadata": {
    "colab": {
     "base_uri": "https://localhost:8080/"
    },
    "id": "eckKIZ0ZgPZX",
    "outputId": "d453b1c6-8d1f-4f55-dda7-10d70ef97038"
   },
   "outputs": [],
   "source": [
    "# df --> data without outliers\n",
    "\n",
    "df_gate_30 = df[df.version == 'gate_30'].copy()\n",
    "df_gate_40 = df[df.version == 'gate_40'].copy()\n",
    "\n",
    "df_gate_30['outliers'] = remove_outliers_isolation_forest(df_gate_30.sum_gamerounds.values, 0.05)\n",
    "df_gate_40['outliers'] = remove_outliers_isolation_forest(df_gate_40.sum_gamerounds.values, 0.05)\n",
    "\n",
    "data = pd.concat([df_gate_30, df_gate_40])\n",
    "\n",
    "del df_gate_30, df_gate_40\n",
    "\n",
    "data = data[data.outliers != -1]"
   ]
  },
  {
   "cell_type": "code",
   "execution_count": 8,
   "metadata": {
    "colab": {
     "base_uri": "https://localhost:8080/",
     "height": 391
    },
    "id": "mhYHpFAmgPa4",
    "outputId": "7dae1669-7b6a-4ad4-e09d-07ebb4be7833"
   },
   "outputs": [
    {
     "data": {
      "text/plain": [
       "Text(0.5, 1.0, \"y='sum_gamerounds' where data.retention_7 == True\")"
      ]
     },
     "execution_count": 8,
     "metadata": {},
     "output_type": "execute_result"
    },
    {
     "data": {
      "image/png": "[encoded data removed]",
      "text/plain": [
       "<Figure size 1800x500 with 3 Axes>"
      ]
     },
     "metadata": {},
     "output_type": "display_data"
    }
   ],
   "source": [
    "fig, axes = plt.subplots(nrows=1, ncols=3, sharex=False, sharey=False, figsize=(18, 5))\n",
    "\n",
    "sns.boxplot(ax=axes[0], data=data, y='sum_gamerounds', x='version')\n",
    "sns.boxplot(ax=axes[1], data=data[data.retention_1 == True], y='sum_gamerounds', x='version')\n",
    "sns.boxplot(ax=axes[2], data=data[data.retention_7 == True], y='sum_gamerounds', x='version')\n",
    "\n",
    "axes[0].set_title(\"y='sum_gamerounds'\")\n",
    "axes[1].set_title(\"y='sum_gamerounds' where data.retention_1 == True\")\n",
    "axes[2].set_title(\"y='sum_gamerounds' where data.retention_7 == True\")"
   ]
  },
  {
   "cell_type": "code",
   "execution_count": 9,
   "metadata": {
    "colab": {
     "base_uri": "https://localhost:8080/",
     "height": 90
    },
    "id": "YcVRr8j5m-i1",
    "outputId": "cdda2bef-8aa1-4afc-edd3-3b694178fd90"
   },
   "outputs": [
    {
     "data": {
      "text/plain": [
       "85692"
      ]
     },
     "metadata": {},
     "output_type": "display_data"
    },
    {
     "data": {
      "text/plain": [
       "version\n",
       "gate_40    43216\n",
       "gate_30    42476\n",
       "Name: count, dtype: int64"
      ]
     },
     "metadata": {},
     "output_type": "display_data"
    }
   ],
   "source": [
    "display(\n",
    "  data.userid.nunique(),\n",
    "  data.version.value_counts()\n",
    ")"
   ]
  },
  {
   "cell_type": "code",
   "execution_count": 10,
   "metadata": {
    "id": "JyioeUntcE7v"
   },
   "outputs": [],
   "source": [
    "data['retention_1'] = data['retention_1'].apply(lambda x: 1 if x == True else 0 )\n",
    "data['retention_7'] = data['retention_7'].apply(lambda x: 1 if x == True else 0 )"
   ]
  },
  {
   "cell_type": "code",
   "execution_count": 11,
   "metadata": {
    "colab": {
     "base_uri": "https://localhost:8080/",
     "height": 143
    },
    "id": "Z50A48eMm-kh",
    "outputId": "e5b37250-3c57-4b22-c5c0-a4026de960f7"
   },
   "outputs": [
    {
     "data": {
      "text/html": [
       "<div>\n",
       "<style scoped>\n",
       "    .dataframe tbody tr th:only-of-type {\n",
       "        vertical-align: middle;\n",
       "    }\n",
       "\n",
       "    .dataframe tbody tr th {\n",
       "        vertical-align: top;\n",
       "    }\n",
       "\n",
       "    .dataframe thead th {\n",
       "        text-align: right;\n",
       "    }\n",
       "</style>\n",
       "<table border=\"1\" class=\"dataframe\">\n",
       "  <thead>\n",
       "    <tr style=\"text-align: right;\">\n",
       "      <th></th>\n",
       "      <th>count</th>\n",
       "      <th>mean</th>\n",
       "      <th>std</th>\n",
       "      <th>min</th>\n",
       "      <th>25%</th>\n",
       "      <th>50%</th>\n",
       "      <th>75%</th>\n",
       "      <th>max</th>\n",
       "    </tr>\n",
       "    <tr>\n",
       "      <th>version</th>\n",
       "      <th></th>\n",
       "      <th></th>\n",
       "      <th></th>\n",
       "      <th></th>\n",
       "      <th></th>\n",
       "      <th></th>\n",
       "      <th></th>\n",
       "      <th></th>\n",
       "    </tr>\n",
       "  </thead>\n",
       "  <tbody>\n",
       "    <tr>\n",
       "      <th>gate_30</th>\n",
       "      <td>42476.0</td>\n",
       "      <td>33.239194</td>\n",
       "      <td>44.169049</td>\n",
       "      <td>0.0</td>\n",
       "      <td>5.0</td>\n",
       "      <td>15.0</td>\n",
       "      <td>42.0</td>\n",
       "      <td>240.0</td>\n",
       "    </tr>\n",
       "    <tr>\n",
       "      <th>gate_40</th>\n",
       "      <td>43216.0</td>\n",
       "      <td>33.057340</td>\n",
       "      <td>43.997770</td>\n",
       "      <td>0.0</td>\n",
       "      <td>4.0</td>\n",
       "      <td>15.0</td>\n",
       "      <td>43.0</td>\n",
       "      <td>223.0</td>\n",
       "    </tr>\n",
       "  </tbody>\n",
       "</table>\n",
       "</div>"
      ],
      "text/plain": [
       "           count       mean        std  min  25%   50%   75%    max\n",
       "version                                                            \n",
       "gate_30  42476.0  33.239194  44.169049  0.0  5.0  15.0  42.0  240.0\n",
       "gate_40  43216.0  33.057340  43.997770  0.0  4.0  15.0  43.0  223.0"
      ]
     },
     "execution_count": 11,
     "metadata": {},
     "output_type": "execute_result"
    }
   ],
   "source": [
    "data.groupby(by='version').describe()['sum_gamerounds']"
   ]
  },
  {
   "cell_type": "markdown",
   "metadata": {
    "id": "HUKDVNbesVz3"
   },
   "source": [
    "# testing"
   ]
  },
  {
   "cell_type": "markdown",
   "metadata": {
    "id": "M1sxk9ArsZRA"
   },
   "source": [
    "Метрики для тестирования:\n",
    "- ср кол-во пройденных уровней\n",
    "- конверсия в ретеншен 1 и 7 дня\n",
    "\n",
    "Гипотезы:\n",
    "- H0: gate_30 == gate_40\n",
    "- H1: gate_30 != gate_40"
   ]
  },
  {
   "cell_type": "markdown",
   "metadata": {
    "id": "xzTFnhHUxftS"
   },
   "source": [
    "## Среднее кол-во пройденных уровней"
   ]
  },
  {
   "cell_type": "markdown",
   "metadata": {
    "id": "pIKriRbhI39e",
    "jp-MarkdownHeadingCollapsed": true
   },
   "source": [
    "### все данные (вкл тех, кто не дошел до 30 уровня)"
   ]
  },
  {
   "cell_type": "code",
   "execution_count": 12,
   "metadata": {
    "id": "ganO4WKlNW3H"
   },
   "outputs": [],
   "source": [
    "group1 = data[data.version == 'gate_30'].sum_gamerounds.values\n",
    "group2 = data[data.version == 'gate_40'].sum_gamerounds.values"
   ]
  },
  {
   "cell_type": "code",
   "execution_count": 13,
   "metadata": {
    "colab": {
     "base_uri": "https://localhost:8080/"
    },
    "id": "j3wD0eoCm-rW",
    "outputId": "7dba08c8-82f7-4a54-aef7-a70f2d3733e4"
   },
   "outputs": [
    {
     "name": "stdout",
     "output_type": "stream",
     "text": [
      "stat: 0.012537817772133301\n",
      "Сan't reject H0. p-value=0.9108455548681593\n",
      "stat: 2.041031215619341\n",
      "Сan't reject H0. p-value=0.15310946726283556\n"
     ]
    }
   ],
   "source": [
    "# Variance test\n",
    "# Levene’s test is an alternative to Bartlett’s test. For samples from significantly non-normal populations, Levene’s test levene is more robust.\n",
    "#   H0: equal variances\n",
    "#   H1: not equal variances\n",
    "\n",
    "\n",
    "res = stats.levene(group1, group2, center='median')\n",
    "\n",
    "print('stat: {}'.format(res.statistic))\n",
    "get_print_result(res.pvalue)\n",
    "\n",
    "\n",
    "res = stats.levene(group1, group2, center='mean')\n",
    "\n",
    "print('stat: {}'.format(res.statistic))\n",
    "get_print_result(res.pvalue)"
   ]
  },
  {
   "cell_type": "markdown",
   "metadata": {
    "id": "Y9SxxcOwAjgC"
   },
   "source": [
    "Распределение значений отлично от нормального, но у нас достаточно большая выборка и равная дисперсия, поэтому можно применить параметрический **t-тест**. Также, оценим непараметрические тесты: **Манн-Уитни, бутстрап**. Но Манн-Уитни не подходит для сранения средних/медианы, поэтому в приоритете  остается t-тест и бутстрап.\n",
    "\n",
    "В случае t-тест, он предполагает нормальное распределение, но в силу ЦПТ и равной дисперсии, этим можно пренебречь."
   ]
  },
  {
   "cell_type": "code",
   "execution_count": 14,
   "metadata": {
    "colab": {
     "base_uri": "https://localhost:8080/"
    },
    "id": "wa_Ga8ExSKNt",
    "outputId": "b2e30789-1977-4857-f4ec-2e151ac6f307"
   },
   "outputs": [
    {
     "name": "stdout",
     "output_type": "stream",
     "text": [
      "H0 rejected. p-value=0.030958565866983083\n"
     ]
    }
   ],
   "source": [
    "# mannwhitneyu // для примера\n",
    "\n",
    "get_mannwhitneyu_test(group1, group2, print_result=True)"
   ]
  },
  {
   "cell_type": "code",
   "execution_count": 15,
   "metadata": {
    "colab": {
     "base_uri": "https://localhost:8080/"
    },
    "id": "bUzj_eL8AQmM",
    "outputId": "2df5560c-a4d3-4bae-e489-4c3884a8aa84"
   },
   "outputs": [
    {
     "name": "stdout",
     "output_type": "stream",
     "text": [
      "Сan't reject H0. p-value=0.5459920380775293\n"
     ]
    }
   ],
   "source": [
    "# student - ttest for equal variances\n",
    "\n",
    "ttest_student(group1, group2, print_result=True)"
   ]
  },
  {
   "cell_type": "code",
   "execution_count": 16,
   "metadata": {
    "colab": {
     "base_uri": "https://localhost:8080/"
    },
    "id": "YF-9qqvUAQoE",
    "outputId": "605c0705-7d90-4e9b-de64-e6450ff778f4"
   },
   "outputs": [
    {
     "name": "stdout",
     "output_type": "stream",
     "text": [
      "Сan't reject H0. p-value=0.5460055090149278\n"
     ]
    }
   ],
   "source": [
    "# welch - ttest for not equal variances // для примера\n",
    "\n",
    "ttest_welch(group1, group2, print_result=True)"
   ]
  },
  {
   "cell_type": "code",
   "execution_count": 17,
   "metadata": {
    "colab": {
     "base_uri": "https://localhost:8080/",
     "height": 586,
     "referenced_widgets": [
      "97a678f8d0464c9580f60b9401db4d6d",
      "2d6e6bc350e44ee0aebae52c28ee75ca",
      "87ac06886741404b9809674b99ff1c30",
      "35579b8a5c2843c2a6c640baf019791b",
      "c97d2327d38c4dafa70be928bd619331",
      "89e795a5b24f4906954246817da0de8e",
      "197b23cf4075416f87bc17aa5dc12350",
      "674de9c1bdf14093ae7375703480edf6",
      "d7dd169221b94eae8416b501997d3689",
      "1e5b23fcf81c421da8f7577bc8ce36e1",
      "01a1cb3b2c71423aaef2bc14c6c8d5d6"
     ]
    },
    "id": "Pky_KL6PAQui",
    "outputId": "1c70cd7e-b1ed-4929-8e09-a1ab7dc4d28d"
   },
   "outputs": [
    {
     "data": {
      "application/vnd.jupyter.widget-view+json": {
       "model_id": "4a6759c1981c4476b5d76bbbad9bd6a9",
       "version_major": 2,
       "version_minor": 0
      },
      "text/plain": [
       "  0%|          | 0/10000 [00:00<?, ?it/s]"
      ]
     },
     "metadata": {},
     "output_type": "display_data"
    },
    {
     "data": {
      "image/png": "[encoded data removed]",
      "text/plain": [
       "<Figure size 640x480 with 1 Axes>"
      ]
     },
     "metadata": {},
     "output_type": "display_data"
    },
    {
     "name": "stdout",
     "output_type": "stream",
     "text": [
      "Сan't reject H0. p-value=0.5371946715286708\n",
      "              0\n",
      "0.025 -0.404342\n",
      "0.975  0.766057\n"
     ]
    }
   ],
   "source": [
    "# mean\n",
    "\n",
    "res = get_bootstrap(group1,\n",
    "                    group2,\n",
    "                    boot_it = 10000,\n",
    "                    statistic = np.mean,\n",
    "                    bootstrap_conf_level = 0.95)\n",
    "\n",
    "get_print_result(res['p_value'])\n",
    "print(res['quants'])"
   ]
  },
  {
   "cell_type": "code",
   "execution_count": 18,
   "metadata": {
    "id": "USUe0bywNmUT"
   },
   "outputs": [],
   "source": [
    "del group1, group2"
   ]
  },
  {
   "cell_type": "markdown",
   "metadata": {
    "id": "gAYbCffFI76u",
    "jp-MarkdownHeadingCollapsed": true
   },
   "source": [
    "### тест только на тех пользователя, которые достигли 30 уровня\n",
    "\n",
    "логично предположить, что изменения никак не повлияют на пользователей, которые не достагли 30 уровня, поэтому их нужно исключить."
   ]
  },
  {
   "cell_type": "code",
   "execution_count": 19,
   "metadata": {
    "colab": {
     "base_uri": "https://localhost:8080/"
    },
    "id": "5Rs6BMRqMY7k",
    "outputId": "7f3a64b8-6bf0-4681-fc2d-9b6f56c2ed03"
   },
   "outputs": [
    {
     "data": {
      "text/plain": [
       "version\n",
       "gate_30    14432\n",
       "gate_40    14340\n",
       "Name: count, dtype: int64"
      ]
     },
     "execution_count": 19,
     "metadata": {},
     "output_type": "execute_result"
    }
   ],
   "source": [
    "data[(data.sum_gamerounds >= 30)].version.value_counts()"
   ]
  },
  {
   "cell_type": "code",
   "execution_count": 20,
   "metadata": {
    "colab": {
     "base_uri": "https://localhost:8080/",
     "height": 476
    },
    "id": "Zhcs-CXOLJ0E",
    "outputId": "c0c23b1e-f11a-45a6-b5f0-3ed253c3bb6b"
   },
   "outputs": [
    {
     "data": {
      "text/plain": [
       "<Axes: xlabel='sum_gamerounds', ylabel='Count'>"
      ]
     },
     "execution_count": 20,
     "metadata": {},
     "output_type": "execute_result"
    },
    {
     "data": {
      "image/png": "[encoded data removed]",
      "text/plain": [
       "<Figure size 640x480 with 1 Axes>"
      ]
     },
     "metadata": {},
     "output_type": "display_data"
    }
   ],
   "source": [
    "sns.histplot(data[(data.sum_gamerounds >= 30)], hue='version', x='sum_gamerounds')"
   ]
  },
  {
   "cell_type": "code",
   "execution_count": 21,
   "metadata": {
    "id": "RdpJtx2ENqqe"
   },
   "outputs": [],
   "source": [
    "group1 = data[(data.version == 'gate_30') & (data.sum_gamerounds >= 30)].sum_gamerounds.values\n",
    "group2 = data[(data.version == 'gate_40') & (data.sum_gamerounds >= 30)].sum_gamerounds.values"
   ]
  },
  {
   "cell_type": "code",
   "execution_count": 22,
   "metadata": {
    "colab": {
     "base_uri": "https://localhost:8080/"
    },
    "id": "NtTD1pPaMIUJ",
    "outputId": "95c2c2e4-ebdb-44f2-9fc9-04df08aed01e"
   },
   "outputs": [
    {
     "name": "stdout",
     "output_type": "stream",
     "text": [
      "stat: 0.22738811878611062\n",
      "Сan't reject H0. p-value=0.6334709202758122\n",
      "stat: 3.973817237040928\n",
      "H0 rejected. p-value=0.046222323943195996\n"
     ]
    }
   ],
   "source": [
    "# Variance test\n",
    "# Levene’s test is an alternative to Bartlett’s test. For samples from significantly non-normal populations, Levene’s test levene is more robust.\n",
    "#   H0: equal variances\n",
    "#   H1: not equal variances\n",
    "\n",
    "\n",
    "res = stats.levene(group1, group2, center='median')\n",
    "\n",
    "print('stat: {}'.format(res.statistic))\n",
    "get_print_result(res.pvalue)\n",
    "\n",
    "\n",
    "res = stats.levene(group1, group2, center='mean')\n",
    "\n",
    "print('stat: {}'.format(res.statistic))\n",
    "get_print_result(res.pvalue)"
   ]
  },
  {
   "cell_type": "code",
   "execution_count": 23,
   "metadata": {
    "colab": {
     "base_uri": "https://localhost:8080/"
    },
    "id": "LY3YMV-XShRr",
    "outputId": "86d46ebc-6967-4edb-9582-addc5742b20e"
   },
   "outputs": [
    {
     "name": "stdout",
     "output_type": "stream",
     "text": [
      "H0 rejected. p-value=2.101064869027113e-05\n"
     ]
    }
   ],
   "source": [
    "# mannwhitneyu // для примера\n",
    "\n",
    "get_mannwhitneyu_test(group1, group2, print_result=True)"
   ]
  },
  {
   "cell_type": "code",
   "execution_count": 24,
   "metadata": {
    "colab": {
     "base_uri": "https://localhost:8080/"
    },
    "id": "3CtnuZ_kI0RP",
    "outputId": "19d98e9e-b490-480e-cb1e-475050d2c58b"
   },
   "outputs": [
    {
     "name": "stdout",
     "output_type": "stream",
     "text": [
      "H0 rejected. p-value=0.014669908577944004\n"
     ]
    }
   ],
   "source": [
    "# student - ttest for equal variances\n",
    "\n",
    "ttest_student(group1, group2, print_result=True)"
   ]
  },
  {
   "cell_type": "code",
   "execution_count": 25,
   "metadata": {
    "colab": {
     "base_uri": "https://localhost:8080/"
    },
    "id": "Sy8EO2UmMWiJ",
    "outputId": "f2118c02-06a3-4a2f-c0da-7adcb6e4069a"
   },
   "outputs": [
    {
     "name": "stdout",
     "output_type": "stream",
     "text": [
      "H0 rejected. p-value=0.014663512197157103\n"
     ]
    }
   ],
   "source": [
    "# welch - ttest for not equal variances // для примера\n",
    "\n",
    "ttest_welch(group1, group2, print_result=True)"
   ]
  },
  {
   "cell_type": "code",
   "execution_count": 26,
   "metadata": {
    "colab": {
     "base_uri": "https://localhost:8080/",
     "height": 586,
     "referenced_widgets": [
      "9c51441452724d2582e980c1e0e0759e",
      "e3fd8dba0a874d478a6360070b3c968b",
      "1e3c7e36770a4920b59537ea8b834043",
      "0602f78ebc344d2f94ba83eff1723967",
      "1754cd91e0a9493985bc1b76219747a1",
      "7eb6a4943857496488e4fa29a807fedd",
      "eb691a3733d64571a827c6d6778c8086",
      "dd3ce68104394150a4856f9a09ae1bb8",
      "34b45d08a6fb4009b118f2d558c19363",
      "dfb45547f3c341d29c97bf1742a375d8",
      "e41e30ca842149dcbbba06d73fd60dd2"
     ]
    },
    "id": "kM8X6Uv-LE4q",
    "outputId": "4b7c21cb-72e9-4e17-f11e-1157e34aacce"
   },
   "outputs": [
    {
     "data": {
      "application/vnd.jupyter.widget-view+json": {
       "model_id": "1f791a19a848446e88c39a5da768f415",
       "version_major": 2,
       "version_minor": 0
      },
      "text/plain": [
       "  0%|          | 0/10000 [00:00<?, ?it/s]"
      ]
     },
     "metadata": {},
     "output_type": "display_data"
    },
    {
     "data": {
      "image/png": "[encoded data removed]",
      "text/plain": [
       "<Figure size 640x480 with 1 Axes>"
      ]
     },
     "metadata": {},
     "output_type": "display_data"
    },
    {
     "name": "stdout",
     "output_type": "stream",
     "text": [
      "H0 rejected. p-value=0.014240847773086507\n",
      "              0\n",
      "0.025 -2.494829\n",
      "0.975 -0.283114\n"
     ]
    }
   ],
   "source": [
    "# bootstrap - mean\n",
    "\n",
    "res = get_bootstrap(group1,\n",
    "                    group2,\n",
    "                    boot_it = 10000,\n",
    "                    statistic = np.mean,\n",
    "                    bootstrap_conf_level = 0.95)\n",
    "\n",
    "get_print_result(res['p_value'])\n",
    "print(res['quants'])"
   ]
  },
  {
   "cell_type": "code",
   "execution_count": 27,
   "metadata": {
    "id": "XA8aZOg5N0sH"
   },
   "outputs": [],
   "source": [
    "del group1, group2"
   ]
  },
  {
   "cell_type": "markdown",
   "metadata": {
    "id": "MV7EyTgx597H"
   },
   "source": [
    "## Конверсия в возврат в приложение на 1/7 день"
   ]
  },
  {
   "cell_type": "markdown",
   "metadata": {
    "id": "f_zDPJjpWToB"
   },
   "source": [
    "Для оценки конверсии подойдут: z-тест пропорций, бутстрап."
   ]
  },
  {
   "cell_type": "code",
   "execution_count": 28,
   "metadata": {},
   "outputs": [
    {
     "data": {
      "text/html": [
       "<div>\n",
       "<style scoped>\n",
       "    .dataframe tbody tr th:only-of-type {\n",
       "        vertical-align: middle;\n",
       "    }\n",
       "\n",
       "    .dataframe tbody tr th {\n",
       "        vertical-align: top;\n",
       "    }\n",
       "\n",
       "    .dataframe thead th {\n",
       "        text-align: right;\n",
       "    }\n",
       "</style>\n",
       "<table border=\"1\" class=\"dataframe\">\n",
       "  <thead>\n",
       "    <tr style=\"text-align: right;\">\n",
       "      <th></th>\n",
       "      <th>retention_1</th>\n",
       "      <th>retention_7</th>\n",
       "    </tr>\n",
       "    <tr>\n",
       "      <th>version</th>\n",
       "      <th></th>\n",
       "      <th></th>\n",
       "    </tr>\n",
       "  </thead>\n",
       "  <tbody>\n",
       "    <tr>\n",
       "      <th>gate_30</th>\n",
       "      <td>17939</td>\n",
       "      <td>6568</td>\n",
       "    </tr>\n",
       "    <tr>\n",
       "      <th>gate_40</th>\n",
       "      <td>17991</td>\n",
       "      <td>6308</td>\n",
       "    </tr>\n",
       "  </tbody>\n",
       "</table>\n",
       "</div>"
      ],
      "text/plain": [
       "         retention_1  retention_7\n",
       "version                          \n",
       "gate_30        17939         6568\n",
       "gate_40        17991         6308"
      ]
     },
     "execution_count": 28,
     "metadata": {},
     "output_type": "execute_result"
    }
   ],
   "source": [
    "data.groupby(by='version').agg({'retention_1': 'sum', 'retention_7': 'sum'})"
   ]
  },
  {
   "cell_type": "markdown",
   "metadata": {
    "id": "D7c5P5A2Ve_q",
    "jp-MarkdownHeadingCollapsed": true
   },
   "source": [
    "### все данные (вкл тех, кто не дошел до 30 уровня)"
   ]
  },
  {
   "cell_type": "markdown",
   "metadata": {
    "id": "CXRWah-Oq6LR"
   },
   "source": [
    "#### retention_1"
   ]
  },
  {
   "cell_type": "code",
   "execution_count": 29,
   "metadata": {
    "id": "YIn-2FKvjeQs"
   },
   "outputs": [],
   "source": [
    "group1 = data[data.version == 'gate_30'].retention_1.values\n",
    "group2 = data[data.version == 'gate_40'].retention_1.values"
   ]
  },
  {
   "cell_type": "code",
   "execution_count": 30,
   "metadata": {
    "colab": {
     "base_uri": "https://localhost:8080/"
    },
    "id": "WStcgr2N6C-s",
    "outputId": "d113cc7f-24a5-4587-8771-8ab270550980"
   },
   "outputs": [
    {
     "name": "stdout",
     "output_type": "stream",
     "text": [
      "Сan't reject H0. p-value=0.07375879357230213\n"
     ]
    }
   ],
   "source": [
    "# ztest\n",
    "\n",
    "get_ztest(group1, group2, print_result=True)"
   ]
  },
  {
   "cell_type": "code",
   "execution_count": 31,
   "metadata": {},
   "outputs": [
    {
     "name": "stdout",
     "output_type": "stream",
     "text": [
      "Сan't reject H0. p-value=0.07376031050647856\n"
     ]
    }
   ],
   "source": [
    "# student - ttest for equal variances\n",
    "\n",
    "ttest_student(group1, group2, print_result=True)"
   ]
  },
  {
   "cell_type": "code",
   "execution_count": 32,
   "metadata": {
    "colab": {
     "base_uri": "https://localhost:8080/",
     "height": 586,
     "referenced_widgets": [
      "117cd4f89b0c48e0a6fd28c94ed0c3fc",
      "c53166170f3d474e8212967e3536a203",
      "a95ce6e4ff214a4e97c1338cb042a1b0",
      "440abbcc68a2492a8fecf7df4e3f7372",
      "33dd47d6a4ef4ba5b8a4d3ae1cab13d5",
      "cdb925abb3ba4cfa9a80b86361b11a8b",
      "8af52ea279684dc6a0a67f6c17d859a5",
      "8482e084722d44d5b99999434549306d",
      "da9e8e5f630d4c4eb3bcaa92ee46cf29",
      "23c51f85b0734179a39d344c78b376aa",
      "171c800fc11b4b26b94af16a35d8b6ca"
     ]
    },
    "id": "TW_0BK8AxfAG",
    "outputId": "3a10bdff-3983-42a8-808f-a517f28d577f"
   },
   "outputs": [
    {
     "data": {
      "application/vnd.jupyter.widget-view+json": {
       "model_id": "015476d2f8584d11ae47619436edaf84",
       "version_major": 2,
       "version_minor": 0
      },
      "text/plain": [
       "  0%|          | 0/10000 [00:00<?, ?it/s]"
      ]
     },
     "metadata": {},
     "output_type": "display_data"
    },
    {
     "data": {
      "image/png": "[encoded data removed]",
      "text/plain": [
       "<Figure size 640x480 with 1 Axes>"
      ]
     },
     "metadata": {},
     "output_type": "display_data"
    },
    {
     "name": "stdout",
     "output_type": "stream",
     "text": [
      "Сan't reject H0. p-value=0.07422556981268334\n",
      "              0\n",
      "0.025 -0.000578\n",
      "0.975  0.012634\n"
     ]
    }
   ],
   "source": [
    "# bootstrap - mean\n",
    "\n",
    "res = get_bootstrap(group1,\n",
    "                    group2,\n",
    "                    boot_it = 10000,\n",
    "                    statistic = np.mean,\n",
    "                    bootstrap_conf_level = 0.95)\n",
    "\n",
    "get_print_result(res['p_value'])\n",
    "print(res['quants'])"
   ]
  },
  {
   "cell_type": "code",
   "execution_count": 33,
   "metadata": {
    "id": "vtq3jyXwqne2"
   },
   "outputs": [],
   "source": [
    "del group1, group2"
   ]
  },
  {
   "cell_type": "markdown",
   "metadata": {
    "id": "aJqtfxK6q_89"
   },
   "source": [
    "#### retention_7"
   ]
  },
  {
   "cell_type": "code",
   "execution_count": 34,
   "metadata": {
    "id": "8XndLkDCq_HO"
   },
   "outputs": [],
   "source": [
    "group1 = data[data.version == 'gate_30'].retention_7.values\n",
    "group2 = data[data.version == 'gate_40'].retention_7.values"
   ]
  },
  {
   "cell_type": "code",
   "execution_count": 35,
   "metadata": {
    "colab": {
     "base_uri": "https://localhost:8080/"
    },
    "id": "6tzFHTpHrD9e",
    "outputId": "6f573f18-0bc1-439b-8159-556c5abb1ab8"
   },
   "outputs": [
    {
     "name": "stdout",
     "output_type": "stream",
     "text": [
      "H0 rejected. p-value=0.00038700068844273113\n"
     ]
    }
   ],
   "source": [
    "# ztest\n",
    "\n",
    "get_ztest(group1, group2, print_result=True)"
   ]
  },
  {
   "cell_type": "code",
   "execution_count": 36,
   "metadata": {},
   "outputs": [
    {
     "name": "stdout",
     "output_type": "stream",
     "text": [
      "H0 rejected. p-value=0.00038688514792768215\n"
     ]
    }
   ],
   "source": [
    "# student - ttest for equal variances\n",
    "\n",
    "ttest_student(group1, group2, print_result=True)"
   ]
  },
  {
   "cell_type": "code",
   "execution_count": 37,
   "metadata": {
    "colab": {
     "base_uri": "https://localhost:8080/",
     "height": 586,
     "referenced_widgets": [
      "53f4b294782e40f1adc839ebd70dd3ca",
      "5ccde4c0d3744df191680eff7698558e",
      "2b8beb9a014d4499b1dcd245967c0214",
      "7989b3f65c7541ad933ce02d3a5e0062",
      "3bd0a089671f49db9ebc1bd494471cb3",
      "fce13e48342e4abc868ce1118687d524",
      "27196f6c8d3a46b8a364ee1e9e30a37c",
      "aee6e5f4144445a3a191bc92097bd862",
      "0f6af89621c84a7e8e8ac65230707533",
      "9bf6fa4303f94549abc8fe62c424e87a",
      "b9fd85b5e671488bb03eb996d55f2a91"
     ]
    },
    "id": "pcmFzqOWrEG1",
    "outputId": "0b3790b3-d6e0-40df-d420-38c4790aa7e2"
   },
   "outputs": [
    {
     "data": {
      "application/vnd.jupyter.widget-view+json": {
       "model_id": "9b13d528a7e046999519c88228fa1ef1",
       "version_major": 2,
       "version_minor": 0
      },
      "text/plain": [
       "  0%|          | 0/10000 [00:00<?, ?it/s]"
      ]
     },
     "metadata": {},
     "output_type": "display_data"
    },
    {
     "data": {
      "image/png": "[encoded data removed]",
      "text/plain": [
       "<Figure size 640x480 with 1 Axes>"
      ]
     },
     "metadata": {},
     "output_type": "display_data"
    },
    {
     "name": "stdout",
     "output_type": "stream",
     "text": [
      "H0 rejected. p-value=0.00030781578918625993\n",
      "              0\n",
      "0.025  0.003911\n",
      "0.975  0.013305\n"
     ]
    }
   ],
   "source": [
    "# bootstrap - mean\n",
    "\n",
    "res = get_bootstrap(group1,\n",
    "                    group2,\n",
    "                    boot_it = 10000,\n",
    "                    statistic = np.mean,\n",
    "                    bootstrap_conf_level = 0.95)\n",
    "\n",
    "get_print_result(res['p_value'])\n",
    "print(res['quants'])"
   ]
  },
  {
   "cell_type": "code",
   "execution_count": 38,
   "metadata": {
    "id": "rd7E-UHdrEJR"
   },
   "outputs": [],
   "source": [
    "del group1, group2"
   ]
  },
  {
   "cell_type": "markdown",
   "metadata": {
    "id": "Xuw2a46fVikn",
    "jp-MarkdownHeadingCollapsed": true
   },
   "source": [
    "### тест только на тех пользователя, которые достигли 30 уровня"
   ]
  },
  {
   "cell_type": "markdown",
   "metadata": {
    "id": "Z3RdUZQgrcoX"
   },
   "source": [
    "#### retention_1"
   ]
  },
  {
   "cell_type": "code",
   "execution_count": 39,
   "metadata": {
    "id": "PKZJOjdZVlgM"
   },
   "outputs": [],
   "source": [
    "group1 = data[(data.version == 'gate_30') & (data.sum_gamerounds >= 30)].retention_1.values\n",
    "group2 = data[(data.version == 'gate_40') & (data.sum_gamerounds >= 30)].retention_1.values"
   ]
  },
  {
   "cell_type": "code",
   "execution_count": 40,
   "metadata": {
    "colab": {
     "base_uri": "https://localhost:8080/"
    },
    "id": "7aVzy8TLVmGp",
    "outputId": "b5686f8f-cdc2-4a87-afb2-8096825010f9"
   },
   "outputs": [
    {
     "name": "stdout",
     "output_type": "stream",
     "text": [
      "Сan't reject H0. p-value=0.789626094354898\n"
     ]
    }
   ],
   "source": [
    "# ztest\n",
    "\n",
    "get_ztest(group1, group2, print_result=True)"
   ]
  },
  {
   "cell_type": "code",
   "execution_count": 41,
   "metadata": {},
   "outputs": [
    {
     "name": "stdout",
     "output_type": "stream",
     "text": [
      "Сan't reject H0. p-value=0.7896348923901245\n"
     ]
    }
   ],
   "source": [
    "# student - ttest for equal variances\n",
    "\n",
    "ttest_student(group1, group2, print_result=True)"
   ]
  },
  {
   "cell_type": "code",
   "execution_count": 42,
   "metadata": {
    "colab": {
     "base_uri": "https://localhost:8080/",
     "height": 586,
     "referenced_widgets": [
      "427e6bde9ab743cdb35cf7b3cae5fdde",
      "1bc41f976d4c451b8d311eefa798ea9d",
      "4e1bd5da79ea4961852c276c65d908e5",
      "a85f3558a5054668bb18d816e4f286f5",
      "808c561d92984d2aa2ce369e2489e340",
      "f93518f00aa743cea23c387ea007dc06",
      "ecb8acc430374d4980dff952b8ad3c0c",
      "9dfafc37f0614b0d9223213b1777040d",
      "eacfb82168b5483eb477f98ce07a73dd",
      "6dbf48b3652a4e789b7ddc77c6a13302",
      "8fcb83c10cff42f9a6ee0aa219c1a922"
     ]
    },
    "id": "E9YVcCIYVmN6",
    "outputId": "6e21ed32-9940-412d-a031-c53527cbaffd"
   },
   "outputs": [
    {
     "data": {
      "application/vnd.jupyter.widget-view+json": {
       "model_id": "d234c16ca2f5466e981b7166432c98f5",
       "version_major": 2,
       "version_minor": 0
      },
      "text/plain": [
       "  0%|          | 0/10000 [00:00<?, ?it/s]"
      ]
     },
     "metadata": {},
     "output_type": "display_data"
    },
    {
     "data": {
      "image/png": "[encoded data removed]",
      "text/plain": [
       "<Figure size 640x480 with 1 Axes>"
      ]
     },
     "metadata": {},
     "output_type": "display_data"
    },
    {
     "name": "stdout",
     "output_type": "stream",
     "text": [
      "Сan't reject H0. p-value=0.7847988880918337\n",
      "              0\n",
      "0.025 -0.011086\n",
      "0.975  0.008384\n"
     ]
    }
   ],
   "source": [
    "# bootstrap - mean\n",
    "\n",
    "res = get_bootstrap(group1,\n",
    "                    group2,\n",
    "                    boot_it = 10000,\n",
    "                    statistic = np.mean,\n",
    "                    bootstrap_conf_level = 0.95)\n",
    "\n",
    "get_print_result(res['p_value'])\n",
    "print(res['quants'])"
   ]
  },
  {
   "cell_type": "code",
   "execution_count": 43,
   "metadata": {
    "id": "OgQoxFR6r38N"
   },
   "outputs": [],
   "source": [
    "del group1, group2"
   ]
  },
  {
   "cell_type": "markdown",
   "metadata": {
    "id": "4hTpoPpMrg0Q"
   },
   "source": [
    "#### retention_7"
   ]
  },
  {
   "cell_type": "code",
   "execution_count": 44,
   "metadata": {
    "id": "f48Xm-aYVmPx"
   },
   "outputs": [],
   "source": [
    "group1 = data[(data.version == 'gate_30') & (data.sum_gamerounds >= 30)].retention_7.values\n",
    "group2 = data[(data.version == 'gate_40') & (data.sum_gamerounds >= 30)].retention_7.values"
   ]
  },
  {
   "cell_type": "code",
   "execution_count": 45,
   "metadata": {
    "colab": {
     "base_uri": "https://localhost:8080/"
    },
    "id": "CjKOK_rtVmU1",
    "outputId": "1c56cf8d-f618-4676-c3b5-32874edad447"
   },
   "outputs": [
    {
     "name": "stdout",
     "output_type": "stream",
     "text": [
      "H0 rejected. p-value=0.04070287225057903\n"
     ]
    }
   ],
   "source": [
    "# ztest\n",
    "\n",
    "get_ztest(group1, group2, print_result=True)"
   ]
  },
  {
   "cell_type": "code",
   "execution_count": 46,
   "metadata": {},
   "outputs": [
    {
     "name": "stdout",
     "output_type": "stream",
     "text": [
      "H0 rejected. p-value=0.04070429062495133\n"
     ]
    }
   ],
   "source": [
    "# student - ttest for equal variances\n",
    "\n",
    "ttest_student(group1, group2, print_result=True)"
   ]
  },
  {
   "cell_type": "code",
   "execution_count": 47,
   "metadata": {
    "colab": {
     "base_uri": "https://localhost:8080/",
     "height": 586,
     "referenced_widgets": [
      "daada3fdd3fb44a2a04ebbea1176c6dc",
      "e1a21789419144599333d6b9e49d93fa",
      "23d8f56e5d1549d5b56bbe4f93a7ae9b",
      "aef3b11d1ada4faebee2428cb859284a",
      "2d1422dddb0747a69cd745e8fcf86dec",
      "5eced6162aba43e8a97d80c9d014f092",
      "7eeff708e66e4bf085c45a9366da836f",
      "aba528d5044a42f884b638d57f085730",
      "05c406eef1d8412f9dee4392a1d453d4",
      "ba6fb29743b645bcad16f6393b8583d1",
      "45ced899c5ab401f99d48694112e628c"
     ]
    },
    "id": "e25ZFjlrsAp7",
    "outputId": "e1aca65f-9af7-4eea-da99-31db4d998696"
   },
   "outputs": [
    {
     "data": {
      "application/vnd.jupyter.widget-view+json": {
       "model_id": "3e768b5ae268406ab5cb7f4b657ebbd9",
       "version_major": 2,
       "version_minor": 0
      },
      "text/plain": [
       "  0%|          | 0/10000 [00:00<?, ?it/s]"
      ]
     },
     "metadata": {},
     "output_type": "display_data"
    },
    {
     "data": {
      "image/png": "[encoded data removed]",
      "text/plain": [
       "<Figure size 640x480 with 1 Axes>"
      ]
     },
     "metadata": {},
     "output_type": "display_data"
    },
    {
     "name": "stdout",
     "output_type": "stream",
     "text": [
      "H0 rejected. p-value=0.04074887413855882\n",
      "              0\n",
      "0.025  0.000346\n",
      "0.975  0.022935\n"
     ]
    }
   ],
   "source": [
    "# bootstrap - mean\n",
    "\n",
    "res = get_bootstrap(group1,\n",
    "                    group2,\n",
    "                    boot_it = 10000,\n",
    "                    statistic = np.mean,\n",
    "                    bootstrap_conf_level = 0.95)\n",
    "\n",
    "get_print_result(res['p_value'])\n",
    "print(res['quants'])"
   ]
  },
  {
   "cell_type": "code",
   "execution_count": 48,
   "metadata": {
    "id": "kkHQLUBvsDBK"
   },
   "outputs": [],
   "source": [
    "del group1, group2"
   ]
  },
  {
   "cell_type": "markdown",
   "metadata": {},
   "source": [
    "# Вывод"
   ]
  },
  {
   "cell_type": "markdown",
   "metadata": {},
   "source": [
    "Тестировали влияние увеличения уровня, когда игрок впервые сталкивается с ограничениями, которые заставляют его ждать некоторое время, прежде чем он сможет продвинуться вперед, на ретеншен 1 и 7 дня. Дополнительно оценили влияние изменений на среднее количество пройденных уровней.\n",
    "\n",
    "Так как изменения затронули только тех пользователей, которые достигли 30 уровня, то выводы будут основаны на них.\n",
    "\n",
    "1. Retention_1. Тестирование показало, что в значении ретеншена 1 дня нет стат значимого отличия между группами gate_30 и gate_40 (не можем отвергнуть нулевую гипотезу, p-value=0.78).\n",
    "2. Retention_7. В отличии от ретеншена 1 дня, тестирование ретеншена 7-го дня показало, что различие стат значимо (p-value=0.04), при этом разница положительная (база - тест), то есть ретеншен тестируемой группы меньше, чем у базовой.\n",
    "3. Кол-во пройденных уровней. Ожидаемо, среднее кол-во пройденных уровней увеличилось в тестируемой группы относительно базовой - различие статистически значимо (p-value=0.014).\n",
    "\n",
    "Общий вывод: тест показа, что повышение порога не оказало положительного влияния на ретеншен пользователей."
   ]
  }
 ],
 "metadata": {
  "colab": {
   "collapsed_sections": [
    "ISxf9H8OsaX0",
    "-EN34x_7shyV"
   ],
   "provenance": [],
   "toc_visible": true
  },
  "kernelspec": {
   "display_name": "Python 3 (ipykernel)",
   "language": "python",
   "name": "python3"
  },
  "language_info": {
   "codemirror_mode": {
    "name": "ipython",
    "version": 3
   },
   "file_extension": ".py",
   "mimetype": "text/x-python",
   "name": "python",
   "nbconvert_exporter": "python",
   "pygments_lexer": "ipython3",
   "version": "3.11.1"
  },
  "widgets": {
   "application/vnd.jupyter.widget-state+json": {
    "01a1cb3b2c71423aaef2bc14c6c8d5d6": {
     "model_module": "@jupyter-widgets/controls",
     "model_module_version": "1.5.0",
     "model_name": "DescriptionStyleModel",
     "state": {
      "_model_module": "@jupyter-widgets/controls",
      "_model_module_version": "1.5.0",
      "_model_name": "DescriptionStyleModel",
      "_view_count": null,
      "_view_module": "@jupyter-widgets/base",
      "_view_module_version": "1.2.0",
      "_view_name": "StyleView",
      "description_width": ""
     }
    },
    "05c406eef1d8412f9dee4392a1d453d4": {
     "model_module": "@jupyter-widgets/controls",
     "model_module_version": "1.5.0",
     "model_name": "ProgressStyleModel",
     "state": {
      "_model_module": "@jupyter-widgets/controls",
      "_model_module_version": "1.5.0",
      "_model_name": "ProgressStyleModel",
      "_view_count": null,
      "_view_module": "@jupyter-widgets/base",
      "_view_module_version": "1.2.0",
      "_view_name": "StyleView",
      "bar_color": null,
      "description_width": ""
     }
    },
    "0602f78ebc344d2f94ba83eff1723967": {
     "model_module": "@jupyter-widgets/controls",
     "model_module_version": "1.5.0",
     "model_name": "HTMLModel",
     "state": {
      "_dom_classes": [],
      "_model_module": "@jupyter-widgets/controls",
      "_model_module_version": "1.5.0",
      "_model_name": "HTMLModel",
      "_view_count": null,
      "_view_module": "@jupyter-widgets/controls",
      "_view_module_version": "1.5.0",
      "_view_name": "HTMLView",
      "description": "",
      "description_tooltip": null,
      "layout": "IPY_MODEL_dfb45547f3c341d29c97bf1742a375d8",
      "placeholder": "​",
      "style": "IPY_MODEL_e41e30ca842149dcbbba06d73fd60dd2",
      "value": " 10000/10000 [00:03&lt;00:00, 2765.98it/s]"
     }
    },
    "0f6af89621c84a7e8e8ac65230707533": {
     "model_module": "@jupyter-widgets/controls",
     "model_module_version": "1.5.0",
     "model_name": "ProgressStyleModel",
     "state": {
      "_model_module": "@jupyter-widgets/controls",
      "_model_module_version": "1.5.0",
      "_model_name": "ProgressStyleModel",
      "_view_count": null,
      "_view_module": "@jupyter-widgets/base",
      "_view_module_version": "1.2.0",
      "_view_name": "StyleView",
      "bar_color": null,
      "description_width": ""
     }
    },
    "117cd4f89b0c48e0a6fd28c94ed0c3fc": {
     "model_module": "@jupyter-widgets/controls",
     "model_module_version": "1.5.0",
     "model_name": "HBoxModel",
     "state": {
      "_dom_classes": [],
      "_model_module": "@jupyter-widgets/controls",
      "_model_module_version": "1.5.0",
      "_model_name": "HBoxModel",
      "_view_count": null,
      "_view_module": "@jupyter-widgets/controls",
      "_view_module_version": "1.5.0",
      "_view_name": "HBoxView",
      "box_style": "",
      "children": [
       "IPY_MODEL_c53166170f3d474e8212967e3536a203",
       "IPY_MODEL_a95ce6e4ff214a4e97c1338cb042a1b0",
       "IPY_MODEL_440abbcc68a2492a8fecf7df4e3f7372"
      ],
      "layout": "IPY_MODEL_33dd47d6a4ef4ba5b8a4d3ae1cab13d5"
     }
    },
    "171c800fc11b4b26b94af16a35d8b6ca": {
     "model_module": "@jupyter-widgets/controls",
     "model_module_version": "1.5.0",
     "model_name": "DescriptionStyleModel",
     "state": {
      "_model_module": "@jupyter-widgets/controls",
      "_model_module_version": "1.5.0",
      "_model_name": "DescriptionStyleModel",
      "_view_count": null,
      "_view_module": "@jupyter-widgets/base",
      "_view_module_version": "1.2.0",
      "_view_name": "StyleView",
      "description_width": ""
     }
    },
    "1754cd91e0a9493985bc1b76219747a1": {
     "model_module": "@jupyter-widgets/base",
     "model_module_version": "1.2.0",
     "model_name": "LayoutModel",
     "state": {
      "_model_module": "@jupyter-widgets/base",
      "_model_module_version": "1.2.0",
      "_model_name": "LayoutModel",
      "_view_count": null,
      "_view_module": "@jupyter-widgets/base",
      "_view_module_version": "1.2.0",
      "_view_name": "LayoutView",
      "align_content": null,
      "align_items": null,
      "align_self": null,
      "border": null,
      "bottom": null,
      "display": null,
      "flex": null,
      "flex_flow": null,
      "grid_area": null,
      "grid_auto_columns": null,
      "grid_auto_flow": null,
      "grid_auto_rows": null,
      "grid_column": null,
      "grid_gap": null,
      "grid_row": null,
      "grid_template_areas": null,
      "grid_template_columns": null,
      "grid_template_rows": null,
      "height": null,
      "justify_content": null,
      "justify_items": null,
      "left": null,
      "margin": null,
      "max_height": null,
      "max_width": null,
      "min_height": null,
      "min_width": null,
      "object_fit": null,
      "object_position": null,
      "order": null,
      "overflow": null,
      "overflow_x": null,
      "overflow_y": null,
      "padding": null,
      "right": null,
      "top": null,
      "visibility": null,
      "width": null
     }
    },
    "197b23cf4075416f87bc17aa5dc12350": {
     "model_module": "@jupyter-widgets/controls",
     "model_module_version": "1.5.0",
     "model_name": "DescriptionStyleModel",
     "state": {
      "_model_module": "@jupyter-widgets/controls",
      "_model_module_version": "1.5.0",
      "_model_name": "DescriptionStyleModel",
      "_view_count": null,
      "_view_module": "@jupyter-widgets/base",
      "_view_module_version": "1.2.0",
      "_view_name": "StyleView",
      "description_width": ""
     }
    },
    "1bc41f976d4c451b8d311eefa798ea9d": {
     "model_module": "@jupyter-widgets/controls",
     "model_module_version": "1.5.0",
     "model_name": "HTMLModel",
     "state": {
      "_dom_classes": [],
      "_model_module": "@jupyter-widgets/controls",
      "_model_module_version": "1.5.0",
      "_model_name": "HTMLModel",
      "_view_count": null,
      "_view_module": "@jupyter-widgets/controls",
      "_view_module_version": "1.5.0",
      "_view_name": "HTMLView",
      "description": "",
      "description_tooltip": null,
      "layout": "IPY_MODEL_f93518f00aa743cea23c387ea007dc06",
      "placeholder": "​",
      "style": "IPY_MODEL_ecb8acc430374d4980dff952b8ad3c0c",
      "value": "100%"
     }
    },
    "1e3c7e36770a4920b59537ea8b834043": {
     "model_module": "@jupyter-widgets/controls",
     "model_module_version": "1.5.0",
     "model_name": "FloatProgressModel",
     "state": {
      "_dom_classes": [],
      "_model_module": "@jupyter-widgets/controls",
      "_model_module_version": "1.5.0",
      "_model_name": "FloatProgressModel",
      "_view_count": null,
      "_view_module": "@jupyter-widgets/controls",
      "_view_module_version": "1.5.0",
      "_view_name": "ProgressView",
      "bar_style": "success",
      "description": "",
      "description_tooltip": null,
      "layout": "IPY_MODEL_dd3ce68104394150a4856f9a09ae1bb8",
      "max": 10000,
      "min": 0,
      "orientation": "horizontal",
      "style": "IPY_MODEL_34b45d08a6fb4009b118f2d558c19363",
      "value": 10000
     }
    },
    "1e5b23fcf81c421da8f7577bc8ce36e1": {
     "model_module": "@jupyter-widgets/base",
     "model_module_version": "1.2.0",
     "model_name": "LayoutModel",
     "state": {
      "_model_module": "@jupyter-widgets/base",
      "_model_module_version": "1.2.0",
      "_model_name": "LayoutModel",
      "_view_count": null,
      "_view_module": "@jupyter-widgets/base",
      "_view_module_version": "1.2.0",
      "_view_name": "LayoutView",
      "align_content": null,
      "align_items": null,
      "align_self": null,
      "border": null,
      "bottom": null,
      "display": null,
      "flex": null,
      "flex_flow": null,
      "grid_area": null,
      "grid_auto_columns": null,
      "grid_auto_flow": null,
      "grid_auto_rows": null,
      "grid_column": null,
      "grid_gap": null,
      "grid_row": null,
      "grid_template_areas": null,
      "grid_template_columns": null,
      "grid_template_rows": null,
      "height": null,
      "justify_content": null,
      "justify_items": null,
      "left": null,
      "margin": null,
      "max_height": null,
      "max_width": null,
      "min_height": null,
      "min_width": null,
      "object_fit": null,
      "object_position": null,
      "order": null,
      "overflow": null,
      "overflow_x": null,
      "overflow_y": null,
      "padding": null,
      "right": null,
      "top": null,
      "visibility": null,
      "width": null
     }
    },
    "23c51f85b0734179a39d344c78b376aa": {
     "model_module": "@jupyter-widgets/base",
     "model_module_version": "1.2.0",
     "model_name": "LayoutModel",
     "state": {
      "_model_module": "@jupyter-widgets/base",
      "_model_module_version": "1.2.0",
      "_model_name": "LayoutModel",
      "_view_count": null,
      "_view_module": "@jupyter-widgets/base",
      "_view_module_version": "1.2.0",
      "_view_name": "LayoutView",
      "align_content": null,
      "align_items": null,
      "align_self": null,
      "border": null,
      "bottom": null,
      "display": null,
      "flex": null,
      "flex_flow": null,
      "grid_area": null,
      "grid_auto_columns": null,
      "grid_auto_flow": null,
      "grid_auto_rows": null,
      "grid_column": null,
      "grid_gap": null,
      "grid_row": null,
      "grid_template_areas": null,
      "grid_template_columns": null,
      "grid_template_rows": null,
      "height": null,
      "justify_content": null,
      "justify_items": null,
      "left": null,
      "margin": null,
      "max_height": null,
      "max_width": null,
      "min_height": null,
      "min_width": null,
      "object_fit": null,
      "object_position": null,
      "order": null,
      "overflow": null,
      "overflow_x": null,
      "overflow_y": null,
      "padding": null,
      "right": null,
      "top": null,
      "visibility": null,
      "width": null
     }
    },
    "23d8f56e5d1549d5b56bbe4f93a7ae9b": {
     "model_module": "@jupyter-widgets/controls",
     "model_module_version": "1.5.0",
     "model_name": "FloatProgressModel",
     "state": {
      "_dom_classes": [],
      "_model_module": "@jupyter-widgets/controls",
      "_model_module_version": "1.5.0",
      "_model_name": "FloatProgressModel",
      "_view_count": null,
      "_view_module": "@jupyter-widgets/controls",
      "_view_module_version": "1.5.0",
      "_view_name": "ProgressView",
      "bar_style": "success",
      "description": "",
      "description_tooltip": null,
      "layout": "IPY_MODEL_aba528d5044a42f884b638d57f085730",
      "max": 10000,
      "min": 0,
      "orientation": "horizontal",
      "style": "IPY_MODEL_05c406eef1d8412f9dee4392a1d453d4",
      "value": 10000
     }
    },
    "27196f6c8d3a46b8a364ee1e9e30a37c": {
     "model_module": "@jupyter-widgets/controls",
     "model_module_version": "1.5.0",
     "model_name": "DescriptionStyleModel",
     "state": {
      "_model_module": "@jupyter-widgets/controls",
      "_model_module_version": "1.5.0",
      "_model_name": "DescriptionStyleModel",
      "_view_count": null,
      "_view_module": "@jupyter-widgets/base",
      "_view_module_version": "1.2.0",
      "_view_name": "StyleView",
      "description_width": ""
     }
    },
    "2b8beb9a014d4499b1dcd245967c0214": {
     "model_module": "@jupyter-widgets/controls",
     "model_module_version": "1.5.0",
     "model_name": "FloatProgressModel",
     "state": {
      "_dom_classes": [],
      "_model_module": "@jupyter-widgets/controls",
      "_model_module_version": "1.5.0",
      "_model_name": "FloatProgressModel",
      "_view_count": null,
      "_view_module": "@jupyter-widgets/controls",
      "_view_module_version": "1.5.0",
      "_view_name": "ProgressView",
      "bar_style": "success",
      "description": "",
      "description_tooltip": null,
      "layout": "IPY_MODEL_aee6e5f4144445a3a191bc92097bd862",
      "max": 10000,
      "min": 0,
      "orientation": "horizontal",
      "style": "IPY_MODEL_0f6af89621c84a7e8e8ac65230707533",
      "value": 10000
     }
    },
    "2d1422dddb0747a69cd745e8fcf86dec": {
     "model_module": "@jupyter-widgets/base",
     "model_module_version": "1.2.0",
     "model_name": "LayoutModel",
     "state": {
      "_model_module": "@jupyter-widgets/base",
      "_model_module_version": "1.2.0",
      "_model_name": "LayoutModel",
      "_view_count": null,
      "_view_module": "@jupyter-widgets/base",
      "_view_module_version": "1.2.0",
      "_view_name": "LayoutView",
      "align_content": null,
      "align_items": null,
      "align_self": null,
      "border": null,
      "bottom": null,
      "display": null,
      "flex": null,
      "flex_flow": null,
      "grid_area": null,
      "grid_auto_columns": null,
      "grid_auto_flow": null,
      "grid_auto_rows": null,
      "grid_column": null,
      "grid_gap": null,
      "grid_row": null,
      "grid_template_areas": null,
      "grid_template_columns": null,
      "grid_template_rows": null,
      "height": null,
      "justify_content": null,
      "justify_items": null,
      "left": null,
      "margin": null,
      "max_height": null,
      "max_width": null,
      "min_height": null,
      "min_width": null,
      "object_fit": null,
      "object_position": null,
      "order": null,
      "overflow": null,
      "overflow_x": null,
      "overflow_y": null,
      "padding": null,
      "right": null,
      "top": null,
      "visibility": null,
      "width": null
     }
    },
    "2d6e6bc350e44ee0aebae52c28ee75ca": {
     "model_module": "@jupyter-widgets/controls",
     "model_module_version": "1.5.0",
     "model_name": "HTMLModel",
     "state": {
      "_dom_classes": [],
      "_model_module": "@jupyter-widgets/controls",
      "_model_module_version": "1.5.0",
      "_model_name": "HTMLModel",
      "_view_count": null,
      "_view_module": "@jupyter-widgets/controls",
      "_view_module_version": "1.5.0",
      "_view_name": "HTMLView",
      "description": "",
      "description_tooltip": null,
      "layout": "IPY_MODEL_89e795a5b24f4906954246817da0de8e",
      "placeholder": "​",
      "style": "IPY_MODEL_197b23cf4075416f87bc17aa5dc12350",
      "value": "100%"
     }
    },
    "33dd47d6a4ef4ba5b8a4d3ae1cab13d5": {
     "model_module": "@jupyter-widgets/base",
     "model_module_version": "1.2.0",
     "model_name": "LayoutModel",
     "state": {
      "_model_module": "@jupyter-widgets/base",
      "_model_module_version": "1.2.0",
      "_model_name": "LayoutModel",
      "_view_count": null,
      "_view_module": "@jupyter-widgets/base",
      "_view_module_version": "1.2.0",
      "_view_name": "LayoutView",
      "align_content": null,
      "align_items": null,
      "align_self": null,
      "border": null,
      "bottom": null,
      "display": null,
      "flex": null,
      "flex_flow": null,
      "grid_area": null,
      "grid_auto_columns": null,
      "grid_auto_flow": null,
      "grid_auto_rows": null,
      "grid_column": null,
      "grid_gap": null,
      "grid_row": null,
      "grid_template_areas": null,
      "grid_template_columns": null,
      "grid_template_rows": null,
      "height": null,
      "justify_content": null,
      "justify_items": null,
      "left": null,
      "margin": null,
      "max_height": null,
      "max_width": null,
      "min_height": null,
      "min_width": null,
      "object_fit": null,
      "object_position": null,
      "order": null,
      "overflow": null,
      "overflow_x": null,
      "overflow_y": null,
      "padding": null,
      "right": null,
      "top": null,
      "visibility": null,
      "width": null
     }
    },
    "34b45d08a6fb4009b118f2d558c19363": {
     "model_module": "@jupyter-widgets/controls",
     "model_module_version": "1.5.0",
     "model_name": "ProgressStyleModel",
     "state": {
      "_model_module": "@jupyter-widgets/controls",
      "_model_module_version": "1.5.0",
      "_model_name": "ProgressStyleModel",
      "_view_count": null,
      "_view_module": "@jupyter-widgets/base",
      "_view_module_version": "1.2.0",
      "_view_name": "StyleView",
      "bar_color": null,
      "description_width": ""
     }
    },
    "35579b8a5c2843c2a6c640baf019791b": {
     "model_module": "@jupyter-widgets/controls",
     "model_module_version": "1.5.0",
     "model_name": "HTMLModel",
     "state": {
      "_dom_classes": [],
      "_model_module": "@jupyter-widgets/controls",
      "_model_module_version": "1.5.0",
      "_model_name": "HTMLModel",
      "_view_count": null,
      "_view_module": "@jupyter-widgets/controls",
      "_view_module_version": "1.5.0",
      "_view_name": "HTMLView",
      "description": "",
      "description_tooltip": null,
      "layout": "IPY_MODEL_1e5b23fcf81c421da8f7577bc8ce36e1",
      "placeholder": "​",
      "style": "IPY_MODEL_01a1cb3b2c71423aaef2bc14c6c8d5d6",
      "value": " 10000/10000 [00:26&lt;00:00, 585.16it/s]"
     }
    },
    "3bd0a089671f49db9ebc1bd494471cb3": {
     "model_module": "@jupyter-widgets/base",
     "model_module_version": "1.2.0",
     "model_name": "LayoutModel",
     "state": {
      "_model_module": "@jupyter-widgets/base",
      "_model_module_version": "1.2.0",
      "_model_name": "LayoutModel",
      "_view_count": null,
      "_view_module": "@jupyter-widgets/base",
      "_view_module_version": "1.2.0",
      "_view_name": "LayoutView",
      "align_content": null,
      "align_items": null,
      "align_self": null,
      "border": null,
      "bottom": null,
      "display": null,
      "flex": null,
      "flex_flow": null,
      "grid_area": null,
      "grid_auto_columns": null,
      "grid_auto_flow": null,
      "grid_auto_rows": null,
      "grid_column": null,
      "grid_gap": null,
      "grid_row": null,
      "grid_template_areas": null,
      "grid_template_columns": null,
      "grid_template_rows": null,
      "height": null,
      "justify_content": null,
      "justify_items": null,
      "left": null,
      "margin": null,
      "max_height": null,
      "max_width": null,
      "min_height": null,
      "min_width": null,
      "object_fit": null,
      "object_position": null,
      "order": null,
      "overflow": null,
      "overflow_x": null,
      "overflow_y": null,
      "padding": null,
      "right": null,
      "top": null,
      "visibility": null,
      "width": null
     }
    },
    "427e6bde9ab743cdb35cf7b3cae5fdde": {
     "model_module": "@jupyter-widgets/controls",
     "model_module_version": "1.5.0",
     "model_name": "HBoxModel",
     "state": {
      "_dom_classes": [],
      "_model_module": "@jupyter-widgets/controls",
      "_model_module_version": "1.5.0",
      "_model_name": "HBoxModel",
      "_view_count": null,
      "_view_module": "@jupyter-widgets/controls",
      "_view_module_version": "1.5.0",
      "_view_name": "HBoxView",
      "box_style": "",
      "children": [
       "IPY_MODEL_1bc41f976d4c451b8d311eefa798ea9d",
       "IPY_MODEL_4e1bd5da79ea4961852c276c65d908e5",
       "IPY_MODEL_a85f3558a5054668bb18d816e4f286f5"
      ],
      "layout": "IPY_MODEL_808c561d92984d2aa2ce369e2489e340"
     }
    },
    "440abbcc68a2492a8fecf7df4e3f7372": {
     "model_module": "@jupyter-widgets/controls",
     "model_module_version": "1.5.0",
     "model_name": "HTMLModel",
     "state": {
      "_dom_classes": [],
      "_model_module": "@jupyter-widgets/controls",
      "_model_module_version": "1.5.0",
      "_model_name": "HTMLModel",
      "_view_count": null,
      "_view_module": "@jupyter-widgets/controls",
      "_view_module_version": "1.5.0",
      "_view_name": "HTMLView",
      "description": "",
      "description_tooltip": null,
      "layout": "IPY_MODEL_23c51f85b0734179a39d344c78b376aa",
      "placeholder": "​",
      "style": "IPY_MODEL_171c800fc11b4b26b94af16a35d8b6ca",
      "value": " 10000/10000 [00:18&lt;00:00, 590.28it/s]"
     }
    },
    "45ced899c5ab401f99d48694112e628c": {
     "model_module": "@jupyter-widgets/controls",
     "model_module_version": "1.5.0",
     "model_name": "DescriptionStyleModel",
     "state": {
      "_model_module": "@jupyter-widgets/controls",
      "_model_module_version": "1.5.0",
      "_model_name": "DescriptionStyleModel",
      "_view_count": null,
      "_view_module": "@jupyter-widgets/base",
      "_view_module_version": "1.2.0",
      "_view_name": "StyleView",
      "description_width": ""
     }
    },
    "4e1bd5da79ea4961852c276c65d908e5": {
     "model_module": "@jupyter-widgets/controls",
     "model_module_version": "1.5.0",
     "model_name": "FloatProgressModel",
     "state": {
      "_dom_classes": [],
      "_model_module": "@jupyter-widgets/controls",
      "_model_module_version": "1.5.0",
      "_model_name": "FloatProgressModel",
      "_view_count": null,
      "_view_module": "@jupyter-widgets/controls",
      "_view_module_version": "1.5.0",
      "_view_name": "ProgressView",
      "bar_style": "success",
      "description": "",
      "description_tooltip": null,
      "layout": "IPY_MODEL_9dfafc37f0614b0d9223213b1777040d",
      "max": 10000,
      "min": 0,
      "orientation": "horizontal",
      "style": "IPY_MODEL_eacfb82168b5483eb477f98ce07a73dd",
      "value": 10000
     }
    },
    "53f4b294782e40f1adc839ebd70dd3ca": {
     "model_module": "@jupyter-widgets/controls",
     "model_module_version": "1.5.0",
     "model_name": "HBoxModel",
     "state": {
      "_dom_classes": [],
      "_model_module": "@jupyter-widgets/controls",
      "_model_module_version": "1.5.0",
      "_model_name": "HBoxModel",
      "_view_count": null,
      "_view_module": "@jupyter-widgets/controls",
      "_view_module_version": "1.5.0",
      "_view_name": "HBoxView",
      "box_style": "",
      "children": [
       "IPY_MODEL_5ccde4c0d3744df191680eff7698558e",
       "IPY_MODEL_2b8beb9a014d4499b1dcd245967c0214",
       "IPY_MODEL_7989b3f65c7541ad933ce02d3a5e0062"
      ],
      "layout": "IPY_MODEL_3bd0a089671f49db9ebc1bd494471cb3"
     }
    },
    "5ccde4c0d3744df191680eff7698558e": {
     "model_module": "@jupyter-widgets/controls",
     "model_module_version": "1.5.0",
     "model_name": "HTMLModel",
     "state": {
      "_dom_classes": [],
      "_model_module": "@jupyter-widgets/controls",
      "_model_module_version": "1.5.0",
      "_model_name": "HTMLModel",
      "_view_count": null,
      "_view_module": "@jupyter-widgets/controls",
      "_view_module_version": "1.5.0",
      "_view_name": "HTMLView",
      "description": "",
      "description_tooltip": null,
      "layout": "IPY_MODEL_fce13e48342e4abc868ce1118687d524",
      "placeholder": "​",
      "style": "IPY_MODEL_27196f6c8d3a46b8a364ee1e9e30a37c",
      "value": "100%"
     }
    },
    "5eced6162aba43e8a97d80c9d014f092": {
     "model_module": "@jupyter-widgets/base",
     "model_module_version": "1.2.0",
     "model_name": "LayoutModel",
     "state": {
      "_model_module": "@jupyter-widgets/base",
      "_model_module_version": "1.2.0",
      "_model_name": "LayoutModel",
      "_view_count": null,
      "_view_module": "@jupyter-widgets/base",
      "_view_module_version": "1.2.0",
      "_view_name": "LayoutView",
      "align_content": null,
      "align_items": null,
      "align_self": null,
      "border": null,
      "bottom": null,
      "display": null,
      "flex": null,
      "flex_flow": null,
      "grid_area": null,
      "grid_auto_columns": null,
      "grid_auto_flow": null,
      "grid_auto_rows": null,
      "grid_column": null,
      "grid_gap": null,
      "grid_row": null,
      "grid_template_areas": null,
      "grid_template_columns": null,
      "grid_template_rows": null,
      "height": null,
      "justify_content": null,
      "justify_items": null,
      "left": null,
      "margin": null,
      "max_height": null,
      "max_width": null,
      "min_height": null,
      "min_width": null,
      "object_fit": null,
      "object_position": null,
      "order": null,
      "overflow": null,
      "overflow_x": null,
      "overflow_y": null,
      "padding": null,
      "right": null,
      "top": null,
      "visibility": null,
      "width": null
     }
    },
    "674de9c1bdf14093ae7375703480edf6": {
     "model_module": "@jupyter-widgets/base",
     "model_module_version": "1.2.0",
     "model_name": "LayoutModel",
     "state": {
      "_model_module": "@jupyter-widgets/base",
      "_model_module_version": "1.2.0",
      "_model_name": "LayoutModel",
      "_view_count": null,
      "_view_module": "@jupyter-widgets/base",
      "_view_module_version": "1.2.0",
      "_view_name": "LayoutView",
      "align_content": null,
      "align_items": null,
      "align_self": null,
      "border": null,
      "bottom": null,
      "display": null,
      "flex": null,
      "flex_flow": null,
      "grid_area": null,
      "grid_auto_columns": null,
      "grid_auto_flow": null,
      "grid_auto_rows": null,
      "grid_column": null,
      "grid_gap": null,
      "grid_row": null,
      "grid_template_areas": null,
      "grid_template_columns": null,
      "grid_template_rows": null,
      "height": null,
      "justify_content": null,
      "justify_items": null,
      "left": null,
      "margin": null,
      "max_height": null,
      "max_width": null,
      "min_height": null,
      "min_width": null,
      "object_fit": null,
      "object_position": null,
      "order": null,
      "overflow": null,
      "overflow_x": null,
      "overflow_y": null,
      "padding": null,
      "right": null,
      "top": null,
      "visibility": null,
      "width": null
     }
    },
    "6dbf48b3652a4e789b7ddc77c6a13302": {
     "model_module": "@jupyter-widgets/base",
     "model_module_version": "1.2.0",
     "model_name": "LayoutModel",
     "state": {
      "_model_module": "@jupyter-widgets/base",
      "_model_module_version": "1.2.0",
      "_model_name": "LayoutModel",
      "_view_count": null,
      "_view_module": "@jupyter-widgets/base",
      "_view_module_version": "1.2.0",
      "_view_name": "LayoutView",
      "align_content": null,
      "align_items": null,
      "align_self": null,
      "border": null,
      "bottom": null,
      "display": null,
      "flex": null,
      "flex_flow": null,
      "grid_area": null,
      "grid_auto_columns": null,
      "grid_auto_flow": null,
      "grid_auto_rows": null,
      "grid_column": null,
      "grid_gap": null,
      "grid_row": null,
      "grid_template_areas": null,
      "grid_template_columns": null,
      "grid_template_rows": null,
      "height": null,
      "justify_content": null,
      "justify_items": null,
      "left": null,
      "margin": null,
      "max_height": null,
      "max_width": null,
      "min_height": null,
      "min_width": null,
      "object_fit": null,
      "object_position": null,
      "order": null,
      "overflow": null,
      "overflow_x": null,
      "overflow_y": null,
      "padding": null,
      "right": null,
      "top": null,
      "visibility": null,
      "width": null
     }
    },
    "7989b3f65c7541ad933ce02d3a5e0062": {
     "model_module": "@jupyter-widgets/controls",
     "model_module_version": "1.5.0",
     "model_name": "HTMLModel",
     "state": {
      "_dom_classes": [],
      "_model_module": "@jupyter-widgets/controls",
      "_model_module_version": "1.5.0",
      "_model_name": "HTMLModel",
      "_view_count": null,
      "_view_module": "@jupyter-widgets/controls",
      "_view_module_version": "1.5.0",
      "_view_name": "HTMLView",
      "description": "",
      "description_tooltip": null,
      "layout": "IPY_MODEL_9bf6fa4303f94549abc8fe62c424e87a",
      "placeholder": "​",
      "style": "IPY_MODEL_b9fd85b5e671488bb03eb996d55f2a91",
      "value": " 10000/10000 [00:19&lt;00:00, 332.42it/s]"
     }
    },
    "7eb6a4943857496488e4fa29a807fedd": {
     "model_module": "@jupyter-widgets/base",
     "model_module_version": "1.2.0",
     "model_name": "LayoutModel",
     "state": {
      "_model_module": "@jupyter-widgets/base",
      "_model_module_version": "1.2.0",
      "_model_name": "LayoutModel",
      "_view_count": null,
      "_view_module": "@jupyter-widgets/base",
      "_view_module_version": "1.2.0",
      "_view_name": "LayoutView",
      "align_content": null,
      "align_items": null,
      "align_self": null,
      "border": null,
      "bottom": null,
      "display": null,
      "flex": null,
      "flex_flow": null,
      "grid_area": null,
      "grid_auto_columns": null,
      "grid_auto_flow": null,
      "grid_auto_rows": null,
      "grid_column": null,
      "grid_gap": null,
      "grid_row": null,
      "grid_template_areas": null,
      "grid_template_columns": null,
      "grid_template_rows": null,
      "height": null,
      "justify_content": null,
      "justify_items": null,
      "left": null,
      "margin": null,
      "max_height": null,
      "max_width": null,
      "min_height": null,
      "min_width": null,
      "object_fit": null,
      "object_position": null,
      "order": null,
      "overflow": null,
      "overflow_x": null,
      "overflow_y": null,
      "padding": null,
      "right": null,
      "top": null,
      "visibility": null,
      "width": null
     }
    },
    "7eeff708e66e4bf085c45a9366da836f": {
     "model_module": "@jupyter-widgets/controls",
     "model_module_version": "1.5.0",
     "model_name": "DescriptionStyleModel",
     "state": {
      "_model_module": "@jupyter-widgets/controls",
      "_model_module_version": "1.5.0",
      "_model_name": "DescriptionStyleModel",
      "_view_count": null,
      "_view_module": "@jupyter-widgets/base",
      "_view_module_version": "1.2.0",
      "_view_name": "StyleView",
      "description_width": ""
     }
    },
    "808c561d92984d2aa2ce369e2489e340": {
     "model_module": "@jupyter-widgets/base",
     "model_module_version": "1.2.0",
     "model_name": "LayoutModel",
     "state": {
      "_model_module": "@jupyter-widgets/base",
      "_model_module_version": "1.2.0",
      "_model_name": "LayoutModel",
      "_view_count": null,
      "_view_module": "@jupyter-widgets/base",
      "_view_module_version": "1.2.0",
      "_view_name": "LayoutView",
      "align_content": null,
      "align_items": null,
      "align_self": null,
      "border": null,
      "bottom": null,
      "display": null,
      "flex": null,
      "flex_flow": null,
      "grid_area": null,
      "grid_auto_columns": null,
      "grid_auto_flow": null,
      "grid_auto_rows": null,
      "grid_column": null,
      "grid_gap": null,
      "grid_row": null,
      "grid_template_areas": null,
      "grid_template_columns": null,
      "grid_template_rows": null,
      "height": null,
      "justify_content": null,
      "justify_items": null,
      "left": null,
      "margin": null,
      "max_height": null,
      "max_width": null,
      "min_height": null,
      "min_width": null,
      "object_fit": null,
      "object_position": null,
      "order": null,
      "overflow": null,
      "overflow_x": null,
      "overflow_y": null,
      "padding": null,
      "right": null,
      "top": null,
      "visibility": null,
      "width": null
     }
    },
    "8482e084722d44d5b99999434549306d": {
     "model_module": "@jupyter-widgets/base",
     "model_module_version": "1.2.0",
     "model_name": "LayoutModel",
     "state": {
      "_model_module": "@jupyter-widgets/base",
      "_model_module_version": "1.2.0",
      "_model_name": "LayoutModel",
      "_view_count": null,
      "_view_module": "@jupyter-widgets/base",
      "_view_module_version": "1.2.0",
      "_view_name": "LayoutView",
      "align_content": null,
      "align_items": null,
      "align_self": null,
      "border": null,
      "bottom": null,
      "display": null,
      "flex": null,
      "flex_flow": null,
      "grid_area": null,
      "grid_auto_columns": null,
      "grid_auto_flow": null,
      "grid_auto_rows": null,
      "grid_column": null,
      "grid_gap": null,
      "grid_row": null,
      "grid_template_areas": null,
      "grid_template_columns": null,
      "grid_template_rows": null,
      "height": null,
      "justify_content": null,
      "justify_items": null,
      "left": null,
      "margin": null,
      "max_height": null,
      "max_width": null,
      "min_height": null,
      "min_width": null,
      "object_fit": null,
      "object_position": null,
      "order": null,
      "overflow": null,
      "overflow_x": null,
      "overflow_y": null,
      "padding": null,
      "right": null,
      "top": null,
      "visibility": null,
      "width": null
     }
    },
    "87ac06886741404b9809674b99ff1c30": {
     "model_module": "@jupyter-widgets/controls",
     "model_module_version": "1.5.0",
     "model_name": "FloatProgressModel",
     "state": {
      "_dom_classes": [],
      "_model_module": "@jupyter-widgets/controls",
      "_model_module_version": "1.5.0",
      "_model_name": "FloatProgressModel",
      "_view_count": null,
      "_view_module": "@jupyter-widgets/controls",
      "_view_module_version": "1.5.0",
      "_view_name": "ProgressView",
      "bar_style": "success",
      "description": "",
      "description_tooltip": null,
      "layout": "IPY_MODEL_674de9c1bdf14093ae7375703480edf6",
      "max": 10000,
      "min": 0,
      "orientation": "horizontal",
      "style": "IPY_MODEL_d7dd169221b94eae8416b501997d3689",
      "value": 10000
     }
    },
    "89e795a5b24f4906954246817da0de8e": {
     "model_module": "@jupyter-widgets/base",
     "model_module_version": "1.2.0",
     "model_name": "LayoutModel",
     "state": {
      "_model_module": "@jupyter-widgets/base",
      "_model_module_version": "1.2.0",
      "_model_name": "LayoutModel",
      "_view_count": null,
      "_view_module": "@jupyter-widgets/base",
      "_view_module_version": "1.2.0",
      "_view_name": "LayoutView",
      "align_content": null,
      "align_items": null,
      "align_self": null,
      "border": null,
      "bottom": null,
      "display": null,
      "flex": null,
      "flex_flow": null,
      "grid_area": null,
      "grid_auto_columns": null,
      "grid_auto_flow": null,
      "grid_auto_rows": null,
      "grid_column": null,
      "grid_gap": null,
      "grid_row": null,
      "grid_template_areas": null,
      "grid_template_columns": null,
      "grid_template_rows": null,
      "height": null,
      "justify_content": null,
      "justify_items": null,
      "left": null,
      "margin": null,
      "max_height": null,
      "max_width": null,
      "min_height": null,
      "min_width": null,
      "object_fit": null,
      "object_position": null,
      "order": null,
      "overflow": null,
      "overflow_x": null,
      "overflow_y": null,
      "padding": null,
      "right": null,
      "top": null,
      "visibility": null,
      "width": null
     }
    },
    "8af52ea279684dc6a0a67f6c17d859a5": {
     "model_module": "@jupyter-widgets/controls",
     "model_module_version": "1.5.0",
     "model_name": "DescriptionStyleModel",
     "state": {
      "_model_module": "@jupyter-widgets/controls",
      "_model_module_version": "1.5.0",
      "_model_name": "DescriptionStyleModel",
      "_view_count": null,
      "_view_module": "@jupyter-widgets/base",
      "_view_module_version": "1.2.0",
      "_view_name": "StyleView",
      "description_width": ""
     }
    },
    "8fcb83c10cff42f9a6ee0aa219c1a922": {
     "model_module": "@jupyter-widgets/controls",
     "model_module_version": "1.5.0",
     "model_name": "DescriptionStyleModel",
     "state": {
      "_model_module": "@jupyter-widgets/controls",
      "_model_module_version": "1.5.0",
      "_model_name": "DescriptionStyleModel",
      "_view_count": null,
      "_view_module": "@jupyter-widgets/base",
      "_view_module_version": "1.2.0",
      "_view_name": "StyleView",
      "description_width": ""
     }
    },
    "97a678f8d0464c9580f60b9401db4d6d": {
     "model_module": "@jupyter-widgets/controls",
     "model_module_version": "1.5.0",
     "model_name": "HBoxModel",
     "state": {
      "_dom_classes": [],
      "_model_module": "@jupyter-widgets/controls",
      "_model_module_version": "1.5.0",
      "_model_name": "HBoxModel",
      "_view_count": null,
      "_view_module": "@jupyter-widgets/controls",
      "_view_module_version": "1.5.0",
      "_view_name": "HBoxView",
      "box_style": "",
      "children": [
       "IPY_MODEL_2d6e6bc350e44ee0aebae52c28ee75ca",
       "IPY_MODEL_87ac06886741404b9809674b99ff1c30",
       "IPY_MODEL_35579b8a5c2843c2a6c640baf019791b"
      ],
      "layout": "IPY_MODEL_c97d2327d38c4dafa70be928bd619331"
     }
    },
    "9bf6fa4303f94549abc8fe62c424e87a": {
     "model_module": "@jupyter-widgets/base",
     "model_module_version": "1.2.0",
     "model_name": "LayoutModel",
     "state": {
      "_model_module": "@jupyter-widgets/base",
      "_model_module_version": "1.2.0",
      "_model_name": "LayoutModel",
      "_view_count": null,
      "_view_module": "@jupyter-widgets/base",
      "_view_module_version": "1.2.0",
      "_view_name": "LayoutView",
      "align_content": null,
      "align_items": null,
      "align_self": null,
      "border": null,
      "bottom": null,
      "display": null,
      "flex": null,
      "flex_flow": null,
      "grid_area": null,
      "grid_auto_columns": null,
      "grid_auto_flow": null,
      "grid_auto_rows": null,
      "grid_column": null,
      "grid_gap": null,
      "grid_row": null,
      "grid_template_areas": null,
      "grid_template_columns": null,
      "grid_template_rows": null,
      "height": null,
      "justify_content": null,
      "justify_items": null,
      "left": null,
      "margin": null,
      "max_height": null,
      "max_width": null,
      "min_height": null,
      "min_width": null,
      "object_fit": null,
      "object_position": null,
      "order": null,
      "overflow": null,
      "overflow_x": null,
      "overflow_y": null,
      "padding": null,
      "right": null,
      "top": null,
      "visibility": null,
      "width": null
     }
    },
    "9c51441452724d2582e980c1e0e0759e": {
     "model_module": "@jupyter-widgets/controls",
     "model_module_version": "1.5.0",
     "model_name": "HBoxModel",
     "state": {
      "_dom_classes": [],
      "_model_module": "@jupyter-widgets/controls",
      "_model_module_version": "1.5.0",
      "_model_name": "HBoxModel",
      "_view_count": null,
      "_view_module": "@jupyter-widgets/controls",
      "_view_module_version": "1.5.0",
      "_view_name": "HBoxView",
      "box_style": "",
      "children": [
       "IPY_MODEL_e3fd8dba0a874d478a6360070b3c968b",
       "IPY_MODEL_1e3c7e36770a4920b59537ea8b834043",
       "IPY_MODEL_0602f78ebc344d2f94ba83eff1723967"
      ],
      "layout": "IPY_MODEL_1754cd91e0a9493985bc1b76219747a1"
     }
    },
    "9dfafc37f0614b0d9223213b1777040d": {
     "model_module": "@jupyter-widgets/base",
     "model_module_version": "1.2.0",
     "model_name": "LayoutModel",
     "state": {
      "_model_module": "@jupyter-widgets/base",
      "_model_module_version": "1.2.0",
      "_model_name": "LayoutModel",
      "_view_count": null,
      "_view_module": "@jupyter-widgets/base",
      "_view_module_version": "1.2.0",
      "_view_name": "LayoutView",
      "align_content": null,
      "align_items": null,
      "align_self": null,
      "border": null,
      "bottom": null,
      "display": null,
      "flex": null,
      "flex_flow": null,
      "grid_area": null,
      "grid_auto_columns": null,
      "grid_auto_flow": null,
      "grid_auto_rows": null,
      "grid_column": null,
      "grid_gap": null,
      "grid_row": null,
      "grid_template_areas": null,
      "grid_template_columns": null,
      "grid_template_rows": null,
      "height": null,
      "justify_content": null,
      "justify_items": null,
      "left": null,
      "margin": null,
      "max_height": null,
      "max_width": null,
      "min_height": null,
      "min_width": null,
      "object_fit": null,
      "object_position": null,
      "order": null,
      "overflow": null,
      "overflow_x": null,
      "overflow_y": null,
      "padding": null,
      "right": null,
      "top": null,
      "visibility": null,
      "width": null
     }
    },
    "a85f3558a5054668bb18d816e4f286f5": {
     "model_module": "@jupyter-widgets/controls",
     "model_module_version": "1.5.0",
     "model_name": "HTMLModel",
     "state": {
      "_dom_classes": [],
      "_model_module": "@jupyter-widgets/controls",
      "_model_module_version": "1.5.0",
      "_model_name": "HTMLModel",
      "_view_count": null,
      "_view_module": "@jupyter-widgets/controls",
      "_view_module_version": "1.5.0",
      "_view_name": "HTMLView",
      "description": "",
      "description_tooltip": null,
      "layout": "IPY_MODEL_6dbf48b3652a4e789b7ddc77c6a13302",
      "placeholder": "​",
      "style": "IPY_MODEL_8fcb83c10cff42f9a6ee0aa219c1a922",
      "value": " 10000/10000 [00:06&lt;00:00, 2672.74it/s]"
     }
    },
    "a95ce6e4ff214a4e97c1338cb042a1b0": {
     "model_module": "@jupyter-widgets/controls",
     "model_module_version": "1.5.0",
     "model_name": "FloatProgressModel",
     "state": {
      "_dom_classes": [],
      "_model_module": "@jupyter-widgets/controls",
      "_model_module_version": "1.5.0",
      "_model_name": "FloatProgressModel",
      "_view_count": null,
      "_view_module": "@jupyter-widgets/controls",
      "_view_module_version": "1.5.0",
      "_view_name": "ProgressView",
      "bar_style": "success",
      "description": "",
      "description_tooltip": null,
      "layout": "IPY_MODEL_8482e084722d44d5b99999434549306d",
      "max": 10000,
      "min": 0,
      "orientation": "horizontal",
      "style": "IPY_MODEL_da9e8e5f630d4c4eb3bcaa92ee46cf29",
      "value": 10000
     }
    },
    "aba528d5044a42f884b638d57f085730": {
     "model_module": "@jupyter-widgets/base",
     "model_module_version": "1.2.0",
     "model_name": "LayoutModel",
     "state": {
      "_model_module": "@jupyter-widgets/base",
      "_model_module_version": "1.2.0",
      "_model_name": "LayoutModel",
      "_view_count": null,
      "_view_module": "@jupyter-widgets/base",
      "_view_module_version": "1.2.0",
      "_view_name": "LayoutView",
      "align_content": null,
      "align_items": null,
      "align_self": null,
      "border": null,
      "bottom": null,
      "display": null,
      "flex": null,
      "flex_flow": null,
      "grid_area": null,
      "grid_auto_columns": null,
      "grid_auto_flow": null,
      "grid_auto_rows": null,
      "grid_column": null,
      "grid_gap": null,
      "grid_row": null,
      "grid_template_areas": null,
      "grid_template_columns": null,
      "grid_template_rows": null,
      "height": null,
      "justify_content": null,
      "justify_items": null,
      "left": null,
      "margin": null,
      "max_height": null,
      "max_width": null,
      "min_height": null,
      "min_width": null,
      "object_fit": null,
      "object_position": null,
      "order": null,
      "overflow": null,
      "overflow_x": null,
      "overflow_y": null,
      "padding": null,
      "right": null,
      "top": null,
      "visibility": null,
      "width": null
     }
    },
    "aee6e5f4144445a3a191bc92097bd862": {
     "model_module": "@jupyter-widgets/base",
     "model_module_version": "1.2.0",
     "model_name": "LayoutModel",
     "state": {
      "_model_module": "@jupyter-widgets/base",
      "_model_module_version": "1.2.0",
      "_model_name": "LayoutModel",
      "_view_count": null,
      "_view_module": "@jupyter-widgets/base",
      "_view_module_version": "1.2.0",
      "_view_name": "LayoutView",
      "align_content": null,
      "align_items": null,
      "align_self": null,
      "border": null,
      "bottom": null,
      "display": null,
      "flex": null,
      "flex_flow": null,
      "grid_area": null,
      "grid_auto_columns": null,
      "grid_auto_flow": null,
      "grid_auto_rows": null,
      "grid_column": null,
      "grid_gap": null,
      "grid_row": null,
      "grid_template_areas": null,
      "grid_template_columns": null,
      "grid_template_rows": null,
      "height": null,
      "justify_content": null,
      "justify_items": null,
      "left": null,
      "margin": null,
      "max_height": null,
      "max_width": null,
      "min_height": null,
      "min_width": null,
      "object_fit": null,
      "object_position": null,
      "order": null,
      "overflow": null,
      "overflow_x": null,
      "overflow_y": null,
      "padding": null,
      "right": null,
      "top": null,
      "visibility": null,
      "width": null
     }
    },
    "aef3b11d1ada4faebee2428cb859284a": {
     "model_module": "@jupyter-widgets/controls",
     "model_module_version": "1.5.0",
     "model_name": "HTMLModel",
     "state": {
      "_dom_classes": [],
      "_model_module": "@jupyter-widgets/controls",
      "_model_module_version": "1.5.0",
      "_model_name": "HTMLModel",
      "_view_count": null,
      "_view_module": "@jupyter-widgets/controls",
      "_view_module_version": "1.5.0",
      "_view_name": "HTMLView",
      "description": "",
      "description_tooltip": null,
      "layout": "IPY_MODEL_ba6fb29743b645bcad16f6393b8583d1",
      "placeholder": "​",
      "style": "IPY_MODEL_45ced899c5ab401f99d48694112e628c",
      "value": " 10000/10000 [00:08&lt;00:00, 705.97it/s]"
     }
    },
    "b9fd85b5e671488bb03eb996d55f2a91": {
     "model_module": "@jupyter-widgets/controls",
     "model_module_version": "1.5.0",
     "model_name": "DescriptionStyleModel",
     "state": {
      "_model_module": "@jupyter-widgets/controls",
      "_model_module_version": "1.5.0",
      "_model_name": "DescriptionStyleModel",
      "_view_count": null,
      "_view_module": "@jupyter-widgets/base",
      "_view_module_version": "1.2.0",
      "_view_name": "StyleView",
      "description_width": ""
     }
    },
    "ba6fb29743b645bcad16f6393b8583d1": {
     "model_module": "@jupyter-widgets/base",
     "model_module_version": "1.2.0",
     "model_name": "LayoutModel",
     "state": {
      "_model_module": "@jupyter-widgets/base",
      "_model_module_version": "1.2.0",
      "_model_name": "LayoutModel",
      "_view_count": null,
      "_view_module": "@jupyter-widgets/base",
      "_view_module_version": "1.2.0",
      "_view_name": "LayoutView",
      "align_content": null,
      "align_items": null,
      "align_self": null,
      "border": null,
      "bottom": null,
      "display": null,
      "flex": null,
      "flex_flow": null,
      "grid_area": null,
      "grid_auto_columns": null,
      "grid_auto_flow": null,
      "grid_auto_rows": null,
      "grid_column": null,
      "grid_gap": null,
      "grid_row": null,
      "grid_template_areas": null,
      "grid_template_columns": null,
      "grid_template_rows": null,
      "height": null,
      "justify_content": null,
      "justify_items": null,
      "left": null,
      "margin": null,
      "max_height": null,
      "max_width": null,
      "min_height": null,
      "min_width": null,
      "object_fit": null,
      "object_position": null,
      "order": null,
      "overflow": null,
      "overflow_x": null,
      "overflow_y": null,
      "padding": null,
      "right": null,
      "top": null,
      "visibility": null,
      "width": null
     }
    },
    "c53166170f3d474e8212967e3536a203": {
     "model_module": "@jupyter-widgets/controls",
     "model_module_version": "1.5.0",
     "model_name": "HTMLModel",
     "state": {
      "_dom_classes": [],
      "_model_module": "@jupyter-widgets/controls",
      "_model_module_version": "1.5.0",
      "_model_name": "HTMLModel",
      "_view_count": null,
      "_view_module": "@jupyter-widgets/controls",
      "_view_module_version": "1.5.0",
      "_view_name": "HTMLView",
      "description": "",
      "description_tooltip": null,
      "layout": "IPY_MODEL_cdb925abb3ba4cfa9a80b86361b11a8b",
      "placeholder": "​",
      "style": "IPY_MODEL_8af52ea279684dc6a0a67f6c17d859a5",
      "value": "100%"
     }
    },
    "c97d2327d38c4dafa70be928bd619331": {
     "model_module": "@jupyter-widgets/base",
     "model_module_version": "1.2.0",
     "model_name": "LayoutModel",
     "state": {
      "_model_module": "@jupyter-widgets/base",
      "_model_module_version": "1.2.0",
      "_model_name": "LayoutModel",
      "_view_count": null,
      "_view_module": "@jupyter-widgets/base",
      "_view_module_version": "1.2.0",
      "_view_name": "LayoutView",
      "align_content": null,
      "align_items": null,
      "align_self": null,
      "border": null,
      "bottom": null,
      "display": null,
      "flex": null,
      "flex_flow": null,
      "grid_area": null,
      "grid_auto_columns": null,
      "grid_auto_flow": null,
      "grid_auto_rows": null,
      "grid_column": null,
      "grid_gap": null,
      "grid_row": null,
      "grid_template_areas": null,
      "grid_template_columns": null,
      "grid_template_rows": null,
      "height": null,
      "justify_content": null,
      "justify_items": null,
      "left": null,
      "margin": null,
      "max_height": null,
      "max_width": null,
      "min_height": null,
      "min_width": null,
      "object_fit": null,
      "object_position": null,
      "order": null,
      "overflow": null,
      "overflow_x": null,
      "overflow_y": null,
      "padding": null,
      "right": null,
      "top": null,
      "visibility": null,
      "width": null
     }
    },
    "cdb925abb3ba4cfa9a80b86361b11a8b": {
     "model_module": "@jupyter-widgets/base",
     "model_module_version": "1.2.0",
     "model_name": "LayoutModel",
     "state": {
      "_model_module": "@jupyter-widgets/base",
      "_model_module_version": "1.2.0",
      "_model_name": "LayoutModel",
      "_view_count": null,
      "_view_module": "@jupyter-widgets/base",
      "_view_module_version": "1.2.0",
      "_view_name": "LayoutView",
      "align_content": null,
      "align_items": null,
      "align_self": null,
      "border": null,
      "bottom": null,
      "display": null,
      "flex": null,
      "flex_flow": null,
      "grid_area": null,
      "grid_auto_columns": null,
      "grid_auto_flow": null,
      "grid_auto_rows": null,
      "grid_column": null,
      "grid_gap": null,
      "grid_row": null,
      "grid_template_areas": null,
      "grid_template_columns": null,
      "grid_template_rows": null,
      "height": null,
      "justify_content": null,
      "justify_items": null,
      "left": null,
      "margin": null,
      "max_height": null,
      "max_width": null,
      "min_height": null,
      "min_width": null,
      "object_fit": null,
      "object_position": null,
      "order": null,
      "overflow": null,
      "overflow_x": null,
      "overflow_y": null,
      "padding": null,
      "right": null,
      "top": null,
      "visibility": null,
      "width": null
     }
    },
    "d7dd169221b94eae8416b501997d3689": {
     "model_module": "@jupyter-widgets/controls",
     "model_module_version": "1.5.0",
     "model_name": "ProgressStyleModel",
     "state": {
      "_model_module": "@jupyter-widgets/controls",
      "_model_module_version": "1.5.0",
      "_model_name": "ProgressStyleModel",
      "_view_count": null,
      "_view_module": "@jupyter-widgets/base",
      "_view_module_version": "1.2.0",
      "_view_name": "StyleView",
      "bar_color": null,
      "description_width": ""
     }
    },
    "da9e8e5f630d4c4eb3bcaa92ee46cf29": {
     "model_module": "@jupyter-widgets/controls",
     "model_module_version": "1.5.0",
     "model_name": "ProgressStyleModel",
     "state": {
      "_model_module": "@jupyter-widgets/controls",
      "_model_module_version": "1.5.0",
      "_model_name": "ProgressStyleModel",
      "_view_count": null,
      "_view_module": "@jupyter-widgets/base",
      "_view_module_version": "1.2.0",
      "_view_name": "StyleView",
      "bar_color": null,
      "description_width": ""
     }
    },
    "daada3fdd3fb44a2a04ebbea1176c6dc": {
     "model_module": "@jupyter-widgets/controls",
     "model_module_version": "1.5.0",
     "model_name": "HBoxModel",
     "state": {
      "_dom_classes": [],
      "_model_module": "@jupyter-widgets/controls",
      "_model_module_version": "1.5.0",
      "_model_name": "HBoxModel",
      "_view_count": null,
      "_view_module": "@jupyter-widgets/controls",
      "_view_module_version": "1.5.0",
      "_view_name": "HBoxView",
      "box_style": "",
      "children": [
       "IPY_MODEL_e1a21789419144599333d6b9e49d93fa",
       "IPY_MODEL_23d8f56e5d1549d5b56bbe4f93a7ae9b",
       "IPY_MODEL_aef3b11d1ada4faebee2428cb859284a"
      ],
      "layout": "IPY_MODEL_2d1422dddb0747a69cd745e8fcf86dec"
     }
    },
    "dd3ce68104394150a4856f9a09ae1bb8": {
     "model_module": "@jupyter-widgets/base",
     "model_module_version": "1.2.0",
     "model_name": "LayoutModel",
     "state": {
      "_model_module": "@jupyter-widgets/base",
      "_model_module_version": "1.2.0",
      "_model_name": "LayoutModel",
      "_view_count": null,
      "_view_module": "@jupyter-widgets/base",
      "_view_module_version": "1.2.0",
      "_view_name": "LayoutView",
      "align_content": null,
      "align_items": null,
      "align_self": null,
      "border": null,
      "bottom": null,
      "display": null,
      "flex": null,
      "flex_flow": null,
      "grid_area": null,
      "grid_auto_columns": null,
      "grid_auto_flow": null,
      "grid_auto_rows": null,
      "grid_column": null,
      "grid_gap": null,
      "grid_row": null,
      "grid_template_areas": null,
      "grid_template_columns": null,
      "grid_template_rows": null,
      "height": null,
      "justify_content": null,
      "justify_items": null,
      "left": null,
      "margin": null,
      "max_height": null,
      "max_width": null,
      "min_height": null,
      "min_width": null,
      "object_fit": null,
      "object_position": null,
      "order": null,
      "overflow": null,
      "overflow_x": null,
      "overflow_y": null,
      "padding": null,
      "right": null,
      "top": null,
      "visibility": null,
      "width": null
     }
    },
    "dfb45547f3c341d29c97bf1742a375d8": {
     "model_module": "@jupyter-widgets/base",
     "model_module_version": "1.2.0",
     "model_name": "LayoutModel",
     "state": {
      "_model_module": "@jupyter-widgets/base",
      "_model_module_version": "1.2.0",
      "_model_name": "LayoutModel",
      "_view_count": null,
      "_view_module": "@jupyter-widgets/base",
      "_view_module_version": "1.2.0",
      "_view_name": "LayoutView",
      "align_content": null,
      "align_items": null,
      "align_self": null,
      "border": null,
      "bottom": null,
      "display": null,
      "flex": null,
      "flex_flow": null,
      "grid_area": null,
      "grid_auto_columns": null,
      "grid_auto_flow": null,
      "grid_auto_rows": null,
      "grid_column": null,
      "grid_gap": null,
      "grid_row": null,
      "grid_template_areas": null,
      "grid_template_columns": null,
      "grid_template_rows": null,
      "height": null,
      "justify_content": null,
      "justify_items": null,
      "left": null,
      "margin": null,
      "max_height": null,
      "max_width": null,
      "min_height": null,
      "min_width": null,
      "object_fit": null,
      "object_position": null,
      "order": null,
      "overflow": null,
      "overflow_x": null,
      "overflow_y": null,
      "padding": null,
      "right": null,
      "top": null,
      "visibility": null,
      "width": null
     }
    },
    "e1a21789419144599333d6b9e49d93fa": {
     "model_module": "@jupyter-widgets/controls",
     "model_module_version": "1.5.0",
     "model_name": "HTMLModel",
     "state": {
      "_dom_classes": [],
      "_model_module": "@jupyter-widgets/controls",
      "_model_module_version": "1.5.0",
      "_model_name": "HTMLModel",
      "_view_count": null,
      "_view_module": "@jupyter-widgets/controls",
      "_view_module_version": "1.5.0",
      "_view_name": "HTMLView",
      "description": "",
      "description_tooltip": null,
      "layout": "IPY_MODEL_5eced6162aba43e8a97d80c9d014f092",
      "placeholder": "​",
      "style": "IPY_MODEL_7eeff708e66e4bf085c45a9366da836f",
      "value": "100%"
     }
    },
    "e3fd8dba0a874d478a6360070b3c968b": {
     "model_module": "@jupyter-widgets/controls",
     "model_module_version": "1.5.0",
     "model_name": "HTMLModel",
     "state": {
      "_dom_classes": [],
      "_model_module": "@jupyter-widgets/controls",
      "_model_module_version": "1.5.0",
      "_model_name": "HTMLModel",
      "_view_count": null,
      "_view_module": "@jupyter-widgets/controls",
      "_view_module_version": "1.5.0",
      "_view_name": "HTMLView",
      "description": "",
      "description_tooltip": null,
      "layout": "IPY_MODEL_7eb6a4943857496488e4fa29a807fedd",
      "placeholder": "​",
      "style": "IPY_MODEL_eb691a3733d64571a827c6d6778c8086",
      "value": "100%"
     }
    },
    "e41e30ca842149dcbbba06d73fd60dd2": {
     "model_module": "@jupyter-widgets/controls",
     "model_module_version": "1.5.0",
     "model_name": "DescriptionStyleModel",
     "state": {
      "_model_module": "@jupyter-widgets/controls",
      "_model_module_version": "1.5.0",
      "_model_name": "DescriptionStyleModel",
      "_view_count": null,
      "_view_module": "@jupyter-widgets/base",
      "_view_module_version": "1.2.0",
      "_view_name": "StyleView",
      "description_width": ""
     }
    },
    "eacfb82168b5483eb477f98ce07a73dd": {
     "model_module": "@jupyter-widgets/controls",
     "model_module_version": "1.5.0",
     "model_name": "ProgressStyleModel",
     "state": {
      "_model_module": "@jupyter-widgets/controls",
      "_model_module_version": "1.5.0",
      "_model_name": "ProgressStyleModel",
      "_view_count": null,
      "_view_module": "@jupyter-widgets/base",
      "_view_module_version": "1.2.0",
      "_view_name": "StyleView",
      "bar_color": null,
      "description_width": ""
     }
    },
    "eb691a3733d64571a827c6d6778c8086": {
     "model_module": "@jupyter-widgets/controls",
     "model_module_version": "1.5.0",
     "model_name": "DescriptionStyleModel",
     "state": {
      "_model_module": "@jupyter-widgets/controls",
      "_model_module_version": "1.5.0",
      "_model_name": "DescriptionStyleModel",
      "_view_count": null,
      "_view_module": "@jupyter-widgets/base",
      "_view_module_version": "1.2.0",
      "_view_name": "StyleView",
      "description_width": ""
     }
    },
    "ecb8acc430374d4980dff952b8ad3c0c": {
     "model_module": "@jupyter-widgets/controls",
     "model_module_version": "1.5.0",
     "model_name": "DescriptionStyleModel",
     "state": {
      "_model_module": "@jupyter-widgets/controls",
      "_model_module_version": "1.5.0",
      "_model_name": "DescriptionStyleModel",
      "_view_count": null,
      "_view_module": "@jupyter-widgets/base",
      "_view_module_version": "1.2.0",
      "_view_name": "StyleView",
      "description_width": ""
     }
    },
    "f93518f00aa743cea23c387ea007dc06": {
     "model_module": "@jupyter-widgets/base",
     "model_module_version": "1.2.0",
     "model_name": "LayoutModel",
     "state": {
      "_model_module": "@jupyter-widgets/base",
      "_model_module_version": "1.2.0",
      "_model_name": "LayoutModel",
      "_view_count": null,
      "_view_module": "@jupyter-widgets/base",
      "_view_module_version": "1.2.0",
      "_view_name": "LayoutView",
      "align_content": null,
      "align_items": null,
      "align_self": null,
      "border": null,
      "bottom": null,
      "display": null,
      "flex": null,
      "flex_flow": null,
      "grid_area": null,
      "grid_auto_columns": null,
      "grid_auto_flow": null,
      "grid_auto_rows": null,
      "grid_column": null,
      "grid_gap": null,
      "grid_row": null,
      "grid_template_areas": null,
      "grid_template_columns": null,
      "grid_template_rows": null,
      "height": null,
      "justify_content": null,
      "justify_items": null,
      "left": null,
      "margin": null,
      "max_height": null,
      "max_width": null,
      "min_height": null,
      "min_width": null,
      "object_fit": null,
      "object_position": null,
      "order": null,
      "overflow": null,
      "overflow_x": null,
      "overflow_y": null,
      "padding": null,
      "right": null,
      "top": null,
      "visibility": null,
      "width": null
     }
    },
    "fce13e48342e4abc868ce1118687d524": {
     "model_module": "@jupyter-widgets/base",
     "model_module_version": "1.2.0",
     "model_name": "LayoutModel",
     "state": {
      "_model_module": "@jupyter-widgets/base",
      "_model_module_version": "1.2.0",
      "_model_name": "LayoutModel",
      "_view_count": null,
      "_view_module": "@jupyter-widgets/base",
      "_view_module_version": "1.2.0",
      "_view_name": "LayoutView",
      "align_content": null,
      "align_items": null,
      "align_self": null,
      "border": null,
      "bottom": null,
      "display": null,
      "flex": null,
      "flex_flow": null,
      "grid_area": null,
      "grid_auto_columns": null,
      "grid_auto_flow": null,
      "grid_auto_rows": null,
      "grid_column": null,
      "grid_gap": null,
      "grid_row": null,
      "grid_template_areas": null,
      "grid_template_columns": null,
      "grid_template_rows": null,
      "height": null,
      "justify_content": null,
      "justify_items": null,
      "left": null,
      "margin": null,
      "max_height": null,
      "max_width": null,
      "min_height": null,
      "min_width": null,
      "object_fit": null,
      "object_position": null,
      "order": null,
      "overflow": null,
      "overflow_x": null,
      "overflow_y": null,
      "padding": null,
      "right": null,
      "top": null,
      "visibility": null,
      "width": null
     }
    }
   }
  }
 },
 "nbformat": 4,
 "nbformat_minor": 4
}
