{
 "cells": [
  {
   "cell_type": "code",
   "execution_count": 1,
   "id": "53a6b885",
   "metadata": {
    "_cell_guid": "b1076dfc-b9ad-4769-8c92-a6c4dae69d19",
    "_uuid": "8f2839f25d086af736a60e9eeb907d3b93b6e0e5",
    "execution": {
     "iopub.execute_input": "2024-01-08T22:03:32.967712Z",
     "iopub.status.busy": "2024-01-08T22:03:32.967373Z",
     "iopub.status.idle": "2024-01-08T22:03:34.389260Z",
     "shell.execute_reply": "2024-01-08T22:03:34.388317Z"
    },
    "papermill": {
     "duration": 1.434301,
     "end_time": "2024-01-08T22:03:34.391673",
     "exception": false,
     "start_time": "2024-01-08T22:03:32.957372",
     "status": "completed"
    },
    "tags": []
   },
   "outputs": [],
   "source": [
    "import pandas as pd\n",
    "import numpy as np\n",
    "\n",
    "from scipy import stats\n",
    "from statsmodels.stats.proportion import proportions_ztest\n",
    "\n",
    "import matplotlib.pyplot as plt\n",
    "import seaborn as sns\n",
    "sns.set()\n",
    "\n",
    "from tqdm.auto import tqdm"
   ]
  },
  {
   "cell_type": "code",
   "execution_count": 2,
   "id": "e5934617",
   "metadata": {
    "execution": {
     "iopub.execute_input": "2024-01-08T22:03:34.409524Z",
     "iopub.status.busy": "2024-01-08T22:03:34.409120Z",
     "iopub.status.idle": "2024-01-08T22:03:34.499375Z",
     "shell.execute_reply": "2024-01-08T22:03:34.498209Z"
    },
    "papermill": {
     "duration": 0.101777,
     "end_time": "2024-01-08T22:03:34.501923",
     "exception": false,
     "start_time": "2024-01-08T22:03:34.400146",
     "status": "completed"
    },
    "tags": []
   },
   "outputs": [],
   "source": [
    "def get_ztest(group1, group2, print_result=True):\n",
    "    # Количество успехов в каждой выборке\n",
    "    count = np.array([\n",
    "        np.count_nonzero(group1),\n",
    "        np.count_nonzero(group2)\n",
    "    ])\n",
    "    \n",
    "    # Общее количество испытаний в каждой выборке\n",
    "    nobs = np.array([\n",
    "        np.size(group1),\n",
    "        np.size(group2)\n",
    "    ])\n",
    "    \n",
    "    # Выполняем Z-тест для двух пропорций\n",
    "    z_stat, p_value = proportions_ztest(count, nobs, alternative='two-sided')\n",
    "\n",
    "    if print_result:\n",
    "        if p_value < 0.05: print('H0 rejected. p-value={}'.format(p_value))\n",
    "        else: print('Сan\\'t reject H0. p-value={}'.format(p_value))\n",
    "    else:\n",
    "        return p_value\n",
    "\n",
    "\n",
    "def get_chi2test(group1, group2, print_result=True):\n",
    "    # Таблица сопряженности количества успехов и неудач в каждой выборке\n",
    "    contingency_table = np.array([\n",
    "        [np.count_nonzero(group1), np.size(group1)], \n",
    "        [np.count_nonzero(group2), np.size(group1)]\n",
    "    ])\n",
    "    \n",
    "    # Выполнение теста Хи-квадрат Пирсона\n",
    "    chi2, p_value, dof, expected_freq = stats.chi2_contingency(contingency_table)\n",
    "\n",
    "    if print_result:\n",
    "        if p_value < 0.05: print('H0 rejected. p-value={}'.format(p_value))\n",
    "        else: print('Сan\\'t reject H0. p-value={}'.format(p_value))\n",
    "    else:\n",
    "        return p_value\n",
    "\n",
    "\n",
    "def ttest_welch(group1, group2, print_result=True):\n",
    "    # Выполнение t-теста Уэлча\n",
    "    p_value = stats.ttest_ind(group1, group2, equal_var=False).pvalue\n",
    "\n",
    "    if print_result:\n",
    "        if p_value < 0.05: print('H0 rejected. p-value={}'.format(p_value))\n",
    "        else: print('Сan\\'t reject H0. p-value={}'.format(p_value))\n",
    "    else:\n",
    "        return p_value\n",
    "\n",
    "\n",
    "def ttest_student(group1, group2, print_result=False):\n",
    "    # Выполнение t-теста Стьюдента\n",
    "    p_value = stats.ttest_ind(group1, group2, equal_var=True).pvalue\n",
    "\n",
    "    if print_result:\n",
    "        if p_value < 0.05: print('H0 rejected. p-value={}'.format(p_value))\n",
    "        else: print('Сan\\'t reject H0. p-value={}'.format(p_value))\n",
    "    else:\n",
    "        return p_value\n",
    "\n",
    "\n",
    "def aatest_sim(\n",
    "    data, \n",
    "    stattest, \n",
    "    sample_size=0.9, \n",
    "    simulations=1000, \n",
    "    replace=False, \n",
    "    visualization=True,\n",
    "    pvalue=0.05\n",
    "):\n",
    "\n",
    "    boot_len = int( sample_size*np.size(data) )\n",
    "    group1, group2, result = None, None, []\n",
    "    \n",
    "    for _ in tqdm(range(simulations)):\n",
    "        \n",
    "        group1 = data.sample(\n",
    "            boot_len,\n",
    "            replace=False # выбранные значени доступны для повторного взятия\n",
    "        )#.values\n",
    "        group2 = data.sample(\n",
    "            boot_len,\n",
    "            replace=False\n",
    "        )#.values\n",
    "    \n",
    "        result.append( stattest(group1, group2, print_result=False) )\n",
    "\n",
    "    if visualization:\n",
    "        sns.histplot(result)\n",
    "    \n",
    "    # считаем длину отфильтрованного списка со значениями p values <= 0.05\n",
    "    falsepositive = len(list(filter(lambda i: i <= pvalue, result)))\n",
    "    FPR = round(falsepositive / boot_len, 4)\n",
    "    print(\"FPR={}, те {}% p-values оказались меньше либо равны {}\".format(FPR, FPR*100, pvalue))\n",
    "\n",
    "\n",
    "# Функция взята из karpov.courses\n",
    "def get_bootstrap(\n",
    "    group1, # числовые значения первой выборки\n",
    "    group2, # числовые значения второй выборки\n",
    "    boot_it = 1000, # количество бутстрэп-подвыборок\n",
    "    statistic = np.mean, # интересующая нас статистика\n",
    "    bootstrap_conf_level = 0.95 # уровень значимости\n",
    "):\n",
    "    boot_len = max([len(group1), len(group2)])\n",
    "    boot_data = []\n",
    "\n",
    "    for i in tqdm(range(boot_it)):\n",
    "        samples_1 = group1.sample(\n",
    "            boot_len,\n",
    "            replace=True # выбранные значения доступны для повторного взятия\n",
    "        ).values\n",
    "\n",
    "        samples_2 = group2.sample(\n",
    "            boot_len,\n",
    "            replace=True\n",
    "        ).values\n",
    "\n",
    "        boot_data.append(statistic(samples_1-samples_2))\n",
    "\n",
    "    pd_boot_data = pd.DataFrame(boot_data)\n",
    "\n",
    "    left_quant = (1 - bootstrap_conf_level)/2\n",
    "    right_quant = 1 - (1 - bootstrap_conf_level) / 2\n",
    "    quants = pd_boot_data.quantile([left_quant, right_quant])\n",
    "\n",
    "    p_1 = stats.norm.cdf(\n",
    "        x = 0,\n",
    "        loc = np.mean(boot_data),\n",
    "        scale = np.std(boot_data)\n",
    "    )\n",
    "    p_2 = stats.norm.cdf(\n",
    "        x = 0,\n",
    "        loc = -np.mean(boot_data),\n",
    "        scale = np.std(boot_data)\n",
    "    )\n",
    "    p_value = min(p_1, p_2) * 2\n",
    "\n",
    "    # Визуализация\n",
    "    _, _, bars = plt.hist(pd_boot_data[0], bins = 50)\n",
    "    for bar in bars:\n",
    "        if abs(bar.get_x()) <= quants.iloc[0][0] or abs(bar.get_x()) >= quants.iloc[1][0]:\n",
    "            bar.set_facecolor('red')\n",
    "        else:\n",
    "            bar.set_facecolor('grey')\n",
    "            bar.set_edgecolor('black')\n",
    "\n",
    "    plt.style.use('ggplot')\n",
    "    plt.vlines(quants, ymin=0,ymax=50,linestyle='--')\n",
    "    plt.xlabel('boot_data')\n",
    "    plt.ylabel('frequency')\n",
    "    plt.title(\"Histogram of boot_data\")\n",
    "    plt.show()\n",
    "\n",
    "    return {\n",
    "        \"boot_data\": boot_data,\n",
    "        \"quants\": quants,\n",
    "        \"p_value\": p_value\n",
    "    }"
   ]
  },
  {
   "cell_type": "markdown",
   "id": "d9005bf0",
   "metadata": {
    "papermill": {
     "duration": 0.008917,
     "end_time": "2024-01-08T22:03:34.519123",
     "exception": false,
     "start_time": "2024-01-08T22:03:34.510206",
     "status": "completed"
    },
    "tags": []
   },
   "source": [
    "# Импорт и очистка данных"
   ]
  },
  {
   "cell_type": "code",
   "execution_count": 3,
   "id": "52fb0b7b",
   "metadata": {
    "execution": {
     "iopub.execute_input": "2024-01-08T22:03:34.538402Z",
     "iopub.status.busy": "2024-01-08T22:03:34.537234Z",
     "iopub.status.idle": "2024-01-08T22:03:34.583989Z",
     "shell.execute_reply": "2024-01-08T22:03:34.583079Z"
    },
    "papermill": {
     "duration": 0.058935,
     "end_time": "2024-01-08T22:03:34.586320",
     "exception": false,
     "start_time": "2024-01-08T22:03:34.527385",
     "status": "completed"
    },
    "tags": []
   },
   "outputs": [
    {
     "data": {
      "text/html": [
       "<div>\n",
       "<style scoped>\n",
       "    .dataframe tbody tr th:only-of-type {\n",
       "        vertical-align: middle;\n",
       "    }\n",
       "\n",
       "    .dataframe tbody tr th {\n",
       "        vertical-align: top;\n",
       "    }\n",
       "\n",
       "    .dataframe thead th {\n",
       "        text-align: right;\n",
       "    }\n",
       "</style>\n",
       "<table border=\"1\" class=\"dataframe\">\n",
       "  <thead>\n",
       "    <tr style=\"text-align: right;\">\n",
       "      <th></th>\n",
       "      <th>USER_ID</th>\n",
       "      <th>VARIANT_NAME</th>\n",
       "      <th>REVENUE</th>\n",
       "    </tr>\n",
       "  </thead>\n",
       "  <tbody>\n",
       "    <tr>\n",
       "      <th>0</th>\n",
       "      <td>737</td>\n",
       "      <td>variant</td>\n",
       "      <td>0.0</td>\n",
       "    </tr>\n",
       "    <tr>\n",
       "      <th>1</th>\n",
       "      <td>2423</td>\n",
       "      <td>control</td>\n",
       "      <td>0.0</td>\n",
       "    </tr>\n",
       "    <tr>\n",
       "      <th>2</th>\n",
       "      <td>9411</td>\n",
       "      <td>control</td>\n",
       "      <td>0.0</td>\n",
       "    </tr>\n",
       "    <tr>\n",
       "      <th>3</th>\n",
       "      <td>7311</td>\n",
       "      <td>control</td>\n",
       "      <td>0.0</td>\n",
       "    </tr>\n",
       "    <tr>\n",
       "      <th>4</th>\n",
       "      <td>6174</td>\n",
       "      <td>variant</td>\n",
       "      <td>0.0</td>\n",
       "    </tr>\n",
       "  </tbody>\n",
       "</table>\n",
       "</div>"
      ],
      "text/plain": [
       "   USER_ID VARIANT_NAME  REVENUE\n",
       "0      737      variant      0.0\n",
       "1     2423      control      0.0\n",
       "2     9411      control      0.0\n",
       "3     7311      control      0.0\n",
       "4     6174      variant      0.0"
      ]
     },
     "execution_count": 3,
     "metadata": {},
     "output_type": "execute_result"
    }
   ],
   "source": [
    "file = '/kaggle/input/ab-test-data/AB_Test_Results.csv'\n",
    "data = pd.read_csv(file)\n",
    "\n",
    "data.head(5)"
   ]
  },
  {
   "cell_type": "code",
   "execution_count": 4,
   "id": "47dfd8b2",
   "metadata": {
    "execution": {
     "iopub.execute_input": "2024-01-08T22:03:34.604918Z",
     "iopub.status.busy": "2024-01-08T22:03:34.604578Z",
     "iopub.status.idle": "2024-01-08T22:03:34.628623Z",
     "shell.execute_reply": "2024-01-08T22:03:34.627346Z"
    },
    "papermill": {
     "duration": 0.035775,
     "end_time": "2024-01-08T22:03:34.630879",
     "exception": false,
     "start_time": "2024-01-08T22:03:34.595104",
     "status": "completed"
    },
    "tags": []
   },
   "outputs": [
    {
     "name": "stdout",
     "output_type": "stream",
     "text": [
      "<class 'pandas.core.frame.DataFrame'>\n",
      "RangeIndex: 10000 entries, 0 to 9999\n",
      "Data columns (total 3 columns):\n",
      " #   Column        Non-Null Count  Dtype  \n",
      "---  ------        --------------  -----  \n",
      " 0   USER_ID       10000 non-null  int64  \n",
      " 1   VARIANT_NAME  10000 non-null  object \n",
      " 2   REVENUE       10000 non-null  float64\n",
      "dtypes: float64(1), int64(1), object(1)\n",
      "memory usage: 234.5+ KB\n"
     ]
    }
   ],
   "source": [
    "data.info()"
   ]
  },
  {
   "cell_type": "code",
   "execution_count": 5,
   "id": "519e95fb",
   "metadata": {
    "execution": {
     "iopub.execute_input": "2024-01-08T22:03:34.649312Z",
     "iopub.status.busy": "2024-01-08T22:03:34.648953Z",
     "iopub.status.idle": "2024-01-08T22:03:34.661340Z",
     "shell.execute_reply": "2024-01-08T22:03:34.660156Z"
    },
    "papermill": {
     "duration": 0.024408,
     "end_time": "2024-01-08T22:03:34.663695",
     "exception": false,
     "start_time": "2024-01-08T22:03:34.639287",
     "status": "completed"
    },
    "tags": []
   },
   "outputs": [
    {
     "data": {
      "text/plain": [
       "array(['variant', 'control'], dtype=object)"
      ]
     },
     "metadata": {},
     "output_type": "display_data"
    },
    {
     "data": {
      "text/plain": [
       "USER_ID         6324\n",
       "VARIANT_NAME       2\n",
       "REVENUE          101\n",
       "dtype: int64"
      ]
     },
     "metadata": {},
     "output_type": "display_data"
    }
   ],
   "source": [
    "display(\n",
    "    data.VARIANT_NAME.unique(), \n",
    "    data.nunique()\n",
    ")"
   ]
  },
  {
   "cell_type": "markdown",
   "id": "849eec2e",
   "metadata": {
    "papermill": {
     "duration": 0.008527,
     "end_time": "2024-01-08T22:03:34.681220",
     "exception": false,
     "start_time": "2024-01-08T22:03:34.672693",
     "status": "completed"
    },
    "tags": []
   },
   "source": [
    "В столбца USER_ID, из 10000 строк, уникальных значений - 6324.\n",
    "\n",
    "По задаче, предполагаю, что данные должны быть отражены суммарно по пользователю и группе, те дублей в USER_ID быть не должно.\n",
    "\n",
    "Дальнейшии действия:\n",
    "1. Удаляем пользователей, которые попали в обе группы\n",
    "2. Удаляем полные дубли (по совпадению всех значений столбцов USER_ID, VARIANT_NAME, REVENUE), оставляем одно значение\n",
    "3. Если что-то останется, то смотрим дальше"
   ]
  },
  {
   "cell_type": "code",
   "execution_count": 6,
   "id": "24c3c14f",
   "metadata": {
    "execution": {
     "iopub.execute_input": "2024-01-08T22:03:34.700431Z",
     "iopub.status.busy": "2024-01-08T22:03:34.700075Z",
     "iopub.status.idle": "2024-01-08T22:03:34.722019Z",
     "shell.execute_reply": "2024-01-08T22:03:34.720992Z"
    },
    "papermill": {
     "duration": 0.034081,
     "end_time": "2024-01-08T22:03:34.724435",
     "exception": false,
     "start_time": "2024-01-08T22:03:34.690354",
     "status": "completed"
    },
    "tags": []
   },
   "outputs": [],
   "source": [
    "# выявление кол-ва уник групп у пользователя\n",
    "# если >1, то True, иначе - False\n",
    "\n",
    "users_get_few_group = data.groupby(by='USER_ID')['VARIANT_NAME'].agg({'nunique'}).reset_index()\n",
    "users_get_few_group = { i: True for i in users_get_few_group[users_get_few_group['nunique'] > 1]['USER_ID'].values }\n",
    "\n",
    "data['multi_group'] = data['USER_ID'].apply( lambda x: users_get_few_group.get(x, False) )\n",
    "\n",
    "# оставляем данные со значением multi_group == False, \n",
    "#     те пользователей, которые попали только в одну группу\n",
    "data_cleared = data[data['multi_group'] == False].copy()\n",
    "data_cleared.drop(columns='multi_group', inplace=True)\n",
    "\n",
    "del users_get_few_group"
   ]
  },
  {
   "cell_type": "code",
   "execution_count": 7,
   "id": "37e37911",
   "metadata": {
    "execution": {
     "iopub.execute_input": "2024-01-08T22:03:34.743437Z",
     "iopub.status.busy": "2024-01-08T22:03:34.743096Z",
     "iopub.status.idle": "2024-01-08T22:03:34.749087Z",
     "shell.execute_reply": "2024-01-08T22:03:34.748474Z"
    },
    "papermill": {
     "duration": 0.01754,
     "end_time": "2024-01-08T22:03:34.750754",
     "exception": false,
     "start_time": "2024-01-08T22:03:34.733214",
     "status": "completed"
    },
    "tags": []
   },
   "outputs": [],
   "source": [
    "# удаляем полные дубли\n",
    "data_cleared = data_cleared.drop_duplicates(\n",
    "    subset=['USER_ID', 'VARIANT_NAME', 'REVENUE'], keep='first', inplace=False, ignore_index=True)"
   ]
  },
  {
   "cell_type": "code",
   "execution_count": 8,
   "id": "befbc1a5",
   "metadata": {
    "execution": {
     "iopub.execute_input": "2024-01-08T22:03:34.770306Z",
     "iopub.status.busy": "2024-01-08T22:03:34.769453Z",
     "iopub.status.idle": "2024-01-08T22:03:34.784274Z",
     "shell.execute_reply": "2024-01-08T22:03:34.782917Z"
    },
    "papermill": {
     "duration": 0.026662,
     "end_time": "2024-01-08T22:03:34.786161",
     "exception": false,
     "start_time": "2024-01-08T22:03:34.759499",
     "status": "completed"
    },
    "tags": []
   },
   "outputs": [
    {
     "name": "stdout",
     "output_type": "stream",
     "text": [
      "<class 'pandas.core.frame.DataFrame'>\n",
      "RangeIndex: 4821 entries, 0 to 4820\n",
      "Data columns (total 3 columns):\n",
      " #   Column        Non-Null Count  Dtype  \n",
      "---  ------        --------------  -----  \n",
      " 0   USER_ID       4821 non-null   int64  \n",
      " 1   VARIANT_NAME  4821 non-null   object \n",
      " 2   REVENUE       4821 non-null   float64\n",
      "dtypes: float64(1), int64(1), object(1)\n",
      "memory usage: 113.1+ KB\n"
     ]
    },
    {
     "data": {
      "text/plain": [
       "None"
      ]
     },
     "metadata": {},
     "output_type": "display_data"
    },
    {
     "data": {
      "text/plain": [
       "USER_ID         4783\n",
       "VARIANT_NAME       2\n",
       "REVENUE           70\n",
       "dtype: int64"
      ]
     },
     "metadata": {},
     "output_type": "display_data"
    }
   ],
   "source": [
    "# смотрим что осталось\n",
    "display(\n",
    "    data_cleared.info(),\n",
    "    data_cleared.nunique()\n",
    ")"
   ]
  },
  {
   "cell_type": "markdown",
   "id": "eaa77932",
   "metadata": {
    "papermill": {
     "duration": 0.008731,
     "end_time": "2024-01-08T22:03:34.803958",
     "exception": false,
     "start_time": "2024-01-08T22:03:34.795227",
     "status": "completed"
    },
    "tags": []
   },
   "source": [
    "Все еще есть дубликаты USER_ID. Тк, пользователей с 2 группами и полные совпадения по столбцам мы убрали, возможно, остались дубли с разными значениями в REVENUE.\n",
    "\n"
   ]
  },
  {
   "cell_type": "code",
   "execution_count": 9,
   "id": "d63ea5ab",
   "metadata": {
    "execution": {
     "iopub.execute_input": "2024-01-08T22:03:34.822917Z",
     "iopub.status.busy": "2024-01-08T22:03:34.822542Z",
     "iopub.status.idle": "2024-01-08T22:03:34.836525Z",
     "shell.execute_reply": "2024-01-08T22:03:34.835563Z"
    },
    "papermill": {
     "duration": 0.026142,
     "end_time": "2024-01-08T22:03:34.838710",
     "exception": false,
     "start_time": "2024-01-08T22:03:34.812568",
     "status": "completed"
    },
    "tags": []
   },
   "outputs": [
    {
     "data": {
      "text/html": [
       "<div>\n",
       "<style scoped>\n",
       "    .dataframe tbody tr th:only-of-type {\n",
       "        vertical-align: middle;\n",
       "    }\n",
       "\n",
       "    .dataframe tbody tr th {\n",
       "        vertical-align: top;\n",
       "    }\n",
       "\n",
       "    .dataframe thead th {\n",
       "        text-align: right;\n",
       "    }\n",
       "</style>\n",
       "<table border=\"1\" class=\"dataframe\">\n",
       "  <thead>\n",
       "    <tr style=\"text-align: right;\">\n",
       "      <th></th>\n",
       "      <th>USER_ID</th>\n",
       "      <th>VARIANT_NAME</th>\n",
       "      <th>REVENUE</th>\n",
       "    </tr>\n",
       "  </thead>\n",
       "  <tbody>\n",
       "    <tr>\n",
       "      <th>3359</th>\n",
       "      <td>124</td>\n",
       "      <td>control</td>\n",
       "      <td>1.25</td>\n",
       "    </tr>\n",
       "    <tr>\n",
       "      <th>4070</th>\n",
       "      <td>124</td>\n",
       "      <td>control</td>\n",
       "      <td>0.00</td>\n",
       "    </tr>\n",
       "    <tr>\n",
       "      <th>2440</th>\n",
       "      <td>169</td>\n",
       "      <td>control</td>\n",
       "      <td>4.33</td>\n",
       "    </tr>\n",
       "    <tr>\n",
       "      <th>3315</th>\n",
       "      <td>169</td>\n",
       "      <td>control</td>\n",
       "      <td>0.00</td>\n",
       "    </tr>\n",
       "    <tr>\n",
       "      <th>2723</th>\n",
       "      <td>282</td>\n",
       "      <td>control</td>\n",
       "      <td>0.00</td>\n",
       "    </tr>\n",
       "    <tr>\n",
       "      <th>...</th>\n",
       "      <td>...</td>\n",
       "      <td>...</td>\n",
       "      <td>...</td>\n",
       "    </tr>\n",
       "    <tr>\n",
       "      <th>10</th>\n",
       "      <td>8927</td>\n",
       "      <td>variant</td>\n",
       "      <td>0.00</td>\n",
       "    </tr>\n",
       "    <tr>\n",
       "      <th>1063</th>\n",
       "      <td>9766</td>\n",
       "      <td>control</td>\n",
       "      <td>0.00</td>\n",
       "    </tr>\n",
       "    <tr>\n",
       "      <th>3317</th>\n",
       "      <td>9766</td>\n",
       "      <td>control</td>\n",
       "      <td>3.79</td>\n",
       "    </tr>\n",
       "    <tr>\n",
       "      <th>1257</th>\n",
       "      <td>9928</td>\n",
       "      <td>variant</td>\n",
       "      <td>0.00</td>\n",
       "    </tr>\n",
       "    <tr>\n",
       "      <th>4688</th>\n",
       "      <td>9928</td>\n",
       "      <td>variant</td>\n",
       "      <td>1.25</td>\n",
       "    </tr>\n",
       "  </tbody>\n",
       "</table>\n",
       "<p>76 rows × 3 columns</p>\n",
       "</div>"
      ],
      "text/plain": [
       "      USER_ID VARIANT_NAME  REVENUE\n",
       "3359      124      control     1.25\n",
       "4070      124      control     0.00\n",
       "2440      169      control     4.33\n",
       "3315      169      control     0.00\n",
       "2723      282      control     0.00\n",
       "...       ...          ...      ...\n",
       "10       8927      variant     0.00\n",
       "1063     9766      control     0.00\n",
       "3317     9766      control     3.79\n",
       "1257     9928      variant     0.00\n",
       "4688     9928      variant     1.25\n",
       "\n",
       "[76 rows x 3 columns]"
      ]
     },
     "execution_count": 9,
     "metadata": {},
     "output_type": "execute_result"
    }
   ],
   "source": [
    "# проверим предположение, описанное выше\n",
    "data_cleared[data_cleared.duplicated(\n",
    "    subset=['USER_ID', 'VARIANT_NAME'], keep=False) == True].sort_values(by='USER_ID')"
   ]
  },
  {
   "cell_type": "markdown",
   "id": "6779e6fd",
   "metadata": {
    "papermill": {
     "duration": 0.008708,
     "end_time": "2024-01-08T22:03:34.856799",
     "exception": false,
     "start_time": "2024-01-08T22:03:34.848091",
     "status": "completed"
    },
    "tags": []
   },
   "source": [
    "Просуммируем данные по USER_ID, VARIANT_NAME"
   ]
  },
  {
   "cell_type": "code",
   "execution_count": 10,
   "id": "e4365465",
   "metadata": {
    "execution": {
     "iopub.execute_input": "2024-01-08T22:03:34.876646Z",
     "iopub.status.busy": "2024-01-08T22:03:34.876044Z",
     "iopub.status.idle": "2024-01-08T22:03:34.885428Z",
     "shell.execute_reply": "2024-01-08T22:03:34.884833Z"
    },
    "papermill": {
     "duration": 0.021505,
     "end_time": "2024-01-08T22:03:34.887131",
     "exception": false,
     "start_time": "2024-01-08T22:03:34.865626",
     "status": "completed"
    },
    "tags": []
   },
   "outputs": [],
   "source": [
    "# суммируем по USER_ID, VARIANT_NAME\n",
    "data_cleared = data_cleared.groupby(by=['USER_ID', 'VARIANT_NAME']).REVENUE.sum().reset_index()"
   ]
  },
  {
   "cell_type": "code",
   "execution_count": 11,
   "id": "b37dd80c",
   "metadata": {
    "execution": {
     "iopub.execute_input": "2024-01-08T22:03:34.906391Z",
     "iopub.status.busy": "2024-01-08T22:03:34.906082Z",
     "iopub.status.idle": "2024-01-08T22:03:34.920446Z",
     "shell.execute_reply": "2024-01-08T22:03:34.919796Z"
    },
    "papermill": {
     "duration": 0.025972,
     "end_time": "2024-01-08T22:03:34.922110",
     "exception": false,
     "start_time": "2024-01-08T22:03:34.896138",
     "status": "completed"
    },
    "tags": []
   },
   "outputs": [
    {
     "name": "stdout",
     "output_type": "stream",
     "text": [
      "<class 'pandas.core.frame.DataFrame'>\n",
      "RangeIndex: 4783 entries, 0 to 4782\n",
      "Data columns (total 3 columns):\n",
      " #   Column        Non-Null Count  Dtype  \n",
      "---  ------        --------------  -----  \n",
      " 0   USER_ID       4783 non-null   int64  \n",
      " 1   VARIANT_NAME  4783 non-null   object \n",
      " 2   REVENUE       4783 non-null   float64\n",
      "dtypes: float64(1), int64(1), object(1)\n",
      "memory usage: 112.2+ KB\n"
     ]
    },
    {
     "data": {
      "text/plain": [
       "None"
      ]
     },
     "metadata": {},
     "output_type": "display_data"
    },
    {
     "data": {
      "text/plain": [
       "USER_ID         4783\n",
       "VARIANT_NAME       2\n",
       "REVENUE           71\n",
       "dtype: int64"
      ]
     },
     "metadata": {},
     "output_type": "display_data"
    }
   ],
   "source": [
    "display(\n",
    "    data_cleared.info(),\n",
    "    data_cleared.nunique()\n",
    ")"
   ]
  },
  {
   "cell_type": "markdown",
   "id": "0eb3499d",
   "metadata": {
    "papermill": {
     "duration": 0.009027,
     "end_time": "2024-01-08T22:03:34.940503",
     "exception": false,
     "start_time": "2024-01-08T22:03:34.931476",
     "status": "completed"
    },
    "tags": []
   },
   "source": [
    "Остались только уникальные USER_ID"
   ]
  },
  {
   "cell_type": "code",
   "execution_count": 12,
   "id": "a220282d",
   "metadata": {
    "execution": {
     "iopub.execute_input": "2024-01-08T22:03:35.008268Z",
     "iopub.status.busy": "2024-01-08T22:03:35.007229Z",
     "iopub.status.idle": "2024-01-08T22:03:35.014958Z",
     "shell.execute_reply": "2024-01-08T22:03:35.013545Z"
    },
    "papermill": {
     "duration": 0.067798,
     "end_time": "2024-01-08T22:03:35.017366",
     "exception": false,
     "start_time": "2024-01-08T22:03:34.949568",
     "status": "completed"
    },
    "tags": []
   },
   "outputs": [],
   "source": [
    "# для оценки конверсии, добавим флаг факта покупки\n",
    "# если REVENUE = 0, то False. если REVENUE > 0, то True.\n",
    "\n",
    "data_cleared['IS_PAYED'] = data_cleared['REVENUE'].apply(lambda x: True if x > 0 else False)"
   ]
  },
  {
   "cell_type": "code",
   "execution_count": 13,
   "id": "7edf9abe",
   "metadata": {
    "execution": {
     "iopub.execute_input": "2024-01-08T22:03:35.039244Z",
     "iopub.status.busy": "2024-01-08T22:03:35.038905Z",
     "iopub.status.idle": "2024-01-08T22:03:35.061635Z",
     "shell.execute_reply": "2024-01-08T22:03:35.060644Z"
    },
    "papermill": {
     "duration": 0.036039,
     "end_time": "2024-01-08T22:03:35.063512",
     "exception": false,
     "start_time": "2024-01-08T22:03:35.027473",
     "status": "completed"
    },
    "tags": []
   },
   "outputs": [
    {
     "data": {
      "text/html": [
       "<div>\n",
       "<style scoped>\n",
       "    .dataframe tbody tr th:only-of-type {\n",
       "        vertical-align: middle;\n",
       "    }\n",
       "\n",
       "    .dataframe tbody tr th {\n",
       "        vertical-align: top;\n",
       "    }\n",
       "\n",
       "    .dataframe thead th {\n",
       "        text-align: right;\n",
       "    }\n",
       "</style>\n",
       "<table border=\"1\" class=\"dataframe\">\n",
       "  <thead>\n",
       "    <tr style=\"text-align: right;\">\n",
       "      <th></th>\n",
       "      <th>count</th>\n",
       "      <th>mean</th>\n",
       "      <th>std</th>\n",
       "      <th>min</th>\n",
       "      <th>25%</th>\n",
       "      <th>50%</th>\n",
       "      <th>75%</th>\n",
       "      <th>max</th>\n",
       "    </tr>\n",
       "    <tr>\n",
       "      <th>VARIANT_NAME</th>\n",
       "      <th></th>\n",
       "      <th></th>\n",
       "      <th></th>\n",
       "      <th></th>\n",
       "      <th></th>\n",
       "      <th></th>\n",
       "      <th></th>\n",
       "      <th></th>\n",
       "    </tr>\n",
       "  </thead>\n",
       "  <tbody>\n",
       "    <tr>\n",
       "      <th>control</th>\n",
       "      <td>2390.0</td>\n",
       "      <td>0.196887</td>\n",
       "      <td>4.172201</td>\n",
       "      <td>0.0</td>\n",
       "      <td>0.0</td>\n",
       "      <td>0.0</td>\n",
       "      <td>0.0</td>\n",
       "      <td>196.01</td>\n",
       "    </tr>\n",
       "    <tr>\n",
       "      <th>variant</th>\n",
       "      <td>2393.0</td>\n",
       "      <td>0.074935</td>\n",
       "      <td>0.858207</td>\n",
       "      <td>0.0</td>\n",
       "      <td>0.0</td>\n",
       "      <td>0.0</td>\n",
       "      <td>0.0</td>\n",
       "      <td>23.04</td>\n",
       "    </tr>\n",
       "  </tbody>\n",
       "</table>\n",
       "</div>"
      ],
      "text/plain": [
       "               count      mean       std  min  25%  50%  75%     max\n",
       "VARIANT_NAME                                                        \n",
       "control       2390.0  0.196887  4.172201  0.0  0.0  0.0  0.0  196.01\n",
       "variant       2393.0  0.074935  0.858207  0.0  0.0  0.0  0.0   23.04"
      ]
     },
     "execution_count": 13,
     "metadata": {},
     "output_type": "execute_result"
    }
   ],
   "source": [
    "# показатели на основе всех данных\n",
    "data_cleared.groupby(by=['VARIANT_NAME']).REVENUE.describe()"
   ]
  },
  {
   "cell_type": "code",
   "execution_count": 14,
   "id": "3f26971c",
   "metadata": {
    "execution": {
     "iopub.execute_input": "2024-01-08T22:03:35.084750Z",
     "iopub.status.busy": "2024-01-08T22:03:35.084397Z",
     "iopub.status.idle": "2024-01-08T22:03:35.114902Z",
     "shell.execute_reply": "2024-01-08T22:03:35.114006Z"
    },
    "papermill": {
     "duration": 0.043,
     "end_time": "2024-01-08T22:03:35.116707",
     "exception": false,
     "start_time": "2024-01-08T22:03:35.073707",
     "status": "completed"
    },
    "tags": []
   },
   "outputs": [
    {
     "data": {
      "text/html": [
       "<div>\n",
       "<style scoped>\n",
       "    .dataframe tbody tr th:only-of-type {\n",
       "        vertical-align: middle;\n",
       "    }\n",
       "\n",
       "    .dataframe tbody tr th {\n",
       "        vertical-align: top;\n",
       "    }\n",
       "\n",
       "    .dataframe thead th {\n",
       "        text-align: right;\n",
       "    }\n",
       "</style>\n",
       "<table border=\"1\" class=\"dataframe\">\n",
       "  <thead>\n",
       "    <tr style=\"text-align: right;\">\n",
       "      <th></th>\n",
       "      <th></th>\n",
       "      <th>count</th>\n",
       "      <th>mean</th>\n",
       "      <th>std</th>\n",
       "      <th>min</th>\n",
       "      <th>25%</th>\n",
       "      <th>50%</th>\n",
       "      <th>75%</th>\n",
       "      <th>max</th>\n",
       "    </tr>\n",
       "    <tr>\n",
       "      <th>VARIANT_NAME</th>\n",
       "      <th>IS_PAYED</th>\n",
       "      <th></th>\n",
       "      <th></th>\n",
       "      <th></th>\n",
       "      <th></th>\n",
       "      <th></th>\n",
       "      <th></th>\n",
       "      <th></th>\n",
       "      <th></th>\n",
       "    </tr>\n",
       "  </thead>\n",
       "  <tbody>\n",
       "    <tr>\n",
       "      <th rowspan=\"2\" valign=\"top\">control</th>\n",
       "      <th>False</th>\n",
       "      <td>2336.0</td>\n",
       "      <td>0.000000</td>\n",
       "      <td>0.000000</td>\n",
       "      <td>0.00</td>\n",
       "      <td>0.0000</td>\n",
       "      <td>0.00</td>\n",
       "      <td>0.0000</td>\n",
       "      <td>0.00</td>\n",
       "    </tr>\n",
       "    <tr>\n",
       "      <th>True</th>\n",
       "      <td>54.0</td>\n",
       "      <td>8.714074</td>\n",
       "      <td>26.627446</td>\n",
       "      <td>0.02</td>\n",
       "      <td>1.5850</td>\n",
       "      <td>3.12</td>\n",
       "      <td>6.0075</td>\n",
       "      <td>196.01</td>\n",
       "    </tr>\n",
       "    <tr>\n",
       "      <th rowspan=\"2\" valign=\"top\">variant</th>\n",
       "      <th>False</th>\n",
       "      <td>2351.0</td>\n",
       "      <td>0.000000</td>\n",
       "      <td>0.000000</td>\n",
       "      <td>0.00</td>\n",
       "      <td>0.0000</td>\n",
       "      <td>0.00</td>\n",
       "      <td>0.0000</td>\n",
       "      <td>0.00</td>\n",
       "    </tr>\n",
       "    <tr>\n",
       "      <th>True</th>\n",
       "      <td>42.0</td>\n",
       "      <td>4.269524</td>\n",
       "      <td>4.962253</td>\n",
       "      <td>0.02</td>\n",
       "      <td>1.2625</td>\n",
       "      <td>2.97</td>\n",
       "      <td>4.2700</td>\n",
       "      <td>23.04</td>\n",
       "    </tr>\n",
       "  </tbody>\n",
       "</table>\n",
       "</div>"
      ],
      "text/plain": [
       "                        count      mean        std   min     25%   50%  \\\n",
       "VARIANT_NAME IS_PAYED                                                    \n",
       "control      False     2336.0  0.000000   0.000000  0.00  0.0000  0.00   \n",
       "             True        54.0  8.714074  26.627446  0.02  1.5850  3.12   \n",
       "variant      False     2351.0  0.000000   0.000000  0.00  0.0000  0.00   \n",
       "             True        42.0  4.269524   4.962253  0.02  1.2625  2.97   \n",
       "\n",
       "                          75%     max  \n",
       "VARIANT_NAME IS_PAYED                  \n",
       "control      False     0.0000    0.00  \n",
       "             True      6.0075  196.01  \n",
       "variant      False     0.0000    0.00  \n",
       "             True      4.2700   23.04  "
      ]
     },
     "execution_count": 14,
     "metadata": {},
     "output_type": "execute_result"
    }
   ],
   "source": [
    "# показатели в разрезе значения IS_PAYED\n",
    "data_cleared.groupby(by=['VARIANT_NAME', 'IS_PAYED']).REVENUE.describe()"
   ]
  },
  {
   "cell_type": "code",
   "execution_count": 15,
   "id": "e897eced",
   "metadata": {
    "execution": {
     "iopub.execute_input": "2024-01-08T22:03:35.137386Z",
     "iopub.status.busy": "2024-01-08T22:03:35.137076Z",
     "iopub.status.idle": "2024-01-08T22:03:35.903149Z",
     "shell.execute_reply": "2024-01-08T22:03:35.902124Z"
    },
    "papermill": {
     "duration": 0.778993,
     "end_time": "2024-01-08T22:03:35.905453",
     "exception": false,
     "start_time": "2024-01-08T22:03:35.126460",
     "status": "completed"
    },
    "tags": []
   },
   "outputs": [
    {
     "data": {
      "text/plain": [
       "<Axes: xlabel='REVENUE', ylabel='Count'>"
      ]
     },
     "execution_count": 15,
     "metadata": {},
     "output_type": "execute_result"
    },
    {
     "data": {
      "image/png": "[encoded data removed]",
      "text/plain": [
       "<Figure size 640x480 with 1 Axes>"
      ]
     },
     "metadata": {},
     "output_type": "display_data"
    }
   ],
   "source": [
    "sns.histplot(data=data_cleared[(data_cleared['IS_PAYED'] == True)], x='REVENUE', hue='VARIANT_NAME')"
   ]
  },
  {
   "cell_type": "markdown",
   "id": "fadd05c5",
   "metadata": {
    "papermill": {
     "duration": 0.009732,
     "end_time": "2024-01-08T22:03:35.925671",
     "exception": false,
     "start_time": "2024-01-08T22:03:35.915939",
     "status": "completed"
    },
    "tags": []
   },
   "source": [
    "Видим, чтто группа \"control\" имеет явный выброс. При этом, большенство значений находится в пределах 25. Исключим все, что больше 25. Будет -2 значения в группы \"control\""
   ]
  },
  {
   "cell_type": "code",
   "execution_count": 16,
   "id": "de3eb54b",
   "metadata": {
    "execution": {
     "iopub.execute_input": "2024-01-08T22:03:35.947240Z",
     "iopub.status.busy": "2024-01-08T22:03:35.946749Z",
     "iopub.status.idle": "2024-01-08T22:03:35.951165Z",
     "shell.execute_reply": "2024-01-08T22:03:35.950580Z"
    },
    "papermill": {
     "duration": 0.017077,
     "end_time": "2024-01-08T22:03:35.952770",
     "exception": false,
     "start_time": "2024-01-08T22:03:35.935693",
     "status": "completed"
    },
    "tags": []
   },
   "outputs": [],
   "source": [
    "data_cleared = data_cleared[data_cleared.REVENUE < 25]"
   ]
  },
  {
   "cell_type": "markdown",
   "id": "404e50c4",
   "metadata": {
    "papermill": {
     "duration": 0.009863,
     "end_time": "2024-01-08T22:03:35.973105",
     "exception": false,
     "start_time": "2024-01-08T22:03:35.963242",
     "status": "completed"
    },
    "tags": []
   },
   "source": [
    "# Обработанные данные"
   ]
  },
  {
   "cell_type": "code",
   "execution_count": 17,
   "id": "760a7e3e",
   "metadata": {
    "execution": {
     "iopub.execute_input": "2024-01-08T22:03:35.994804Z",
     "iopub.status.busy": "2024-01-08T22:03:35.994426Z",
     "iopub.status.idle": "2024-01-08T22:03:36.012521Z",
     "shell.execute_reply": "2024-01-08T22:03:36.011667Z"
    },
    "papermill": {
     "duration": 0.031574,
     "end_time": "2024-01-08T22:03:36.014574",
     "exception": false,
     "start_time": "2024-01-08T22:03:35.983000",
     "status": "completed"
    },
    "tags": []
   },
   "outputs": [
    {
     "data": {
      "text/html": [
       "<div>\n",
       "<style scoped>\n",
       "    .dataframe tbody tr th:only-of-type {\n",
       "        vertical-align: middle;\n",
       "    }\n",
       "\n",
       "    .dataframe tbody tr th {\n",
       "        vertical-align: top;\n",
       "    }\n",
       "\n",
       "    .dataframe thead th {\n",
       "        text-align: right;\n",
       "    }\n",
       "</style>\n",
       "<table border=\"1\" class=\"dataframe\">\n",
       "  <thead>\n",
       "    <tr style=\"text-align: right;\">\n",
       "      <th></th>\n",
       "      <th>count</th>\n",
       "      <th>mean</th>\n",
       "      <th>std</th>\n",
       "      <th>min</th>\n",
       "      <th>25%</th>\n",
       "      <th>50%</th>\n",
       "      <th>75%</th>\n",
       "      <th>max</th>\n",
       "    </tr>\n",
       "    <tr>\n",
       "      <th>VARIANT_NAME</th>\n",
       "      <th></th>\n",
       "      <th></th>\n",
       "      <th></th>\n",
       "      <th></th>\n",
       "      <th></th>\n",
       "      <th></th>\n",
       "      <th></th>\n",
       "      <th></th>\n",
       "    </tr>\n",
       "  </thead>\n",
       "  <tbody>\n",
       "    <tr>\n",
       "      <th>control</th>\n",
       "      <td>2388.0</td>\n",
       "      <td>0.102693</td>\n",
       "      <td>0.997238</td>\n",
       "      <td>0.0</td>\n",
       "      <td>0.0</td>\n",
       "      <td>0.0</td>\n",
       "      <td>0.0</td>\n",
       "      <td>20.07</td>\n",
       "    </tr>\n",
       "    <tr>\n",
       "      <th>variant</th>\n",
       "      <td>2393.0</td>\n",
       "      <td>0.074935</td>\n",
       "      <td>0.858207</td>\n",
       "      <td>0.0</td>\n",
       "      <td>0.0</td>\n",
       "      <td>0.0</td>\n",
       "      <td>0.0</td>\n",
       "      <td>23.04</td>\n",
       "    </tr>\n",
       "  </tbody>\n",
       "</table>\n",
       "</div>"
      ],
      "text/plain": [
       "               count      mean       std  min  25%  50%  75%    max\n",
       "VARIANT_NAME                                                       \n",
       "control       2388.0  0.102693  0.997238  0.0  0.0  0.0  0.0  20.07\n",
       "variant       2393.0  0.074935  0.858207  0.0  0.0  0.0  0.0  23.04"
      ]
     },
     "execution_count": 17,
     "metadata": {},
     "output_type": "execute_result"
    }
   ],
   "source": [
    "# показатели на основе всех данных\n",
    "data_cleared.groupby(by=['VARIANT_NAME']).REVENUE.describe()"
   ]
  },
  {
   "cell_type": "code",
   "execution_count": 18,
   "id": "308f00ff",
   "metadata": {
    "execution": {
     "iopub.execute_input": "2024-01-08T22:03:36.037452Z",
     "iopub.status.busy": "2024-01-08T22:03:36.037106Z",
     "iopub.status.idle": "2024-01-08T22:03:36.065273Z",
     "shell.execute_reply": "2024-01-08T22:03:36.064132Z"
    },
    "papermill": {
     "duration": 0.042063,
     "end_time": "2024-01-08T22:03:36.067326",
     "exception": false,
     "start_time": "2024-01-08T22:03:36.025263",
     "status": "completed"
    },
    "tags": []
   },
   "outputs": [
    {
     "data": {
      "text/html": [
       "<div>\n",
       "<style scoped>\n",
       "    .dataframe tbody tr th:only-of-type {\n",
       "        vertical-align: middle;\n",
       "    }\n",
       "\n",
       "    .dataframe tbody tr th {\n",
       "        vertical-align: top;\n",
       "    }\n",
       "\n",
       "    .dataframe thead th {\n",
       "        text-align: right;\n",
       "    }\n",
       "</style>\n",
       "<table border=\"1\" class=\"dataframe\">\n",
       "  <thead>\n",
       "    <tr style=\"text-align: right;\">\n",
       "      <th></th>\n",
       "      <th></th>\n",
       "      <th>count</th>\n",
       "      <th>mean</th>\n",
       "      <th>std</th>\n",
       "      <th>min</th>\n",
       "      <th>25%</th>\n",
       "      <th>50%</th>\n",
       "      <th>75%</th>\n",
       "      <th>max</th>\n",
       "    </tr>\n",
       "    <tr>\n",
       "      <th>VARIANT_NAME</th>\n",
       "      <th>IS_PAYED</th>\n",
       "      <th></th>\n",
       "      <th></th>\n",
       "      <th></th>\n",
       "      <th></th>\n",
       "      <th></th>\n",
       "      <th></th>\n",
       "      <th></th>\n",
       "      <th></th>\n",
       "    </tr>\n",
       "  </thead>\n",
       "  <tbody>\n",
       "    <tr>\n",
       "      <th rowspan=\"2\" valign=\"top\">control</th>\n",
       "      <th>False</th>\n",
       "      <td>2336.0</td>\n",
       "      <td>0.000000</td>\n",
       "      <td>0.000000</td>\n",
       "      <td>0.00</td>\n",
       "      <td>0.0000</td>\n",
       "      <td>0.00</td>\n",
       "      <td>0.0000</td>\n",
       "      <td>0.00</td>\n",
       "    </tr>\n",
       "    <tr>\n",
       "      <th>True</th>\n",
       "      <td>52.0</td>\n",
       "      <td>4.715962</td>\n",
       "      <td>4.935908</td>\n",
       "      <td>0.02</td>\n",
       "      <td>1.4825</td>\n",
       "      <td>2.99</td>\n",
       "      <td>4.9575</td>\n",
       "      <td>20.07</td>\n",
       "    </tr>\n",
       "    <tr>\n",
       "      <th rowspan=\"2\" valign=\"top\">variant</th>\n",
       "      <th>False</th>\n",
       "      <td>2351.0</td>\n",
       "      <td>0.000000</td>\n",
       "      <td>0.000000</td>\n",
       "      <td>0.00</td>\n",
       "      <td>0.0000</td>\n",
       "      <td>0.00</td>\n",
       "      <td>0.0000</td>\n",
       "      <td>0.00</td>\n",
       "    </tr>\n",
       "    <tr>\n",
       "      <th>True</th>\n",
       "      <td>42.0</td>\n",
       "      <td>4.269524</td>\n",
       "      <td>4.962253</td>\n",
       "      <td>0.02</td>\n",
       "      <td>1.2625</td>\n",
       "      <td>2.97</td>\n",
       "      <td>4.2700</td>\n",
       "      <td>23.04</td>\n",
       "    </tr>\n",
       "  </tbody>\n",
       "</table>\n",
       "</div>"
      ],
      "text/plain": [
       "                        count      mean       std   min     25%   50%     75%  \\\n",
       "VARIANT_NAME IS_PAYED                                                           \n",
       "control      False     2336.0  0.000000  0.000000  0.00  0.0000  0.00  0.0000   \n",
       "             True        52.0  4.715962  4.935908  0.02  1.4825  2.99  4.9575   \n",
       "variant      False     2351.0  0.000000  0.000000  0.00  0.0000  0.00  0.0000   \n",
       "             True        42.0  4.269524  4.962253  0.02  1.2625  2.97  4.2700   \n",
       "\n",
       "                         max  \n",
       "VARIANT_NAME IS_PAYED         \n",
       "control      False      0.00  \n",
       "             True      20.07  \n",
       "variant      False      0.00  \n",
       "             True      23.04  "
      ]
     },
     "execution_count": 18,
     "metadata": {},
     "output_type": "execute_result"
    }
   ],
   "source": [
    "# показатели в разрезе значения IS_PAYED\n",
    "data_cleared.groupby(by=['VARIANT_NAME', 'IS_PAYED']).REVENUE.describe()"
   ]
  },
  {
   "cell_type": "code",
   "execution_count": 19,
   "id": "f6fa3e3a",
   "metadata": {
    "execution": {
     "iopub.execute_input": "2024-01-08T22:03:36.090080Z",
     "iopub.status.busy": "2024-01-08T22:03:36.089741Z",
     "iopub.status.idle": "2024-01-08T22:03:36.447136Z",
     "shell.execute_reply": "2024-01-08T22:03:36.446124Z"
    },
    "papermill": {
     "duration": 0.371079,
     "end_time": "2024-01-08T22:03:36.449098",
     "exception": false,
     "start_time": "2024-01-08T22:03:36.078019",
     "status": "completed"
    },
    "tags": []
   },
   "outputs": [
    {
     "data": {
      "text/plain": [
       "<Axes: xlabel='REVENUE', ylabel='Count'>"
      ]
     },
     "execution_count": 19,
     "metadata": {},
     "output_type": "execute_result"
    },
    {
     "data": {
      "image/png": "[encoded data removed]",
      "text/plain": [
       "<Figure size 640x480 with 1 Axes>"
      ]
     },
     "metadata": {},
     "output_type": "display_data"
    }
   ],
   "source": [
    "sns.histplot(data=data_cleared[(data_cleared['IS_PAYED'] == True)], x='REVENUE', hue='VARIANT_NAME')"
   ]
  },
  {
   "cell_type": "markdown",
   "id": "39e392e5",
   "metadata": {
    "papermill": {
     "duration": 0.010505,
     "end_time": "2024-01-08T22:03:36.470706",
     "exception": false,
     "start_time": "2024-01-08T22:03:36.460201",
     "status": "completed"
    },
    "tags": []
   },
   "source": [
    "# Статанализ"
   ]
  },
  {
   "cell_type": "markdown",
   "id": "e26dda6f",
   "metadata": {
    "papermill": {
     "duration": 0.012129,
     "end_time": "2024-01-08T22:03:36.494704",
     "exception": false,
     "start_time": "2024-01-08T22:03:36.482575",
     "status": "completed"
    },
    "tags": []
   },
   "source": [
    "Изначальный датасет **data** => в \"чистый\" датасет **data_cleared**\n",
    "\n",
    "Метрики для оценки:\n",
    "1. Конверсия в покупку (конверсия)\n",
    "2. ARPU (пользовательская)\n",
    "\n",
    "Параметры для теста:\n",
    "* H0 - нет разницы между группами\n",
    "* H1 - есть разница между группами\n",
    "* alpha = 0.05"
   ]
  },
  {
   "cell_type": "markdown",
   "id": "b69c2f3a",
   "metadata": {
    "papermill": {
     "duration": 0.010663,
     "end_time": "2024-01-08T22:03:36.516479",
     "exception": false,
     "start_time": "2024-01-08T22:03:36.505816",
     "status": "completed"
    },
    "tags": []
   },
   "source": [
    "## 1. Конверсия"
   ]
  },
  {
   "cell_type": "markdown",
   "id": "69062617",
   "metadata": {
    "papermill": {
     "duration": 0.010966,
     "end_time": "2024-01-08T22:03:36.539063",
     "exception": false,
     "start_time": "2024-01-08T22:03:36.528097",
     "status": "completed"
    },
    "tags": []
   },
   "source": [
    "Распределение данных отлично от нормального, поэтому предпочтительны непараметрические тесты: Манн-Уитни, хи-квадрат (критерий согласия Пирсона)/критерий Фишера, непараметрический бутстреп. НО:\n",
    "* тест Манн-Уитни не подходит, тк в данных много повторяющихся значений - тест становится менее чувствительным.\n",
    "* критерий Фишера предпочтителен для небольшого объема данны\n",
    "\n",
    "Для оценки конверсии, рассмотрим тесты: Z-тест, хи-квадрат, непараметрический бутстреп."
   ]
  },
  {
   "cell_type": "markdown",
   "id": "8c940a0b",
   "metadata": {
    "papermill": {
     "duration": 0.011202,
     "end_time": "2024-01-08T22:03:36.561259",
     "exception": false,
     "start_time": "2024-01-08T22:03:36.550057",
     "status": "completed"
    },
    "tags": []
   },
   "source": [
    "## A/A-тест и FPR-метрика"
   ]
  },
  {
   "cell_type": "markdown",
   "id": "0951ffff",
   "metadata": {
    "papermill": {
     "duration": 0.010937,
     "end_time": "2024-01-08T22:03:36.583413",
     "exception": false,
     "start_time": "2024-01-08T22:03:36.572476",
     "status": "completed"
    },
    "tags": []
   },
   "source": [
    "False Positive Rate (FPR) = FP / (FP + TN) = FP/N(sim), где FP - количество False Positive, TN - количество True Negative. Ложно положительный результат - результат определяется как положительный при том, что он на самом деле отрицательный."
   ]
  },
  {
   "cell_type": "code",
   "execution_count": 20,
   "id": "ad3a54a1",
   "metadata": {
    "execution": {
     "iopub.execute_input": "2024-01-08T22:03:36.607748Z",
     "iopub.status.busy": "2024-01-08T22:03:36.607408Z",
     "iopub.status.idle": "2024-01-08T22:03:41.929674Z",
     "shell.execute_reply": "2024-01-08T22:03:41.928664Z"
    },
    "papermill": {
     "duration": 5.336961,
     "end_time": "2024-01-08T22:03:41.931757",
     "exception": false,
     "start_time": "2024-01-08T22:03:36.594796",
     "status": "completed"
    },
    "tags": []
   },
   "outputs": [
    {
     "data": {
      "application/vnd.jupyter.widget-view+json": {
       "model_id": "254102f0a29f48baa2409a107ae6ffdb",
       "version_major": 2,
       "version_minor": 0
      },
      "text/plain": [
       "  0%|          | 0/10000 [00:00<?, ?it/s]"
      ]
     },
     "metadata": {},
     "output_type": "display_data"
    },
    {
     "name": "stdout",
     "output_type": "stream",
     "text": [
      "FPR=0.0, те 0.0% p-values оказались меньше либо равны 0.05\n"
     ]
    },
    {
     "data": {
      "image/png": "[encoded data removed]",
      "text/plain": [
       "<Figure size 640x480 with 1 Axes>"
      ]
     },
     "metadata": {},
     "output_type": "display_data"
    }
   ],
   "source": [
    "aatest_sim(\n",
    "    data_cleared[data_cleared.VARIANT_NAME == 'control'].IS_PAYED,\n",
    "    stattest=get_ztest,\n",
    "    sample_size=0.9,\n",
    "    simulations=10000,\n",
    "    replace=False, \n",
    "    visualization=True,\n",
    "    pvalue=0.05\n",
    ")"
   ]
  },
  {
   "cell_type": "markdown",
   "id": "cb2669df",
   "metadata": {
    "papermill": {
     "duration": 0.010911,
     "end_time": "2024-01-08T22:03:41.954566",
     "exception": false,
     "start_time": "2024-01-08T22:03:41.943655",
     "status": "completed"
    },
    "tags": []
   },
   "source": [
    "### ztest и chi2"
   ]
  },
  {
   "cell_type": "code",
   "execution_count": 21,
   "id": "bc297841",
   "metadata": {
    "execution": {
     "iopub.execute_input": "2024-01-08T22:03:41.978913Z",
     "iopub.status.busy": "2024-01-08T22:03:41.978530Z",
     "iopub.status.idle": "2024-01-08T22:03:41.990870Z",
     "shell.execute_reply": "2024-01-08T22:03:41.989743Z"
    },
    "papermill": {
     "duration": 0.026995,
     "end_time": "2024-01-08T22:03:41.992839",
     "exception": false,
     "start_time": "2024-01-08T22:03:41.965844",
     "status": "completed"
    },
    "tags": []
   },
   "outputs": [
    {
     "name": "stdout",
     "output_type": "stream",
     "text": [
      "Сan't reject H0. p-value=0.29282068359112357\n",
      "Сan't reject H0. p-value=0.359002052778134\n"
     ]
    }
   ],
   "source": [
    "group1 = data_cleared[data_cleared.VARIANT_NAME == 'control'].IS_PAYED\n",
    "group2 = data_cleared[data_cleared.VARIANT_NAME == 'variant'].IS_PAYED\n",
    "\n",
    "get_ztest( group1, group2 )\n",
    "get_chi2test( group1, group2 )\n",
    "\n",
    "del group1, group2"
   ]
  },
  {
   "cell_type": "markdown",
   "id": "aa60ccc8",
   "metadata": {
    "papermill": {
     "duration": 0.010983,
     "end_time": "2024-01-08T22:03:42.015449",
     "exception": false,
     "start_time": "2024-01-08T22:03:42.004466",
     "status": "completed"
    },
    "tags": []
   },
   "source": [
    "### bootstrap"
   ]
  },
  {
   "cell_type": "code",
   "execution_count": 22,
   "id": "c3bc2d5e",
   "metadata": {
    "execution": {
     "iopub.execute_input": "2024-01-08T22:03:42.039408Z",
     "iopub.status.busy": "2024-01-08T22:03:42.038820Z",
     "iopub.status.idle": "2024-01-08T22:03:45.396388Z",
     "shell.execute_reply": "2024-01-08T22:03:45.395137Z"
    },
    "papermill": {
     "duration": 3.371806,
     "end_time": "2024-01-08T22:03:45.398338",
     "exception": false,
     "start_time": "2024-01-08T22:03:42.026532",
     "status": "completed"
    },
    "tags": []
   },
   "outputs": [
    {
     "data": {
      "application/vnd.jupyter.widget-view+json": {
       "model_id": "19eb5bbe384e41cdbb5dc75ecec0fa5f",
       "version_major": 2,
       "version_minor": 0
      },
      "text/plain": [
       "  0%|          | 0/10000 [00:00<?, ?it/s]"
      ]
     },
     "metadata": {},
     "output_type": "display_data"
    },
    {
     "data": {
      "image/png": "[encoded data removed]",
      "text/plain": [
       "<Figure size 640x480 with 1 Axes>"
      ]
     },
     "metadata": {},
     "output_type": "display_data"
    },
    {
     "name": "stdout",
     "output_type": "stream",
     "text": [
      "p_value: 0.29345495477466466\n",
      "quants:\n",
      "0.025   -0.003761\n",
      "0.975    0.012119\n",
      "Name: 0, dtype: float64\n",
      "Сan't reject H0\n"
     ]
    }
   ],
   "source": [
    "bootstrap_result = get_bootstrap(\n",
    "    data_cleared[data_cleared.VARIANT_NAME == 'control'].IS_PAYED.apply(lambda x: 1 if x == True else 0),\n",
    "    data_cleared[data_cleared.VARIANT_NAME == 'variant'].IS_PAYED.apply(lambda x: 1 if x == True else 0),\n",
    "    10000\n",
    ")\n",
    "\n",
    "print('p_value: {}\\nquants:\\n{}'.format(bootstrap_result['p_value'], bootstrap_result['quants'][0]))\n",
    "\n",
    "if bootstrap_result['p_value'] < 0.05: print('H0 rejected')\n",
    "else: print('Сan\\'t reject H0')"
   ]
  },
  {
   "cell_type": "markdown",
   "id": "13241a8b",
   "metadata": {
    "papermill": {
     "duration": 0.011255,
     "end_time": "2024-01-08T22:03:45.421442",
     "exception": false,
     "start_time": "2024-01-08T22:03:45.410187",
     "status": "completed"
    },
    "tags": []
   },
   "source": [
    "## 2. ARPU"
   ]
  },
  {
   "cell_type": "code",
   "execution_count": 23,
   "id": "32ad1918",
   "metadata": {
    "execution": {
     "iopub.execute_input": "2024-01-08T22:03:45.446818Z",
     "iopub.status.busy": "2024-01-08T22:03:45.446440Z",
     "iopub.status.idle": "2024-01-08T22:03:45.455991Z",
     "shell.execute_reply": "2024-01-08T22:03:45.454875Z"
    },
    "papermill": {
     "duration": 0.024956,
     "end_time": "2024-01-08T22:03:45.458279",
     "exception": false,
     "start_time": "2024-01-08T22:03:45.433323",
     "status": "completed"
    },
    "tags": []
   },
   "outputs": [
    {
     "data": {
      "text/plain": [
       "LeveneResult(statistic=4.143071854978669, pvalue=0.04186029862965452)"
      ]
     },
     "execution_count": 23,
     "metadata": {},
     "output_type": "execute_result"
    }
   ],
   "source": [
    "# H0: Дисперсии во всех группах равны (гомогенны)\n",
    "# H1: Дисперсии в каких-то группах отличаются (гетерогенны)\n",
    "\n",
    "stats.levene(    \n",
    "    data_cleared[data_cleared.VARIANT_NAME == 'control'].REVENUE,\n",
    "    data_cleared[data_cleared.VARIANT_NAME == 'variant'].REVENUE, \n",
    "    center='mean'\n",
    ")"
   ]
  },
  {
   "cell_type": "markdown",
   "id": "3495abfd",
   "metadata": {
    "papermill": {
     "duration": 0.011699,
     "end_time": "2024-01-08T22:03:45.482565",
     "exception": false,
     "start_time": "2024-01-08T22:03:45.470866",
     "status": "completed"
    },
    "tags": []
   },
   "source": [
    "### A/A-тест и FPR-метрика"
   ]
  },
  {
   "cell_type": "code",
   "execution_count": 24,
   "id": "6d8f5f65",
   "metadata": {
    "execution": {
     "iopub.execute_input": "2024-01-08T22:03:45.509193Z",
     "iopub.status.busy": "2024-01-08T22:03:45.508697Z",
     "iopub.status.idle": "2024-01-08T22:03:56.940655Z",
     "shell.execute_reply": "2024-01-08T22:03:56.939655Z"
    },
    "papermill": {
     "duration": 11.447801,
     "end_time": "2024-01-08T22:03:56.942329",
     "exception": false,
     "start_time": "2024-01-08T22:03:45.494528",
     "status": "completed"
    },
    "tags": []
   },
   "outputs": [
    {
     "data": {
      "application/vnd.jupyter.widget-view+json": {
       "model_id": "4638cbe90d934cd184dbcc882bdd2bf0",
       "version_major": 2,
       "version_minor": 0
      },
      "text/plain": [
       "  0%|          | 0/10000 [00:00<?, ?it/s]"
      ]
     },
     "metadata": {},
     "output_type": "display_data"
    },
    {
     "name": "stdout",
     "output_type": "stream",
     "text": [
      "FPR=0.0, те 0.0% p-values оказались меньше либо равны 0.05\n"
     ]
    },
    {
     "data": {
      "image/png": "[encoded data removed]",
      "text/plain": [
       "<Figure size 640x480 with 1 Axes>"
      ]
     },
     "metadata": {},
     "output_type": "display_data"
    }
   ],
   "source": [
    "aatest_sim(\n",
    "    data_cleared[data_cleared.VARIANT_NAME == 'control'].REVENUE,\n",
    "    stattest=ttest_welch,\n",
    "    sample_size=0.9,\n",
    "    simulations=10000,\n",
    "    replace=False, \n",
    "    visualization=True,\n",
    "    pvalue=0.05\n",
    ")"
   ]
  },
  {
   "cell_type": "markdown",
   "id": "92cd53d4",
   "metadata": {
    "papermill": {
     "duration": 0.011705,
     "end_time": "2024-01-08T22:03:56.966703",
     "exception": false,
     "start_time": "2024-01-08T22:03:56.954998",
     "status": "completed"
    },
    "tags": []
   },
   "source": [
    "### bootstrap"
   ]
  },
  {
   "cell_type": "code",
   "execution_count": 25,
   "id": "cf792a20",
   "metadata": {
    "execution": {
     "iopub.execute_input": "2024-01-08T22:03:56.992550Z",
     "iopub.status.busy": "2024-01-08T22:03:56.992240Z",
     "iopub.status.idle": "2024-01-08T22:04:00.342120Z",
     "shell.execute_reply": "2024-01-08T22:04:00.340979Z"
    },
    "papermill": {
     "duration": 3.364952,
     "end_time": "2024-01-08T22:04:00.343999",
     "exception": false,
     "start_time": "2024-01-08T22:03:56.979047",
     "status": "completed"
    },
    "tags": []
   },
   "outputs": [
    {
     "data": {
      "application/vnd.jupyter.widget-view+json": {
       "model_id": "c8d1bf2b989d473ba92b8c168ebbff81",
       "version_major": 2,
       "version_minor": 0
      },
      "text/plain": [
       "  0%|          | 0/10000 [00:00<?, ?it/s]"
      ]
     },
     "metadata": {},
     "output_type": "display_data"
    },
    {
     "data": {
      "image/png": "[encoded data removed]",
      "text/plain": [
       "<Figure size 640x480 with 1 Axes>"
      ]
     },
     "metadata": {},
     "output_type": "display_data"
    },
    {
     "name": "stdout",
     "output_type": "stream",
     "text": [
      "p_value: 0.29790659897449767\n",
      "quants:\n",
      "0.025   -0.023624\n",
      "0.975    0.080089\n",
      "Name: 0, dtype: float64\n",
      "Сan't reject H0\n"
     ]
    }
   ],
   "source": [
    "bootstrap_result = get_bootstrap(\n",
    "    data_cleared[data_cleared.VARIANT_NAME == 'control'].REVENUE,\n",
    "    data_cleared[data_cleared.VARIANT_NAME == 'variant'].REVENUE,\n",
    "    10000\n",
    ")\n",
    "\n",
    "print('p_value: {}\\nquants:\\n{}'.format(bootstrap_result['p_value'], bootstrap_result['quants'][0]))\n",
    "\n",
    "if bootstrap_result['p_value'] < 0.05: print('H0 rejected')\n",
    "else: print('Сan\\'t reject H0')"
   ]
  },
  {
   "cell_type": "markdown",
   "id": "142db6c6",
   "metadata": {
    "papermill": {
     "duration": 0.012969,
     "end_time": "2024-01-08T22:04:00.369978",
     "exception": false,
     "start_time": "2024-01-08T22:04:00.357009",
     "status": "completed"
    },
    "tags": []
   },
   "source": [
    "### t-test"
   ]
  },
  {
   "cell_type": "code",
   "execution_count": 26,
   "id": "343d39eb",
   "metadata": {
    "execution": {
     "iopub.execute_input": "2024-01-08T22:04:00.397120Z",
     "iopub.status.busy": "2024-01-08T22:04:00.396763Z",
     "iopub.status.idle": "2024-01-08T22:04:00.407626Z",
     "shell.execute_reply": "2024-01-08T22:04:00.406646Z"
    },
    "papermill": {
     "duration": 0.027373,
     "end_time": "2024-01-08T22:04:00.410394",
     "exception": false,
     "start_time": "2024-01-08T22:04:00.383021",
     "status": "completed"
    },
    "tags": []
   },
   "outputs": [
    {
     "name": "stdout",
     "output_type": "stream",
     "text": [
      "Сan't reject H0. p-value=0.302315752284478\n",
      "Сan't reject H0. p-value=0.30239230098896447\n"
     ]
    }
   ],
   "source": [
    "group1 = data_cleared[data_cleared.VARIANT_NAME == 'control'].REVENUE\n",
    "group2 = data_cleared[data_cleared.VARIANT_NAME == 'variant'].REVENUE\n",
    "\n",
    "ttest_student( group1, group2, True )\n",
    "ttest_welch( group1, group2, True )\n",
    "\n",
    "del group1, group2"
   ]
  },
  {
   "cell_type": "markdown",
   "id": "fea3ac8f",
   "metadata": {
    "papermill": {
     "duration": 0.013118,
     "end_time": "2024-01-08T22:04:00.437022",
     "exception": false,
     "start_time": "2024-01-08T22:04:00.423904",
     "status": "completed"
    },
    "tags": []
   },
   "source": [
    "# Вывод"
   ]
  },
  {
   "cell_type": "markdown",
   "id": "9cf444c9",
   "metadata": {
    "papermill": {
     "duration": 0.012394,
     "end_time": "2024-01-08T22:04:00.463083",
     "exception": false,
     "start_time": "2024-01-08T22:04:00.450689",
     "status": "completed"
    },
    "tags": []
   },
   "source": [
    "На основе проведенных тестов, мы не можем отвергнуть H0 ни в отношении конверсии в покупку, ни в отношении arpu."
   ]
  }
 ],
 "metadata": {
  "kaggle": {
   "accelerator": "none",
   "dataSources": [
    {
     "datasetId": 2479030,
     "sourceId": 4213024,
     "sourceType": "datasetVersion"
    }
   ],
   "dockerImageVersionId": 30626,
   "isGpuEnabled": false,
   "isInternetEnabled": true,
   "language": "python",
   "sourceType": "notebook"
  },
  "kernelspec": {
   "display_name": "Python 3",
   "language": "python",
   "name": "python3"
  },
  "language_info": {
   "codemirror_mode": {
    "name": "ipython",
    "version": 3
   },
   "file_extension": ".py",
   "mimetype": "text/x-python",
   "name": "python",
   "nbconvert_exporter": "python",
   "pygments_lexer": "ipython3",
   "version": "3.10.12"
  },
  "papermill": {
   "default_parameters": {},
   "duration": 30.587094,
   "end_time": "2024-01-08T22:04:00.996837",
   "environment_variables": {},
   "exception": null,
   "input_path": "__notebook__.ipynb",
   "output_path": "__notebook__.ipynb",
   "parameters": {},
   "start_time": "2024-01-08T22:03:30.409743",
   "version": "2.4.0"
  },
  "widgets": {
   "application/vnd.jupyter.widget-state+json": {
    "state": {
     "04595ee4dcd24ebdbcd6ac4b33a85a3c": {
      "model_module": "@jupyter-widgets/controls",
      "model_module_version": "1.5.0",
      "model_name": "FloatProgressModel",
      "state": {
       "_dom_classes": [],
       "_model_module": "@jupyter-widgets/controls",
       "_model_module_version": "1.5.0",
       "_model_name": "FloatProgressModel",
       "_view_count": null,
       "_view_module": "@jupyter-widgets/controls",
       "_view_module_version": "1.5.0",
       "_view_name": "ProgressView",
       "bar_style": "success",
       "description": "",
       "description_tooltip": null,
       "layout": "IPY_MODEL_68ccce1241e94ba39d792fd99474d7cc",
       "max": 10000.0,
       "min": 0.0,
       "orientation": "horizontal",
       "style": "IPY_MODEL_52e98795c7ea4c9ba6b6cc57dbdd65c0",
       "value": 10000.0
      }
     },
     "077be3923f9442f7949a5bda968d5a82": {
      "model_module": "@jupyter-widgets/base",
      "model_module_version": "1.2.0",
      "model_name": "LayoutModel",
      "state": {
       "_model_module": "@jupyter-widgets/base",
       "_model_module_version": "1.2.0",
       "_model_name": "LayoutModel",
       "_view_count": null,
       "_view_module": "@jupyter-widgets/base",
       "_view_module_version": "1.2.0",
       "_view_name": "LayoutView",
       "align_content": null,
       "align_items": null,
       "align_self": null,
       "border": null,
       "bottom": null,
       "display": null,
       "flex": null,
       "flex_flow": null,
       "grid_area": null,
       "grid_auto_columns": null,
       "grid_auto_flow": null,
       "grid_auto_rows": null,
       "grid_column": null,
       "grid_gap": null,
       "grid_row": null,
       "grid_template_areas": null,
       "grid_template_columns": null,
       "grid_template_rows": null,
       "height": null,
       "justify_content": null,
       "justify_items": null,
       "left": null,
       "margin": null,
       "max_height": null,
       "max_width": null,
       "min_height": null,
       "min_width": null,
       "object_fit": null,
       "object_position": null,
       "order": null,
       "overflow": null,
       "overflow_x": null,
       "overflow_y": null,
       "padding": null,
       "right": null,
       "top": null,
       "visibility": null,
       "width": null
      }
     },
     "099adb42dbde4bb5855cb8bcff779371": {
      "model_module": "@jupyter-widgets/controls",
      "model_module_version": "1.5.0",
      "model_name": "ProgressStyleModel",
      "state": {
       "_model_module": "@jupyter-widgets/controls",
       "_model_module_version": "1.5.0",
       "_model_name": "ProgressStyleModel",
       "_view_count": null,
       "_view_module": "@jupyter-widgets/base",
       "_view_module_version": "1.2.0",
       "_view_name": "StyleView",
       "bar_color": null,
       "description_width": ""
      }
     },
     "0a92eb74aae14671b219a3f590d92e41": {
      "model_module": "@jupyter-widgets/controls",
      "model_module_version": "1.5.0",
      "model_name": "ProgressStyleModel",
      "state": {
       "_model_module": "@jupyter-widgets/controls",
       "_model_module_version": "1.5.0",
       "_model_name": "ProgressStyleModel",
       "_view_count": null,
       "_view_module": "@jupyter-widgets/base",
       "_view_module_version": "1.2.0",
       "_view_name": "StyleView",
       "bar_color": null,
       "description_width": ""
      }
     },
     "10b6874ed7f24a30b126f12837909a5e": {
      "model_module": "@jupyter-widgets/base",
      "model_module_version": "1.2.0",
      "model_name": "LayoutModel",
      "state": {
       "_model_module": "@jupyter-widgets/base",
       "_model_module_version": "1.2.0",
       "_model_name": "LayoutModel",
       "_view_count": null,
       "_view_module": "@jupyter-widgets/base",
       "_view_module_version": "1.2.0",
       "_view_name": "LayoutView",
       "align_content": null,
       "align_items": null,
       "align_self": null,
       "border": null,
       "bottom": null,
       "display": null,
       "flex": null,
       "flex_flow": null,
       "grid_area": null,
       "grid_auto_columns": null,
       "grid_auto_flow": null,
       "grid_auto_rows": null,
       "grid_column": null,
       "grid_gap": null,
       "grid_row": null,
       "grid_template_areas": null,
       "grid_template_columns": null,
       "grid_template_rows": null,
       "height": null,
       "justify_content": null,
       "justify_items": null,
       "left": null,
       "margin": null,
       "max_height": null,
       "max_width": null,
       "min_height": null,
       "min_width": null,
       "object_fit": null,
       "object_position": null,
       "order": null,
       "overflow": null,
       "overflow_x": null,
       "overflow_y": null,
       "padding": null,
       "right": null,
       "top": null,
       "visibility": null,
       "width": null
      }
     },
     "193231182fa04060a7cc809d5a287efe": {
      "model_module": "@jupyter-widgets/controls",
      "model_module_version": "1.5.0",
      "model_name": "HTMLModel",
      "state": {
       "_dom_classes": [],
       "_model_module": "@jupyter-widgets/controls",
       "_model_module_version": "1.5.0",
       "_model_name": "HTMLModel",
       "_view_count": null,
       "_view_module": "@jupyter-widgets/controls",
       "_view_module_version": "1.5.0",
       "_view_name": "HTMLView",
       "description": "",
       "description_tooltip": null,
       "layout": "IPY_MODEL_10b6874ed7f24a30b126f12837909a5e",
       "placeholder": "​",
       "style": "IPY_MODEL_f0cf9eb49411484487de2cb003912632",
       "value": "100%"
      }
     },
     "19eb5bbe384e41cdbb5dc75ecec0fa5f": {
      "model_module": "@jupyter-widgets/controls",
      "model_module_version": "1.5.0",
      "model_name": "HBoxModel",
      "state": {
       "_dom_classes": [],
       "_model_module": "@jupyter-widgets/controls",
       "_model_module_version": "1.5.0",
       "_model_name": "HBoxModel",
       "_view_count": null,
       "_view_module": "@jupyter-widgets/controls",
       "_view_module_version": "1.5.0",
       "_view_name": "HBoxView",
       "box_style": "",
       "children": [
        "IPY_MODEL_193231182fa04060a7cc809d5a287efe",
        "IPY_MODEL_04595ee4dcd24ebdbcd6ac4b33a85a3c",
        "IPY_MODEL_600bf82257814c50a7d906a64751825b"
       ],
       "layout": "IPY_MODEL_be45e202dd4443c1880a11a6de2686ac"
      }
     },
     "229fee78beb240099a1ec040716eccb5": {
      "model_module": "@jupyter-widgets/base",
      "model_module_version": "1.2.0",
      "model_name": "LayoutModel",
      "state": {
       "_model_module": "@jupyter-widgets/base",
       "_model_module_version": "1.2.0",
       "_model_name": "LayoutModel",
       "_view_count": null,
       "_view_module": "@jupyter-widgets/base",
       "_view_module_version": "1.2.0",
       "_view_name": "LayoutView",
       "align_content": null,
       "align_items": null,
       "align_self": null,
       "border": null,
       "bottom": null,
       "display": null,
       "flex": null,
       "flex_flow": null,
       "grid_area": null,
       "grid_auto_columns": null,
       "grid_auto_flow": null,
       "grid_auto_rows": null,
       "grid_column": null,
       "grid_gap": null,
       "grid_row": null,
       "grid_template_areas": null,
       "grid_template_columns": null,
       "grid_template_rows": null,
       "height": null,
       "justify_content": null,
       "justify_items": null,
       "left": null,
       "margin": null,
       "max_height": null,
       "max_width": null,
       "min_height": null,
       "min_width": null,
       "object_fit": null,
       "object_position": null,
       "order": null,
       "overflow": null,
       "overflow_x": null,
       "overflow_y": null,
       "padding": null,
       "right": null,
       "top": null,
       "visibility": null,
       "width": null
      }
     },
     "254102f0a29f48baa2409a107ae6ffdb": {
      "model_module": "@jupyter-widgets/controls",
      "model_module_version": "1.5.0",
      "model_name": "HBoxModel",
      "state": {
       "_dom_classes": [],
       "_model_module": "@jupyter-widgets/controls",
       "_model_module_version": "1.5.0",
       "_model_name": "HBoxModel",
       "_view_count": null,
       "_view_module": "@jupyter-widgets/controls",
       "_view_module_version": "1.5.0",
       "_view_name": "HBoxView",
       "box_style": "",
       "children": [
        "IPY_MODEL_89b4087dd754440188077a252eb9d208",
        "IPY_MODEL_aa9a0266391e40819977b4bdf5a943ce",
        "IPY_MODEL_75ec99df37b243c9941be942a9cb4aab"
       ],
       "layout": "IPY_MODEL_b0948315081f460dba1847580e8f8417"
      }
     },
     "2aefe08eb10f48e89f36ea6b2e862d11": {
      "model_module": "@jupyter-widgets/base",
      "model_module_version": "1.2.0",
      "model_name": "LayoutModel",
      "state": {
       "_model_module": "@jupyter-widgets/base",
       "_model_module_version": "1.2.0",
       "_model_name": "LayoutModel",
       "_view_count": null,
       "_view_module": "@jupyter-widgets/base",
       "_view_module_version": "1.2.0",
       "_view_name": "LayoutView",
       "align_content": null,
       "align_items": null,
       "align_self": null,
       "border": null,
       "bottom": null,
       "display": null,
       "flex": null,
       "flex_flow": null,
       "grid_area": null,
       "grid_auto_columns": null,
       "grid_auto_flow": null,
       "grid_auto_rows": null,
       "grid_column": null,
       "grid_gap": null,
       "grid_row": null,
       "grid_template_areas": null,
       "grid_template_columns": null,
       "grid_template_rows": null,
       "height": null,
       "justify_content": null,
       "justify_items": null,
       "left": null,
       "margin": null,
       "max_height": null,
       "max_width": null,
       "min_height": null,
       "min_width": null,
       "object_fit": null,
       "object_position": null,
       "order": null,
       "overflow": null,
       "overflow_x": null,
       "overflow_y": null,
       "padding": null,
       "right": null,
       "top": null,
       "visibility": null,
       "width": null
      }
     },
     "379ba047795c47f1909bc88cc4fec26b": {
      "model_module": "@jupyter-widgets/controls",
      "model_module_version": "1.5.0",
      "model_name": "DescriptionStyleModel",
      "state": {
       "_model_module": "@jupyter-widgets/controls",
       "_model_module_version": "1.5.0",
       "_model_name": "DescriptionStyleModel",
       "_view_count": null,
       "_view_module": "@jupyter-widgets/base",
       "_view_module_version": "1.2.0",
       "_view_name": "StyleView",
       "description_width": ""
      }
     },
     "390c8df39a3f49f78b55474df90eab96": {
      "model_module": "@jupyter-widgets/base",
      "model_module_version": "1.2.0",
      "model_name": "LayoutModel",
      "state": {
       "_model_module": "@jupyter-widgets/base",
       "_model_module_version": "1.2.0",
       "_model_name": "LayoutModel",
       "_view_count": null,
       "_view_module": "@jupyter-widgets/base",
       "_view_module_version": "1.2.0",
       "_view_name": "LayoutView",
       "align_content": null,
       "align_items": null,
       "align_self": null,
       "border": null,
       "bottom": null,
       "display": null,
       "flex": null,
       "flex_flow": null,
       "grid_area": null,
       "grid_auto_columns": null,
       "grid_auto_flow": null,
       "grid_auto_rows": null,
       "grid_column": null,
       "grid_gap": null,
       "grid_row": null,
       "grid_template_areas": null,
       "grid_template_columns": null,
       "grid_template_rows": null,
       "height": null,
       "justify_content": null,
       "justify_items": null,
       "left": null,
       "margin": null,
       "max_height": null,
       "max_width": null,
       "min_height": null,
       "min_width": null,
       "object_fit": null,
       "object_position": null,
       "order": null,
       "overflow": null,
       "overflow_x": null,
       "overflow_y": null,
       "padding": null,
       "right": null,
       "top": null,
       "visibility": null,
       "width": null
      }
     },
     "3d8fbb753c974b60af5a7d826271b2b7": {
      "model_module": "@jupyter-widgets/controls",
      "model_module_version": "1.5.0",
      "model_name": "HTMLModel",
      "state": {
       "_dom_classes": [],
       "_model_module": "@jupyter-widgets/controls",
       "_model_module_version": "1.5.0",
       "_model_name": "HTMLModel",
       "_view_count": null,
       "_view_module": "@jupyter-widgets/controls",
       "_view_module_version": "1.5.0",
       "_view_name": "HTMLView",
       "description": "",
       "description_tooltip": null,
       "layout": "IPY_MODEL_93a9a10790f84063be41584f1e8748f2",
       "placeholder": "​",
       "style": "IPY_MODEL_5870eb0300b14daaa53d08829173f919",
       "value": "100%"
      }
     },
     "458d6fc4115947b08bc196ba55e7e779": {
      "model_module": "@jupyter-widgets/base",
      "model_module_version": "1.2.0",
      "model_name": "LayoutModel",
      "state": {
       "_model_module": "@jupyter-widgets/base",
       "_model_module_version": "1.2.0",
       "_model_name": "LayoutModel",
       "_view_count": null,
       "_view_module": "@jupyter-widgets/base",
       "_view_module_version": "1.2.0",
       "_view_name": "LayoutView",
       "align_content": null,
       "align_items": null,
       "align_self": null,
       "border": null,
       "bottom": null,
       "display": null,
       "flex": null,
       "flex_flow": null,
       "grid_area": null,
       "grid_auto_columns": null,
       "grid_auto_flow": null,
       "grid_auto_rows": null,
       "grid_column": null,
       "grid_gap": null,
       "grid_row": null,
       "grid_template_areas": null,
       "grid_template_columns": null,
       "grid_template_rows": null,
       "height": null,
       "justify_content": null,
       "justify_items": null,
       "left": null,
       "margin": null,
       "max_height": null,
       "max_width": null,
       "min_height": null,
       "min_width": null,
       "object_fit": null,
       "object_position": null,
       "order": null,
       "overflow": null,
       "overflow_x": null,
       "overflow_y": null,
       "padding": null,
       "right": null,
       "top": null,
       "visibility": null,
       "width": null
      }
     },
     "4638cbe90d934cd184dbcc882bdd2bf0": {
      "model_module": "@jupyter-widgets/controls",
      "model_module_version": "1.5.0",
      "model_name": "HBoxModel",
      "state": {
       "_dom_classes": [],
       "_model_module": "@jupyter-widgets/controls",
       "_model_module_version": "1.5.0",
       "_model_name": "HBoxModel",
       "_view_count": null,
       "_view_module": "@jupyter-widgets/controls",
       "_view_module_version": "1.5.0",
       "_view_name": "HBoxView",
       "box_style": "",
       "children": [
        "IPY_MODEL_69089bfcbd364cd68aa8b0f2e8485354",
        "IPY_MODEL_dd87799bc47346ddbf1746eda266fcf8",
        "IPY_MODEL_50db4856955c47769a004a31703d9a49"
       ],
       "layout": "IPY_MODEL_9629376ce7534c34a55acea6c89ca641"
      }
     },
     "50db4856955c47769a004a31703d9a49": {
      "model_module": "@jupyter-widgets/controls",
      "model_module_version": "1.5.0",
      "model_name": "HTMLModel",
      "state": {
       "_dom_classes": [],
       "_model_module": "@jupyter-widgets/controls",
       "_model_module_version": "1.5.0",
       "_model_name": "HTMLModel",
       "_view_count": null,
       "_view_module": "@jupyter-widgets/controls",
       "_view_module_version": "1.5.0",
       "_view_name": "HTMLView",
       "description": "",
       "description_tooltip": null,
       "layout": "IPY_MODEL_390c8df39a3f49f78b55474df90eab96",
       "placeholder": "​",
       "style": "IPY_MODEL_af89f5f7f0f1443f8d7e00ac335a2c5c",
       "value": " 10000/10000 [00:11&lt;00:00, 863.87it/s]"
      }
     },
     "52e98795c7ea4c9ba6b6cc57dbdd65c0": {
      "model_module": "@jupyter-widgets/controls",
      "model_module_version": "1.5.0",
      "model_name": "ProgressStyleModel",
      "state": {
       "_model_module": "@jupyter-widgets/controls",
       "_model_module_version": "1.5.0",
       "_model_name": "ProgressStyleModel",
       "_view_count": null,
       "_view_module": "@jupyter-widgets/base",
       "_view_module_version": "1.2.0",
       "_view_name": "StyleView",
       "bar_color": null,
       "description_width": ""
      }
     },
     "5870eb0300b14daaa53d08829173f919": {
      "model_module": "@jupyter-widgets/controls",
      "model_module_version": "1.5.0",
      "model_name": "DescriptionStyleModel",
      "state": {
       "_model_module": "@jupyter-widgets/controls",
       "_model_module_version": "1.5.0",
       "_model_name": "DescriptionStyleModel",
       "_view_count": null,
       "_view_module": "@jupyter-widgets/base",
       "_view_module_version": "1.2.0",
       "_view_name": "StyleView",
       "description_width": ""
      }
     },
     "600bf82257814c50a7d906a64751825b": {
      "model_module": "@jupyter-widgets/controls",
      "model_module_version": "1.5.0",
      "model_name": "HTMLModel",
      "state": {
       "_dom_classes": [],
       "_model_module": "@jupyter-widgets/controls",
       "_model_module_version": "1.5.0",
       "_model_name": "HTMLModel",
       "_view_count": null,
       "_view_module": "@jupyter-widgets/controls",
       "_view_module_version": "1.5.0",
       "_view_name": "HTMLView",
       "description": "",
       "description_tooltip": null,
       "layout": "IPY_MODEL_7bf9ccb6978b4c999b33e6b24d6afe85",
       "placeholder": "​",
       "style": "IPY_MODEL_9983879f5dea45208a17ee3aee7fb5ce",
       "value": " 10000/10000 [00:03&lt;00:00, 3266.30it/s]"
      }
     },
     "68ccce1241e94ba39d792fd99474d7cc": {
      "model_module": "@jupyter-widgets/base",
      "model_module_version": "1.2.0",
      "model_name": "LayoutModel",
      "state": {
       "_model_module": "@jupyter-widgets/base",
       "_model_module_version": "1.2.0",
       "_model_name": "LayoutModel",
       "_view_count": null,
       "_view_module": "@jupyter-widgets/base",
       "_view_module_version": "1.2.0",
       "_view_name": "LayoutView",
       "align_content": null,
       "align_items": null,
       "align_self": null,
       "border": null,
       "bottom": null,
       "display": null,
       "flex": null,
       "flex_flow": null,
       "grid_area": null,
       "grid_auto_columns": null,
       "grid_auto_flow": null,
       "grid_auto_rows": null,
       "grid_column": null,
       "grid_gap": null,
       "grid_row": null,
       "grid_template_areas": null,
       "grid_template_columns": null,
       "grid_template_rows": null,
       "height": null,
       "justify_content": null,
       "justify_items": null,
       "left": null,
       "margin": null,
       "max_height": null,
       "max_width": null,
       "min_height": null,
       "min_width": null,
       "object_fit": null,
       "object_position": null,
       "order": null,
       "overflow": null,
       "overflow_x": null,
       "overflow_y": null,
       "padding": null,
       "right": null,
       "top": null,
       "visibility": null,
       "width": null
      }
     },
     "69089bfcbd364cd68aa8b0f2e8485354": {
      "model_module": "@jupyter-widgets/controls",
      "model_module_version": "1.5.0",
      "model_name": "HTMLModel",
      "state": {
       "_dom_classes": [],
       "_model_module": "@jupyter-widgets/controls",
       "_model_module_version": "1.5.0",
       "_model_name": "HTMLModel",
       "_view_count": null,
       "_view_module": "@jupyter-widgets/controls",
       "_view_module_version": "1.5.0",
       "_view_name": "HTMLView",
       "description": "",
       "description_tooltip": null,
       "layout": "IPY_MODEL_e95fe14a98ba4bb1a04795523230e7e0",
       "placeholder": "​",
       "style": "IPY_MODEL_c88a19d4a343415c8ddaab6247ce26a5",
       "value": "100%"
      }
     },
     "72cbad6256ba41d48a3d936200db8d3c": {
      "model_module": "@jupyter-widgets/controls",
      "model_module_version": "1.5.0",
      "model_name": "HTMLModel",
      "state": {
       "_dom_classes": [],
       "_model_module": "@jupyter-widgets/controls",
       "_model_module_version": "1.5.0",
       "_model_name": "HTMLModel",
       "_view_count": null,
       "_view_module": "@jupyter-widgets/controls",
       "_view_module_version": "1.5.0",
       "_view_name": "HTMLView",
       "description": "",
       "description_tooltip": null,
       "layout": "IPY_MODEL_fb4a6205694447d69d4b638c50595c6a",
       "placeholder": "​",
       "style": "IPY_MODEL_e00476cf90f74f73a80d5c1c984fd8dd",
       "value": " 10000/10000 [00:02&lt;00:00, 3384.19it/s]"
      }
     },
     "75b946caa4d449fb94c18bd8646835d3": {
      "model_module": "@jupyter-widgets/base",
      "model_module_version": "1.2.0",
      "model_name": "LayoutModel",
      "state": {
       "_model_module": "@jupyter-widgets/base",
       "_model_module_version": "1.2.0",
       "_model_name": "LayoutModel",
       "_view_count": null,
       "_view_module": "@jupyter-widgets/base",
       "_view_module_version": "1.2.0",
       "_view_name": "LayoutView",
       "align_content": null,
       "align_items": null,
       "align_self": null,
       "border": null,
       "bottom": null,
       "display": null,
       "flex": null,
       "flex_flow": null,
       "grid_area": null,
       "grid_auto_columns": null,
       "grid_auto_flow": null,
       "grid_auto_rows": null,
       "grid_column": null,
       "grid_gap": null,
       "grid_row": null,
       "grid_template_areas": null,
       "grid_template_columns": null,
       "grid_template_rows": null,
       "height": null,
       "justify_content": null,
       "justify_items": null,
       "left": null,
       "margin": null,
       "max_height": null,
       "max_width": null,
       "min_height": null,
       "min_width": null,
       "object_fit": null,
       "object_position": null,
       "order": null,
       "overflow": null,
       "overflow_x": null,
       "overflow_y": null,
       "padding": null,
       "right": null,
       "top": null,
       "visibility": null,
       "width": null
      }
     },
     "75ec99df37b243c9941be942a9cb4aab": {
      "model_module": "@jupyter-widgets/controls",
      "model_module_version": "1.5.0",
      "model_name": "HTMLModel",
      "state": {
       "_dom_classes": [],
       "_model_module": "@jupyter-widgets/controls",
       "_model_module_version": "1.5.0",
       "_model_name": "HTMLModel",
       "_view_count": null,
       "_view_module": "@jupyter-widgets/controls",
       "_view_module_version": "1.5.0",
       "_view_name": "HTMLView",
       "description": "",
       "description_tooltip": null,
       "layout": "IPY_MODEL_2aefe08eb10f48e89f36ea6b2e862d11",
       "placeholder": "​",
       "style": "IPY_MODEL_7af1ea726199489cbb3aa83cf065e8c8",
       "value": " 10000/10000 [00:04&lt;00:00, 2003.67it/s]"
      }
     },
     "7af1ea726199489cbb3aa83cf065e8c8": {
      "model_module": "@jupyter-widgets/controls",
      "model_module_version": "1.5.0",
      "model_name": "DescriptionStyleModel",
      "state": {
       "_model_module": "@jupyter-widgets/controls",
       "_model_module_version": "1.5.0",
       "_model_name": "DescriptionStyleModel",
       "_view_count": null,
       "_view_module": "@jupyter-widgets/base",
       "_view_module_version": "1.2.0",
       "_view_name": "StyleView",
       "description_width": ""
      }
     },
     "7bf9ccb6978b4c999b33e6b24d6afe85": {
      "model_module": "@jupyter-widgets/base",
      "model_module_version": "1.2.0",
      "model_name": "LayoutModel",
      "state": {
       "_model_module": "@jupyter-widgets/base",
       "_model_module_version": "1.2.0",
       "_model_name": "LayoutModel",
       "_view_count": null,
       "_view_module": "@jupyter-widgets/base",
       "_view_module_version": "1.2.0",
       "_view_name": "LayoutView",
       "align_content": null,
       "align_items": null,
       "align_self": null,
       "border": null,
       "bottom": null,
       "display": null,
       "flex": null,
       "flex_flow": null,
       "grid_area": null,
       "grid_auto_columns": null,
       "grid_auto_flow": null,
       "grid_auto_rows": null,
       "grid_column": null,
       "grid_gap": null,
       "grid_row": null,
       "grid_template_areas": null,
       "grid_template_columns": null,
       "grid_template_rows": null,
       "height": null,
       "justify_content": null,
       "justify_items": null,
       "left": null,
       "margin": null,
       "max_height": null,
       "max_width": null,
       "min_height": null,
       "min_width": null,
       "object_fit": null,
       "object_position": null,
       "order": null,
       "overflow": null,
       "overflow_x": null,
       "overflow_y": null,
       "padding": null,
       "right": null,
       "top": null,
       "visibility": null,
       "width": null
      }
     },
     "8049ac94b16d4f1c83792f547b1ac915": {
      "model_module": "@jupyter-widgets/base",
      "model_module_version": "1.2.0",
      "model_name": "LayoutModel",
      "state": {
       "_model_module": "@jupyter-widgets/base",
       "_model_module_version": "1.2.0",
       "_model_name": "LayoutModel",
       "_view_count": null,
       "_view_module": "@jupyter-widgets/base",
       "_view_module_version": "1.2.0",
       "_view_name": "LayoutView",
       "align_content": null,
       "align_items": null,
       "align_self": null,
       "border": null,
       "bottom": null,
       "display": null,
       "flex": null,
       "flex_flow": null,
       "grid_area": null,
       "grid_auto_columns": null,
       "grid_auto_flow": null,
       "grid_auto_rows": null,
       "grid_column": null,
       "grid_gap": null,
       "grid_row": null,
       "grid_template_areas": null,
       "grid_template_columns": null,
       "grid_template_rows": null,
       "height": null,
       "justify_content": null,
       "justify_items": null,
       "left": null,
       "margin": null,
       "max_height": null,
       "max_width": null,
       "min_height": null,
       "min_width": null,
       "object_fit": null,
       "object_position": null,
       "order": null,
       "overflow": null,
       "overflow_x": null,
       "overflow_y": null,
       "padding": null,
       "right": null,
       "top": null,
       "visibility": null,
       "width": null
      }
     },
     "89b4087dd754440188077a252eb9d208": {
      "model_module": "@jupyter-widgets/controls",
      "model_module_version": "1.5.0",
      "model_name": "HTMLModel",
      "state": {
       "_dom_classes": [],
       "_model_module": "@jupyter-widgets/controls",
       "_model_module_version": "1.5.0",
       "_model_name": "HTMLModel",
       "_view_count": null,
       "_view_module": "@jupyter-widgets/controls",
       "_view_module_version": "1.5.0",
       "_view_name": "HTMLView",
       "description": "",
       "description_tooltip": null,
       "layout": "IPY_MODEL_458d6fc4115947b08bc196ba55e7e779",
       "placeholder": "​",
       "style": "IPY_MODEL_379ba047795c47f1909bc88cc4fec26b",
       "value": "100%"
      }
     },
     "93a9a10790f84063be41584f1e8748f2": {
      "model_module": "@jupyter-widgets/base",
      "model_module_version": "1.2.0",
      "model_name": "LayoutModel",
      "state": {
       "_model_module": "@jupyter-widgets/base",
       "_model_module_version": "1.2.0",
       "_model_name": "LayoutModel",
       "_view_count": null,
       "_view_module": "@jupyter-widgets/base",
       "_view_module_version": "1.2.0",
       "_view_name": "LayoutView",
       "align_content": null,
       "align_items": null,
       "align_self": null,
       "border": null,
       "bottom": null,
       "display": null,
       "flex": null,
       "flex_flow": null,
       "grid_area": null,
       "grid_auto_columns": null,
       "grid_auto_flow": null,
       "grid_auto_rows": null,
       "grid_column": null,
       "grid_gap": null,
       "grid_row": null,
       "grid_template_areas": null,
       "grid_template_columns": null,
       "grid_template_rows": null,
       "height": null,
       "justify_content": null,
       "justify_items": null,
       "left": null,
       "margin": null,
       "max_height": null,
       "max_width": null,
       "min_height": null,
       "min_width": null,
       "object_fit": null,
       "object_position": null,
       "order": null,
       "overflow": null,
       "overflow_x": null,
       "overflow_y": null,
       "padding": null,
       "right": null,
       "top": null,
       "visibility": null,
       "width": null
      }
     },
     "9629376ce7534c34a55acea6c89ca641": {
      "model_module": "@jupyter-widgets/base",
      "model_module_version": "1.2.0",
      "model_name": "LayoutModel",
      "state": {
       "_model_module": "@jupyter-widgets/base",
       "_model_module_version": "1.2.0",
       "_model_name": "LayoutModel",
       "_view_count": null,
       "_view_module": "@jupyter-widgets/base",
       "_view_module_version": "1.2.0",
       "_view_name": "LayoutView",
       "align_content": null,
       "align_items": null,
       "align_self": null,
       "border": null,
       "bottom": null,
       "display": null,
       "flex": null,
       "flex_flow": null,
       "grid_area": null,
       "grid_auto_columns": null,
       "grid_auto_flow": null,
       "grid_auto_rows": null,
       "grid_column": null,
       "grid_gap": null,
       "grid_row": null,
       "grid_template_areas": null,
       "grid_template_columns": null,
       "grid_template_rows": null,
       "height": null,
       "justify_content": null,
       "justify_items": null,
       "left": null,
       "margin": null,
       "max_height": null,
       "max_width": null,
       "min_height": null,
       "min_width": null,
       "object_fit": null,
       "object_position": null,
       "order": null,
       "overflow": null,
       "overflow_x": null,
       "overflow_y": null,
       "padding": null,
       "right": null,
       "top": null,
       "visibility": null,
       "width": null
      }
     },
     "9983879f5dea45208a17ee3aee7fb5ce": {
      "model_module": "@jupyter-widgets/controls",
      "model_module_version": "1.5.0",
      "model_name": "DescriptionStyleModel",
      "state": {
       "_model_module": "@jupyter-widgets/controls",
       "_model_module_version": "1.5.0",
       "_model_name": "DescriptionStyleModel",
       "_view_count": null,
       "_view_module": "@jupyter-widgets/base",
       "_view_module_version": "1.2.0",
       "_view_name": "StyleView",
       "description_width": ""
      }
     },
     "aa9a0266391e40819977b4bdf5a943ce": {
      "model_module": "@jupyter-widgets/controls",
      "model_module_version": "1.5.0",
      "model_name": "FloatProgressModel",
      "state": {
       "_dom_classes": [],
       "_model_module": "@jupyter-widgets/controls",
       "_model_module_version": "1.5.0",
       "_model_name": "FloatProgressModel",
       "_view_count": null,
       "_view_module": "@jupyter-widgets/controls",
       "_view_module_version": "1.5.0",
       "_view_name": "ProgressView",
       "bar_style": "success",
       "description": "",
       "description_tooltip": null,
       "layout": "IPY_MODEL_077be3923f9442f7949a5bda968d5a82",
       "max": 10000.0,
       "min": 0.0,
       "orientation": "horizontal",
       "style": "IPY_MODEL_d24d88b3dc5144299a389e1e39ba88fb",
       "value": 10000.0
      }
     },
     "ae70eca69a844e65a53cfe13c2a8cbf6": {
      "model_module": "@jupyter-widgets/controls",
      "model_module_version": "1.5.0",
      "model_name": "FloatProgressModel",
      "state": {
       "_dom_classes": [],
       "_model_module": "@jupyter-widgets/controls",
       "_model_module_version": "1.5.0",
       "_model_name": "FloatProgressModel",
       "_view_count": null,
       "_view_module": "@jupyter-widgets/controls",
       "_view_module_version": "1.5.0",
       "_view_name": "ProgressView",
       "bar_style": "success",
       "description": "",
       "description_tooltip": null,
       "layout": "IPY_MODEL_8049ac94b16d4f1c83792f547b1ac915",
       "max": 10000.0,
       "min": 0.0,
       "orientation": "horizontal",
       "style": "IPY_MODEL_099adb42dbde4bb5855cb8bcff779371",
       "value": 10000.0
      }
     },
     "af89f5f7f0f1443f8d7e00ac335a2c5c": {
      "model_module": "@jupyter-widgets/controls",
      "model_module_version": "1.5.0",
      "model_name": "DescriptionStyleModel",
      "state": {
       "_model_module": "@jupyter-widgets/controls",
       "_model_module_version": "1.5.0",
       "_model_name": "DescriptionStyleModel",
       "_view_count": null,
       "_view_module": "@jupyter-widgets/base",
       "_view_module_version": "1.2.0",
       "_view_name": "StyleView",
       "description_width": ""
      }
     },
     "b0948315081f460dba1847580e8f8417": {
      "model_module": "@jupyter-widgets/base",
      "model_module_version": "1.2.0",
      "model_name": "LayoutModel",
      "state": {
       "_model_module": "@jupyter-widgets/base",
       "_model_module_version": "1.2.0",
       "_model_name": "LayoutModel",
       "_view_count": null,
       "_view_module": "@jupyter-widgets/base",
       "_view_module_version": "1.2.0",
       "_view_name": "LayoutView",
       "align_content": null,
       "align_items": null,
       "align_self": null,
       "border": null,
       "bottom": null,
       "display": null,
       "flex": null,
       "flex_flow": null,
       "grid_area": null,
       "grid_auto_columns": null,
       "grid_auto_flow": null,
       "grid_auto_rows": null,
       "grid_column": null,
       "grid_gap": null,
       "grid_row": null,
       "grid_template_areas": null,
       "grid_template_columns": null,
       "grid_template_rows": null,
       "height": null,
       "justify_content": null,
       "justify_items": null,
       "left": null,
       "margin": null,
       "max_height": null,
       "max_width": null,
       "min_height": null,
       "min_width": null,
       "object_fit": null,
       "object_position": null,
       "order": null,
       "overflow": null,
       "overflow_x": null,
       "overflow_y": null,
       "padding": null,
       "right": null,
       "top": null,
       "visibility": null,
       "width": null
      }
     },
     "be45e202dd4443c1880a11a6de2686ac": {
      "model_module": "@jupyter-widgets/base",
      "model_module_version": "1.2.0",
      "model_name": "LayoutModel",
      "state": {
       "_model_module": "@jupyter-widgets/base",
       "_model_module_version": "1.2.0",
       "_model_name": "LayoutModel",
       "_view_count": null,
       "_view_module": "@jupyter-widgets/base",
       "_view_module_version": "1.2.0",
       "_view_name": "LayoutView",
       "align_content": null,
       "align_items": null,
       "align_self": null,
       "border": null,
       "bottom": null,
       "display": null,
       "flex": null,
       "flex_flow": null,
       "grid_area": null,
       "grid_auto_columns": null,
       "grid_auto_flow": null,
       "grid_auto_rows": null,
       "grid_column": null,
       "grid_gap": null,
       "grid_row": null,
       "grid_template_areas": null,
       "grid_template_columns": null,
       "grid_template_rows": null,
       "height": null,
       "justify_content": null,
       "justify_items": null,
       "left": null,
       "margin": null,
       "max_height": null,
       "max_width": null,
       "min_height": null,
       "min_width": null,
       "object_fit": null,
       "object_position": null,
       "order": null,
       "overflow": null,
       "overflow_x": null,
       "overflow_y": null,
       "padding": null,
       "right": null,
       "top": null,
       "visibility": null,
       "width": null
      }
     },
     "c88a19d4a343415c8ddaab6247ce26a5": {
      "model_module": "@jupyter-widgets/controls",
      "model_module_version": "1.5.0",
      "model_name": "DescriptionStyleModel",
      "state": {
       "_model_module": "@jupyter-widgets/controls",
       "_model_module_version": "1.5.0",
       "_model_name": "DescriptionStyleModel",
       "_view_count": null,
       "_view_module": "@jupyter-widgets/base",
       "_view_module_version": "1.2.0",
       "_view_name": "StyleView",
       "description_width": ""
      }
     },
     "c8d1bf2b989d473ba92b8c168ebbff81": {
      "model_module": "@jupyter-widgets/controls",
      "model_module_version": "1.5.0",
      "model_name": "HBoxModel",
      "state": {
       "_dom_classes": [],
       "_model_module": "@jupyter-widgets/controls",
       "_model_module_version": "1.5.0",
       "_model_name": "HBoxModel",
       "_view_count": null,
       "_view_module": "@jupyter-widgets/controls",
       "_view_module_version": "1.5.0",
       "_view_name": "HBoxView",
       "box_style": "",
       "children": [
        "IPY_MODEL_3d8fbb753c974b60af5a7d826271b2b7",
        "IPY_MODEL_ae70eca69a844e65a53cfe13c2a8cbf6",
        "IPY_MODEL_72cbad6256ba41d48a3d936200db8d3c"
       ],
       "layout": "IPY_MODEL_75b946caa4d449fb94c18bd8646835d3"
      }
     },
     "d24d88b3dc5144299a389e1e39ba88fb": {
      "model_module": "@jupyter-widgets/controls",
      "model_module_version": "1.5.0",
      "model_name": "ProgressStyleModel",
      "state": {
       "_model_module": "@jupyter-widgets/controls",
       "_model_module_version": "1.5.0",
       "_model_name": "ProgressStyleModel",
       "_view_count": null,
       "_view_module": "@jupyter-widgets/base",
       "_view_module_version": "1.2.0",
       "_view_name": "StyleView",
       "bar_color": null,
       "description_width": ""
      }
     },
     "dd87799bc47346ddbf1746eda266fcf8": {
      "model_module": "@jupyter-widgets/controls",
      "model_module_version": "1.5.0",
      "model_name": "FloatProgressModel",
      "state": {
       "_dom_classes": [],
       "_model_module": "@jupyter-widgets/controls",
       "_model_module_version": "1.5.0",
       "_model_name": "FloatProgressModel",
       "_view_count": null,
       "_view_module": "@jupyter-widgets/controls",
       "_view_module_version": "1.5.0",
       "_view_name": "ProgressView",
       "bar_style": "success",
       "description": "",
       "description_tooltip": null,
       "layout": "IPY_MODEL_229fee78beb240099a1ec040716eccb5",
       "max": 10000.0,
       "min": 0.0,
       "orientation": "horizontal",
       "style": "IPY_MODEL_0a92eb74aae14671b219a3f590d92e41",
       "value": 10000.0
      }
     },
     "e00476cf90f74f73a80d5c1c984fd8dd": {
      "model_module": "@jupyter-widgets/controls",
      "model_module_version": "1.5.0",
      "model_name": "DescriptionStyleModel",
      "state": {
       "_model_module": "@jupyter-widgets/controls",
       "_model_module_version": "1.5.0",
       "_model_name": "DescriptionStyleModel",
       "_view_count": null,
       "_view_module": "@jupyter-widgets/base",
       "_view_module_version": "1.2.0",
       "_view_name": "StyleView",
       "description_width": ""
      }
     },
     "e95fe14a98ba4bb1a04795523230e7e0": {
      "model_module": "@jupyter-widgets/base",
      "model_module_version": "1.2.0",
      "model_name": "LayoutModel",
      "state": {
       "_model_module": "@jupyter-widgets/base",
       "_model_module_version": "1.2.0",
       "_model_name": "LayoutModel",
       "_view_count": null,
       "_view_module": "@jupyter-widgets/base",
       "_view_module_version": "1.2.0",
       "_view_name": "LayoutView",
       "align_content": null,
       "align_items": null,
       "align_self": null,
       "border": null,
       "bottom": null,
       "display": null,
       "flex": null,
       "flex_flow": null,
       "grid_area": null,
       "grid_auto_columns": null,
       "grid_auto_flow": null,
       "grid_auto_rows": null,
       "grid_column": null,
       "grid_gap": null,
       "grid_row": null,
       "grid_template_areas": null,
       "grid_template_columns": null,
       "grid_template_rows": null,
       "height": null,
       "justify_content": null,
       "justify_items": null,
       "left": null,
       "margin": null,
       "max_height": null,
       "max_width": null,
       "min_height": null,
       "min_width": null,
       "object_fit": null,
       "object_position": null,
       "order": null,
       "overflow": null,
       "overflow_x": null,
       "overflow_y": null,
       "padding": null,
       "right": null,
       "top": null,
       "visibility": null,
       "width": null
      }
     },
     "f0cf9eb49411484487de2cb003912632": {
      "model_module": "@jupyter-widgets/controls",
      "model_module_version": "1.5.0",
      "model_name": "DescriptionStyleModel",
      "state": {
       "_model_module": "@jupyter-widgets/controls",
       "_model_module_version": "1.5.0",
       "_model_name": "DescriptionStyleModel",
       "_view_count": null,
       "_view_module": "@jupyter-widgets/base",
       "_view_module_version": "1.2.0",
       "_view_name": "StyleView",
       "description_width": ""
      }
     },
     "fb4a6205694447d69d4b638c50595c6a": {
      "model_module": "@jupyter-widgets/base",
      "model_module_version": "1.2.0",
      "model_name": "LayoutModel",
      "state": {
       "_model_module": "@jupyter-widgets/base",
       "_model_module_version": "1.2.0",
       "_model_name": "LayoutModel",
       "_view_count": null,
       "_view_module": "@jupyter-widgets/base",
       "_view_module_version": "1.2.0",
       "_view_name": "LayoutView",
       "align_content": null,
       "align_items": null,
       "align_self": null,
       "border": null,
       "bottom": null,
       "display": null,
       "flex": null,
       "flex_flow": null,
       "grid_area": null,
       "grid_auto_columns": null,
       "grid_auto_flow": null,
       "grid_auto_rows": null,
       "grid_column": null,
       "grid_gap": null,
       "grid_row": null,
       "grid_template_areas": null,
       "grid_template_columns": null,
       "grid_template_rows": null,
       "height": null,
       "justify_content": null,
       "justify_items": null,
       "left": null,
       "margin": null,
       "max_height": null,
       "max_width": null,
       "min_height": null,
       "min_width": null,
       "object_fit": null,
       "object_position": null,
       "order": null,
       "overflow": null,
       "overflow_x": null,
       "overflow_y": null,
       "padding": null,
       "right": null,
       "top": null,
       "visibility": null,
       "width": null
      }
     }
    },
    "version_major": 2,
    "version_minor": 0
   }
  }
 },
 "nbformat": 4,
 "nbformat_minor": 5
}
